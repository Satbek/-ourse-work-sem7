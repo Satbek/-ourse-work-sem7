{
 "cells": [
  {
   "cell_type": "code",
   "execution_count": 241,
   "metadata": {},
   "outputs": [],
   "source": [
    "import numpy as np\n",
    "from scipy import signal"
   ]
  },
  {
   "cell_type": "code",
   "execution_count": 242,
   "metadata": {},
   "outputs": [],
   "source": [
    "H_h = np.array([1, -1])/np.sqrt(2)\n",
    "H_l = np.array([1, 1])/np.sqrt(2)"
   ]
  },
  {
   "cell_type": "code",
   "execution_count": 243,
   "metadata": {},
   "outputs": [],
   "source": [
    "F_2 = np.arange(1,17, dtype=float)\n",
    "F_2 = F_2.reshape(4,4)"
   ]
  },
  {
   "cell_type": "code",
   "execution_count": 244,
   "metadata": {},
   "outputs": [],
   "source": [
    "def down_sample(array ,sample_factor):\n",
    "    array = np.array(array, dtype=float)\n",
    "    array = array[::sample_factor]\n",
    "    if (len(array.shape) == 2):\n",
    "        array = array.transpose()\n",
    "        array = array[::sample_factor]\n",
    "    return array"
   ]
  },
  {
   "cell_type": "code",
   "execution_count": 245,
   "metadata": {},
   "outputs": [],
   "source": [
    "def convolve(array, kernel):\n",
    "    array = np.array(array, dtype=float)\n",
    "    res = np.convolve(np.array(array),np.array(kernel), mode='full')\n",
    "    res = res[len(kernel) - 1::]\n",
    "    return res"
   ]
  },
  {
   "cell_type": "code",
   "execution_count": 246,
   "metadata": {
    "collapsed": true
   },
   "outputs": [],
   "source": [
    "def fried_model_gradient(image):\n",
    "    X = np.array(image, dtype=float)\n",
    "    Y = np.array(image, dtype=float)\n",
    "    H_h = np.array([1,-1])\n",
    "    H_l = np.array([1, 1])\n",
    "    for i in range(len(image)):\n",
    "        X[i,:] = convolve(X[i,:],H_h)\n",
    "        Y[:,i] = convolve(Y[:,i],H_h)\n",
    "    for i in range(len(image)):\n",
    "        X[:,i] = convolve(X[:,i],H_l)\n",
    "        Y[i,:] = convolve(Y[i,:],H_l)\n",
    "    return X * 0.5, Y * 0.5"
   ]
  },
  {
   "cell_type": "code",
   "execution_count": 430,
   "metadata": {
    "collapsed": true
   },
   "outputs": [],
   "source": [
    "from scipy.signal import convolve2d as conv2d\n",
    "def convolve_2d(array_2d, kernel, mode):\n",
    "    res = np.array(array_2d, dtype=float)\n",
    "    kernel = np.array(kernel)\n",
    "    if (mode == 'horizontal'):\n",
    "        res = conv2d(res, kernel[None, :])\n",
    "        res = res[:,len(kernel)-1:]\n",
    "    if (mode == 'vertical'):\n",
    "        res = conv2d(res, kernel[:, None])\n",
    "        res = res[len(kernel)-1:,:]\n",
    "    return res"
   ]
  },
  {
   "cell_type": "markdown",
   "metadata": {},
   "source": [
    "# Простая матрица LL квадрант\n"
   ]
  },
  {
   "cell_type": "code",
   "execution_count": 380,
   "metadata": {},
   "outputs": [
    {
     "data": {
      "text/plain": [
       "array([[ 4.,  4.],\n",
       "       [ 4.,  4.]])"
      ]
     },
     "execution_count": 380,
     "metadata": {},
     "output_type": "execute_result"
    }
   ],
   "source": [
    "X_2, Y_2 = fried_model_gradient(F_2)\n",
    "F_2_hl = down_sample(X_2,2)\n",
    "F_2_lh = down_sample(Y_2,2)\n",
    "F_2_lh"
   ]
  },
  {
   "cell_type": "code",
   "execution_count": 342,
   "metadata": {},
   "outputs": [
    {
     "data": {
      "text/plain": [
       "array([[ 4.]])"
      ]
     },
     "execution_count": 342,
     "metadata": {},
     "output_type": "execute_result"
    }
   ],
   "source": [
    "tmp1 = convolve_2d(X_2, H_l, mode='horizontal')\n",
    "tmp2 = convolve_2d(tmp1, H_l, mode='horizontal')\n",
    "X_1 = down_sample(np.sqrt(2) * convolve_2d(tmp2, np.array([1,0,1])/np.sqrt(2), mode='vertical'), 2)\n",
    "F_0_hl = down_sample(X_1, 2)\n",
    "F_0_hl"
   ]
  },
  {
   "cell_type": "code",
   "execution_count": 405,
   "metadata": {},
   "outputs": [
    {
     "data": {
      "text/plain": [
       "array([[ 16.]])"
      ]
     },
     "execution_count": 405,
     "metadata": {},
     "output_type": "execute_result"
    }
   ],
   "source": [
    "tmp1 = convolve_2d(Y_2, np.array([1,0,1])/np.sqrt(2), mode = 'horizontal')\n",
    "tmp2 = convolve_2d(tmp1, H_l, mode = 'vertical')\n",
    "Y_1 = np.sqrt(2) * down_sample(convolve_2d(tmp2, H_l, mode = 'vertical'), 2)\n",
    "F_0_lh = down_sample(Y_1, 2)\n",
    "F_0_lh"
   ]
  },
  {
   "cell_type": "code",
   "execution_count": 363,
   "metadata": {},
   "outputs": [],
   "source": [
    "tmp1 = convolve_2d(Y_2, np.array([1,0,-1])/np.sqrt(2), mode = 'horizontal')\n",
    "tmp2 = convolve_2d(tmp1, H_l, mode = 'vertical')\n",
    "tmp3 = convolve_2d(tmp2, H_l, mode = 'vertical')\n",
    "F_0_hh = np.sqrt(2) * down_sample(tmp3, 4)"
   ]
  },
  {
   "cell_type": "code",
   "execution_count": 403,
   "metadata": {},
   "outputs": [],
   "source": [
    "F_0_ll = np.array([[np.mean(F_2)]])\n",
    "F_0_ll = F_0_ll * 4"
   ]
  },
  {
   "cell_type": "code",
   "execution_count": 365,
   "metadata": {},
   "outputs": [],
   "source": [
    "tmp_1 = convolve_2d(X_2, H_l, mode = 'horizontal')\n",
    "tmp_2 = convolve_2d(tmp1, H_l, mode = 'horizontal')\n",
    "tmp_3 = convolve_2d(tmp2, np.array([1,0,-1])/np.sqrt(2), mode = 'vertical')\n",
    "F_0_hh = np.sqrt(2) * down_sample(tmp3, 4)"
   ]
  },
  {
   "cell_type": "code",
   "execution_count": 421,
   "metadata": {},
   "outputs": [
    {
     "data": {
      "text/plain": [
       "array([[  0.00000000e+00,   4.44089210e-16],\n",
       "       [ -4.44089210e-16,   0.00000000e+00]])"
      ]
     },
     "execution_count": 421,
     "metadata": {},
     "output_type": "execute_result"
    }
   ],
   "source": [
    "import pywt\n",
    "coeffs = pywt.dwt2(F_2, 'haar')\n",
    "cA, (cH, cV, cD) = coeffs\n",
    "coeffs = pywt.dwt2(cA, 'haar')\n",
    "coeffs\n",
    "cD"
   ]
  },
  {
   "cell_type": "code",
   "execution_count": 429,
   "metadata": {},
   "outputs": [
    {
     "data": {
      "text/plain": [
       "array([[  1.,   2.,   3.,   4.],\n",
       "       [  5.,   6.,   7.,   8.],\n",
       "       [  9.,  10.,  11.,  12.],\n",
       "       [ 13.,  14.,  15.,  16.]])"
      ]
     },
     "execution_count": 429,
     "metadata": {},
     "output_type": "execute_result"
    }
   ],
   "source": [
    "my_coefs = np.array([F_0_ll, (-F_0_lh,-F_0_hl, -F_0_hh)])\n",
    "tmp1 = pywt.idwt2(my_coefs,'haar')\n",
    "im = pywt.idwt2([tmp1, (-F_2_lh, -F_2_hl, np.array([[0,0],[0,0]]))], 'haar')\n",
    "im"
   ]
  },
  {
   "cell_type": "markdown",
   "metadata": {},
   "source": [
    "# HH квадрант"
   ]
  },
  {
   "cell_type": "code",
   "execution_count": null,
   "metadata": {
    "collapsed": true
   },
   "outputs": [],
   "source": [
    "X_h = "
   ]
  }
 ],
 "metadata": {
  "kernelspec": {
   "display_name": "Python 3",
   "language": "python",
   "name": "python3"
  },
  "language_info": {
   "codemirror_mode": {
    "name": "ipython",
    "version": 3
   },
   "file_extension": ".py",
   "mimetype": "text/x-python",
   "name": "python",
   "nbconvert_exporter": "python",
   "pygments_lexer": "ipython3",
   "version": "3.6.1"
  }
 },
 "nbformat": 4,
 "nbformat_minor": 2
}
