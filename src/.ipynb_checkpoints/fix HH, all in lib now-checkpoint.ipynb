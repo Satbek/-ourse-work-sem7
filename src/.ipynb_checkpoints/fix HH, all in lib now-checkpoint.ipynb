{
 "cells": [
  {
   "cell_type": "code",
   "execution_count": 16,
   "metadata": {},
   "outputs": [],
   "source": [
    "import lib\n",
    "import pywt\n",
    "import numpy as np"
   ]
  },
  {
   "cell_type": "code",
   "execution_count": 33,
   "metadata": {},
   "outputs": [],
   "source": [
    "def mse(A, B):\n",
    "    return ((A - B) ** 2).mean()"
   ]
  },
  {
   "cell_type": "code",
   "execution_count": 2,
   "metadata": {},
   "outputs": [],
   "source": [
    "def create_random_M_x_M_matrix( m, type_ ):\n",
    "    return (np.random.random(m * m).reshape(64,64) * 100).astype(type_)"
   ]
  },
  {
   "cell_type": "code",
   "execution_count": 3,
   "metadata": {},
   "outputs": [],
   "source": [
    "exmpl = create_random_M_x_M_matrix(64, int)"
   ]
  },
  {
   "cell_type": "code",
   "execution_count": 4,
   "metadata": {},
   "outputs": [],
   "source": [
    "X, Y = lib.fried_model_gradient(exmpl)\n",
    "X_H, Y_H = lib.Hudgin_gradien_model(exmpl)"
   ]
  },
  {
   "cell_type": "code",
   "execution_count": 24,
   "metadata": {},
   "outputs": [],
   "source": [
    "LH = dict()\n",
    "my_LH = dict()"
   ]
  },
  {
   "cell_type": "code",
   "execution_count": 25,
   "metadata": {
    "collapsed": true
   },
   "outputs": [],
   "source": [
    "LH[5] = pywt.dwt2(exmpl, 'haar')[1][0]"
   ]
  },
  {
   "cell_type": "code",
   "execution_count": 26,
   "metadata": {},
   "outputs": [],
   "source": [
    "my_LH[5] = -lib.GetLH(m=1, Y=Y).T"
   ]
  },
  {
   "cell_type": "code",
   "execution_count": 34,
   "metadata": {},
   "outputs": [
    {
     "data": {
      "text/plain": [
       "1.3286881149061953e-28"
      ]
     },
     "execution_count": 34,
     "metadata": {},
     "output_type": "execute_result"
    }
   ],
   "source": [
    "mse(my_LH[5], LH[5])"
   ]
  },
  {
   "cell_type": "code",
   "execution_count": 41,
   "metadata": {
    "collapsed": true
   },
   "outputs": [],
   "source": [
    "def compare_LH_HL(matrix):\n",
    "    M = int(np.log2(len(matrix)))\n",
    "    X, Y = lib.fried_model_gradient(matrix)\n",
    "    buf = matrix\n",
    "    LH = dict()\n",
    "    my_LH = dict()\n",
    "    HL = dict()\n",
    "    my_HL = dict()\n",
    "    mse_res = dict()\n",
    "    for i in range(M)[::-1]:\n",
    "        my_LH[i] = -lib.GetLH(m= M - i, Y = Y).T\n",
    "        LH[i] = pywt.dwt2(buf, 'haar')[1][0]\n",
    "        my_HL[i] = -lib.GetHL(m= M - i, X = X).T\n",
    "        HL[i] = pywt.dwt2(buf, 'haar')[1][1]\n",
    "        buf = pywt.dwt2(buf, 'haar')[0]\n",
    "        mse_res[i] = np.array( [ mse( my_LH[i], LH[i] ), mse( my_HL[i], HL[i] ) ] )\n",
    "    return mse_res"
   ]
  },
  {
   "cell_type": "code",
   "execution_count": 42,
   "metadata": {},
   "outputs": [
    {
     "data": {
      "text/plain": [
       "{0: array([  1.58327539e-25,   4.08945493e-27]),\n",
       " 1: array([  1.47455853e-26,   7.58253102e-27]),\n",
       " 2: array([  5.25299087e-27,   8.50803743e-27]),\n",
       " 3: array([  1.67406915e-27,   1.53489222e-27]),\n",
       " 4: array([  4.72971273e-28,   6.61763829e-28]),\n",
       " 5: array([  1.32868811e-28,   1.58148123e-28])}"
      ]
     },
     "execution_count": 42,
     "metadata": {},
     "output_type": "execute_result"
    }
   ],
   "source": [
    "compare_LH_HL(exmpl)"
   ]
  },
  {
   "cell_type": "code",
   "execution_count": 47,
   "metadata": {},
   "outputs": [],
   "source": [
    "my_HH = lib.get_HH(X_H, Y_H)"
   ]
  },
  {
   "cell_type": "code",
   "execution_count": 50,
   "metadata": {
    "collapsed": true
   },
   "outputs": [],
   "source": [
    "HH = pywt.dwt2(exmpl, 'haar')[1][-1].T"
   ]
  },
  {
   "cell_type": "code",
   "execution_count": 51,
   "metadata": {},
   "outputs": [
    {
     "data": {
      "text/plain": [
       "4.6147240520244955e-29"
      ]
     },
     "execution_count": 51,
     "metadata": {},
     "output_type": "execute_result"
    }
   ],
   "source": [
    "mse(my_HH, HH)"
   ]
  },
  {
   "cell_type": "code",
   "execution_count": 67,
   "metadata": {},
   "outputs": [],
   "source": [
    "HH = pywt.dwt2(pywt.dwt2(exmpl, 'haar')[0], 'haar')[1][-1]"
   ]
  },
  {
   "cell_type": "code",
   "execution_count": 70,
   "metadata": {},
   "outputs": [],
   "source": [
    "#m=2\n",
    "coef = np.sqrt(2)\n",
    "buf = lib.convolve_2d(X, lib.GetH_l(2**0), 'horizontal')\n",
    "buf = lib.convolve_2d(buf, lib.GetH_l(2**0), 'horizontal')\n",
    "buf = lib.convolve_2d(buf, lib.GetH_h(2**1), 'vertical')\n",
    "buf *= coef\n",
    "buf = lib.down_sample(buf, 4)"
   ]
  },
  {
   "cell_type": "code",
   "execution_count": 71,
   "metadata": {},
   "outputs": [
    {
     "data": {
      "text/plain": [
       "array([[ 36.25, -31.5 , -35.  , -21.75,  64.25,   8.5 ,  11.  , -44.  ,\n",
       "          5.75, -10.25,  -9.25,   5.75,   7.25, -79.25, -50.5 ,  31.25],\n",
       "       [-17.75, -11.  ,  36.75,  -9.5 ,  -9.75,   8.75,  14.  ,  19.25,\n",
       "         -5.25, -17.25,   8.5 ,  13.25,  20.5 , -11.  ,  -0.75,  -1.25],\n",
       "       [ 56.  ,  17.25,   3.25, -23.25,   4.75, -21.75, -30.5 , -41.5 ,\n",
       "        -37.75, -26.  , -23.5 ,  45.  ,   8.75,   5.25,  14.75, -67.25],\n",
       "       [-14.5 ,   9.75,  13.25,  16.25, -12.5 ,  43.25,  14.25, -23.  ,\n",
       "        -34.  ,   6.75,  -1.  , -24.5 ,  11.5 ,  77.  , -50.  ,   3.25],\n",
       "       [  0.75, -39.75,  11.75,   2.5 , -29.5 , -71.  ,  80.75,  -3.  ,\n",
       "         20.  ,  17.75,   4.25, -10.  ,  39.5 , -27.5 ,  29.25,  57.  ],\n",
       "       [ 16.  ,  22.75, -33.5 , -30.  ,  61.  , -24.5 ,   3.5 ,   6.75,\n",
       "         11.  , -21.25,  -7.75, -28.25, -77.5 ,   9.5 ,  -5.5 , -15.  ],\n",
       "       [ 23.  ,  -0.75,  -8.5 , -55.25,   6.75,  -8.25,  -3.75, -27.5 ,\n",
       "        -25.25,  -1.75,  57.75, -38.75, -20.  ,   9.75,  16.5 , -23.5 ],\n",
       "       [-21.75,  31.75,  -0.75, -21.75, -21.5 , -19.25,  37.  ,  69.  ,\n",
       "         -6.75,  29.  ,  -7.75, -28.5 , -21.  ,   4.75, -19.  ,  24.5 ],\n",
       "       [-50.75, -20.  ,  -3.25, -11.75,  -4.25,  24.5 , -58.  ,   4.5 ,\n",
       "        -38.5 , -19.5 , -42.  ,  35.5 ,  20.  , -21.75,  47.25,  19.25],\n",
       "       [  6.25,  34.5 , -15.75,  11.  , -37.  , -18.75,  73.75, -38.  ,\n",
       "         48.5 ,  15.25,  20.5 ,   5.75,   5.75,  -4.5 , -11.75, -43.25],\n",
       "       [ 32.75,   4.5 , -29.  ,  -6.75, -23.75,  15.  ,  38.5 ,  15.75,\n",
       "         32.5 ,   4.75,  -1.25,  46.25,  45.25,  33.5 ,  71.25,  38.25],\n",
       "       [-11.25, -39.25, -45.75,   9.75,  14.25,  16.25, -44.75,   5.25,\n",
       "          2.75, -18.5 ,  29.25, -18.  ,  -7.25, -40.75,  43.75,   3.25],\n",
       "       [-14.25,   5.25, -18.25, -34.75, -17.5 , -40.5 ,   5.  , -11.5 ,\n",
       "        -44.25,  33.5 ,  -8.5 ,  39.  , -19.75,  67.  ,  13.5 , -17.75],\n",
       "       [  6.75,  20.5 ,  12.25, -14.5 ,   6.5 ,   0.75,  -6.25, -40.75,\n",
       "        -22.25,  -1.25,  34.75,   2.25,  31.25,  23.5 , -29.25, -41.5 ],\n",
       "       [-13.  ,  -2.75, -14.75, -16.25, -23.25,  10.25,   5.5 ,  41.25,\n",
       "        -54.5 , -55.75,  53.5 , -12.25,   4.  ,   7.5 , -18.75,  -4.5 ],\n",
       "       [ 12.  ,  -5.  ,  -6.75,  20.75,  -1.5 , -16.25,  -6.75,  31.5 ,\n",
       "         31.5 ,   9.75,  -3.25, -26.5 , -54.75,  24.25, -17.5 ,  -7.75]])"
      ]
     },
     "execution_count": 71,
     "metadata": {},
     "output_type": "execute_result"
    }
   ],
   "source": [
    "buf.T"
   ]
  },
  {
   "cell_type": "code",
   "execution_count": 72,
   "metadata": {},
   "outputs": [
    {
     "data": {
      "text/plain": [
       "5.3032142133279573e-28"
      ]
     },
     "execution_count": 72,
     "metadata": {},
     "output_type": "execute_result"
    }
   ],
   "source": [
    "mse(HH, buf.T)"
   ]
  },
  {
   "cell_type": "code",
   "execution_count": null,
   "metadata": {
    "collapsed": true
   },
   "outputs": [],
   "source": [
    "def GetHH(X, m) :#m>=2\n",
    "    coef = np.sqrt(2)\n",
    "    buf = lib.convolve_2d(X, lib.GetH_l(2**0), 'horizontal')\n",
    "    buf = lib.convolve_2d(buf, lib.GetH_l(2**0), 'horizontal')\n",
    "    buf = lib.convolve_2d(buf, lib.GetH_h(2**(m - 1)), 'vertical')\n",
    "    if (m == 2) :\n",
    "        return lib.down_sample(buf, 4) * coef\n",
    "    for k in range(1, m - 1):\n",
    "        buf = lib.convolve_2d(X, lib.GetH_l(2**k), 'horizontal')\n",
    "        buf = lib.convolve_2d(buf, lib.GetH_l(2**k), 'horizontal')\n",
    "        "
   ]
  }
 ],
 "metadata": {
  "kernelspec": {
   "display_name": "Python 3",
   "language": "python",
   "name": "python3"
  },
  "language_info": {
   "codemirror_mode": {
    "name": "ipython",
    "version": 3
   },
   "file_extension": ".py",
   "mimetype": "text/x-python",
   "name": "python",
   "nbconvert_exporter": "python",
   "pygments_lexer": "ipython3",
   "version": "3.6.1"
  }
 },
 "nbformat": 4,
 "nbformat_minor": 2
}
