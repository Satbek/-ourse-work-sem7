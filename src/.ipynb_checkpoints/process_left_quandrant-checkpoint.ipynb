{
 "cells": [
  {
   "cell_type": "code",
   "execution_count": 1,
   "metadata": {
    "collapsed": true
   },
   "outputs": [],
   "source": [
    "import numpy as np\n",
    "import pywt\n",
    "from scipy import signal\n",
    "from sklearn.metrics import mean_squared_error"
   ]
  },
  {
   "cell_type": "code",
   "execution_count": 2,
   "metadata": {
    "collapsed": true
   },
   "outputs": [],
   "source": [
    "H_h = np.array([1, -1])/np.sqrt(2)\n",
    "H_l = np.array([1, 1])/np.sqrt(2)"
   ]
  },
  {
   "cell_type": "code",
   "execution_count": 3,
   "metadata": {
    "collapsed": true
   },
   "outputs": [],
   "source": [
    "def down_sample(array ,sample_factor):\n",
    "    array = np.array(array, dtype=float)\n",
    "    array = array[::sample_factor]\n",
    "    if (len(array.shape) == 2):\n",
    "        array = array.transpose()\n",
    "        array = array[::sample_factor]\n",
    "    return array"
   ]
  },
  {
   "cell_type": "code",
   "execution_count": 4,
   "metadata": {
    "collapsed": true
   },
   "outputs": [],
   "source": [
    "from scipy.signal import convolve2d as conv2d\n",
    "def convolve_2d(array_2d, kernel, mode):\n",
    "    res = np.array(array_2d, dtype=float)\n",
    "    kernel = np.array(kernel)\n",
    "    if (mode == 'horizontal'):\n",
    "        res = conv2d(res, kernel[None, :])\n",
    "        res = res[:,len(kernel)-1:]\n",
    "    if (mode == 'vertical'):\n",
    "        res = conv2d(res, kernel[:, None])\n",
    "        res = res[len(kernel)-1:,:]\n",
    "    return res"
   ]
  },
  {
   "cell_type": "code",
   "execution_count": 5,
   "metadata": {
    "collapsed": true
   },
   "outputs": [],
   "source": [
    "def fried_model_gradient(image):\n",
    "    tmp = convolve_2d(image, H_h, mode='horizontal')\n",
    "    X = convolve_2d(tmp, H_l, mode='vertical')\n",
    "    tmp = convolve_2d(image, H_l, mode='horizontal')\n",
    "    Y = convolve_2d(tmp, H_h, mode='vertical')\n",
    "    return X, Y"
   ]
  },
  {
   "cell_type": "code",
   "execution_count": 6,
   "metadata": {
    "collapsed": true
   },
   "outputs": [],
   "source": [
    "def process_next_X (prevX):#Не работает, неправильный алгоритм\n",
    "    tmp1 = convolve_2d(prevX, H_l, mode='horizontal')\n",
    "    tmp2 = convolve_2d(tmp1, H_l, mode='horizontal')\n",
    "    return down_sample(np.sqrt(2) * convolve_2d(tmp2, np.array([1,0,1]) / np.sqrt(2), mode='vertical'), 2)"
   ]
  },
  {
   "cell_type": "code",
   "execution_count": 224,
   "metadata": {
    "collapsed": true
   },
   "outputs": [],
   "source": [
    "def process_next_Y (prevY):\n",
    "    tmp1 = convolve_2d(prevY, np.array([1,0,1]) / np.sqrt(2), mode = 'horizontal')\n",
    "    tmp2 = convolve_2d(tmp1, H_l, mode = 'vertical')\n",
    "    return np.sqrt(2) * down_sample(convolve_2d(tmp2, H_l, mode = 'vertical'), 2)"
   ]
  },
  {
   "cell_type": "code",
   "execution_count": 8,
   "metadata": {
    "collapsed": true
   },
   "outputs": [],
   "source": [
    "def process_next_HH (X):\n",
    "    tmp1 = convolve_2d(X, H_l, mode = 'horizontal')\n",
    "    tmp2 = convolve_2d(tmp1, H_l, mode = 'horizontal')\n",
    "    tmp3 = convolve_2d(tmp2, np.array([1,0,-1]) / np.sqrt(2), mode = 'vertical')\n",
    "    return np.sqrt(2) * down_sample(tmp3, 4)"
   ]
  },
  {
   "cell_type": "code",
   "execution_count": 9,
   "metadata": {
    "collapsed": true
   },
   "outputs": [],
   "source": [
    "def process_left_quadrant (grad_X, grad_Y):\n",
    "    M = int(np.log2(len(grad_X)))\n",
    "    X = dict({M : grad_X})\n",
    "    Y = dict({M : grad_Y})\n",
    "    HL = dict({M - 1 : -down_sample(X[M], 2).T})\n",
    "    LH = dict({M - 1 : -down_sample(Y[M], 2).T})\n",
    "    HH = dict()\n",
    "    for k in range(2, M + 1)[::-1]:\n",
    "        print (k)\n",
    "        X[k - 1] = process_next_X(X[k])\n",
    "        Y[k - 1] = process_next_Y(Y[k])\n",
    "        LH[k - 2] = -down_sample(Y[k - 1], 2)\n",
    "        HL[k - 2] = -down_sample(X[k - 1], 2)\n",
    "        HH[k - 2] = process_next_HH(X[k]).T\n",
    "    return LH, HL, HH"
   ]
  },
  {
   "cell_type": "code",
   "execution_count": 131,
   "metadata": {
    "collapsed": true
   },
   "outputs": [],
   "source": [
    "exmpl = np.array(([[5, 7, 5, 4, 6, 0, 0, 6],\n",
    "       [5, 4, 9, 3, 6, 9, 7, 0],\n",
    "       [4, 1, 1, 5, 8, 0, 5, 7],\n",
    "       [1, 8, 9, 2, 4, 4, 9, 9],\n",
    "       [0, 4, 3, 2, 7, 1, 0, 4],\n",
    "       [3, 7, 7, 7, 1, 9, 0, 3],\n",
    "       [9, 5, 3, 9, 8, 7, 5, 9],\n",
    "       [2, 0, 7, 6, 2, 8, 8, 2]]))"
   ]
  },
  {
   "cell_type": "code",
   "execution_count": 11,
   "metadata": {
    "collapsed": true
   },
   "outputs": [],
   "source": [
    "X = dict()\n",
    "Y = dict()\n",
    "X[3], Y[3] = fried_model_gradient(exmpl)\n",
    "HL = dict({2 : -down_sample(X[3],2).T})\n",
    "LH = dict({2 : -down_sample(Y[3],2).T})"
   ]
  },
  {
   "cell_type": "code",
   "execution_count": 12,
   "metadata": {},
   "outputs": [
    {
     "data": {
      "text/plain": [
       "array([[ 5.125]])"
      ]
     },
     "execution_count": 12,
     "metadata": {},
     "output_type": "execute_result"
    }
   ],
   "source": [
    "Y[2] = process_next_Y(Y[3])\n",
    "down_sample(Y[2], 2)\n",
    "Y[1] = process_next_Y(Y[2])\n",
    "down_sample(Y[1], 2)"
   ]
  },
  {
   "cell_type": "code",
   "execution_count": 13,
   "metadata": {},
   "outputs": [
    {
     "data": {
      "text/plain": [
       "array([[ 0.625]])"
      ]
     },
     "execution_count": 13,
     "metadata": {},
     "output_type": "execute_result"
    }
   ],
   "source": [
    "a = pywt.dwt2(exmpl,'haar')\n",
    "a = pywt.dwt2(a[0],'haar')\n",
    "a = pywt.dwt2(a[0],'haar')\n",
    "a[1][0]"
   ]
  },
  {
   "cell_type": "code",
   "execution_count": 14,
   "metadata": {},
   "outputs": [
    {
     "data": {
      "text/plain": [
       "(array([[ 10.5,  10.5,  10.5,   6.5],\n",
       "        [  7. ,   8.5,   8. ,  15. ],\n",
       "        [  7. ,   9.5,   9. ,   3.5],\n",
       "        [  8. ,  12.5,  12.5,  12. ]]), (array([[ 1.5, -1.5, -4.5, -0.5],\n",
       "         [-2. , -2.5,  0. , -3. ],\n",
       "         [-3. , -4.5, -1. ,  0.5],\n",
       "         [ 6. , -0.5,  2.5,  2. ]]), array([[-0.5,  3.5,  1.5,  0.5],\n",
       "         [-2. ,  1.5,  4. , -1. ],\n",
       "         [-4. ,  0.5, -1. , -3.5],\n",
       "         [ 3. , -2.5, -2.5,  1. ]]), array([[ -1.50000000e+00,  -2.50000000e+00,   4.50000000e+00,\n",
       "           -6.50000000e+00],\n",
       "         [  5.00000000e+00,  -5.50000000e+00,   4.00000000e+00,\n",
       "           -1.00000000e+00],\n",
       "         [ -2.22044605e-16,   5.00000000e-01,   7.00000000e+00,\n",
       "           -5.00000000e-01],\n",
       "         [  1.00000000e+00,  -3.50000000e+00,   3.50000000e+00,\n",
       "           -5.00000000e+00]])))"
      ]
     },
     "execution_count": 14,
     "metadata": {},
     "output_type": "execute_result"
    }
   ],
   "source": [
    "pywt.dwt2(exmpl,'haar')"
   ]
  },
  {
   "cell_type": "code",
   "execution_count": 95,
   "metadata": {},
   "outputs": [
    {
     "data": {
      "text/plain": [
       "array([[ 10.5,  10.5,  10.5,   6.5],\n",
       "       [  7. ,   8.5,   8. ,  15. ],\n",
       "       [  7. ,   9.5,   9. ,   3.5],\n",
       "       [  8. ,  12.5,  12.5,  12. ]])"
      ]
     },
     "execution_count": 95,
     "metadata": {},
     "output_type": "execute_result"
    }
   ],
   "source": [
    "tmp = convolve_2d(exmpl,H_l, 'horizontal')\n",
    "tmp2 = convolve_2d(tmp, H_l, 'vertical')\n",
    "LL = down_sample(tmp2, 2).T\n",
    "LL"
   ]
  },
  {
   "cell_type": "code",
   "execution_count": 97,
   "metadata": {},
   "outputs": [
    {
     "data": {
      "text/plain": [
       "array([[-0.5,  3.5,  1.5,  0.5],\n",
       "       [-2. ,  1.5,  4. , -1. ],\n",
       "       [-4. ,  0.5, -1. , -3.5],\n",
       "       [ 3. , -2.5, -2.5,  1. ]])"
      ]
     },
     "execution_count": 97,
     "metadata": {},
     "output_type": "execute_result"
    }
   ],
   "source": [
    "tmp = convolve_2d(exmpl,H_h, 'horizontal')\n",
    "tmp2 = convolve_2d(tmp, H_l, 'vertical')\n",
    "HL = -down_sample(tmp2, 2).T\n",
    "HL"
   ]
  },
  {
   "cell_type": "code",
   "execution_count": 96,
   "metadata": {},
   "outputs": [
    {
     "data": {
      "text/plain": [
       "array([[ 1.5, -1.5, -4.5, -0.5],\n",
       "       [-2. , -2.5, -0. , -3. ],\n",
       "       [-3. , -4.5, -1. ,  0.5],\n",
       "       [ 6. , -0.5,  2.5,  2. ]])"
      ]
     },
     "execution_count": 96,
     "metadata": {},
     "output_type": "execute_result"
    }
   ],
   "source": [
    "tmp = convolve_2d(exmpl,H_l, 'horizontal')\n",
    "tmp2 = convolve_2d(tmp, H_h, 'vertical')\n",
    "LH = -down_sample(tmp2, 2).T\n",
    "LH"
   ]
  },
  {
   "cell_type": "code",
   "execution_count": 98,
   "metadata": {},
   "outputs": [
    {
     "data": {
      "text/plain": [
       "array([[ -1.50000000e+00,  -2.50000000e+00,   4.50000000e+00,\n",
       "         -6.50000000e+00],\n",
       "       [  5.00000000e+00,  -5.50000000e+00,   4.00000000e+00,\n",
       "         -1.00000000e+00],\n",
       "       [ -2.22044605e-16,   5.00000000e-01,   7.00000000e+00,\n",
       "         -5.00000000e-01],\n",
       "       [  1.00000000e+00,  -3.50000000e+00,   3.50000000e+00,\n",
       "         -5.00000000e+00]])"
      ]
     },
     "execution_count": 98,
     "metadata": {},
     "output_type": "execute_result"
    }
   ],
   "source": [
    "tmp = convolve_2d(exmpl,H_h, 'horizontal')\n",
    "tmp2 = convolve_2d(tmp, H_h, 'vertical')\n",
    "HH = down_sample(tmp2, 2).T\n",
    "HH"
   ]
  },
  {
   "cell_type": "code",
   "execution_count": null,
   "metadata": {
    "collapsed": true
   },
   "outputs": [],
   "source": []
  }
 ],
 "metadata": {
  "kernelspec": {
   "display_name": "Python 3",
   "language": "python",
   "name": "python3"
  },
  "language_info": {
   "codemirror_mode": {
    "name": "ipython",
    "version": 3
   },
   "file_extension": ".py",
   "mimetype": "text/x-python",
   "name": "python",
   "nbconvert_exporter": "python",
   "pygments_lexer": "ipython3",
   "version": "3.6.1"
  }
 },
 "nbformat": 4,
 "nbformat_minor": 2
}
