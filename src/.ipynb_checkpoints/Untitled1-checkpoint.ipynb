{
 "cells": [
  {
   "cell_type": "code",
   "execution_count": 24,
   "metadata": {
    "collapsed": true
   },
   "outputs": [],
   "source": [
    "import lib\n",
    "import numpy as np\n",
    "import pywt\n",
    "H_h = np.array([1, -1])/np.sqrt(2)\n",
    "H_l = np.array([1, 1])/np.sqrt(2)\n",
    "G_l = H_l\n",
    "G_h = -H_h"
   ]
  },
  {
   "cell_type": "code",
   "execution_count": 109,
   "metadata": {
    "collapsed": true
   },
   "outputs": [],
   "source": [
    "exmpl = np.array(([[5, 7, 5, 4, 6, 0, 0, 6],\n",
    "       [5, 4, 9, 3, 6, 9, 7, 0],\n",
    "       [4, 1, 1, 5, 8, 0, 5, 7],\n",
    "       [1, 8, 9, 2, 4, 4, 9, 9],\n",
    "       [0, 4, 3, 2, 7, 1, 0, 4],\n",
    "       [3, 7, 7, 7, 1, 9, 0, 3],\n",
    "       [9, 5, 3, 9, 8, 7, 5, 9],\n",
    "       [2, 0, 7, 6, 2, 8, 8, 2]]))"
   ]
  },
  {
   "cell_type": "code",
   "execution_count": 110,
   "metadata": {
    "scrolled": false
   },
   "outputs": [
    {
     "data": {
      "text/plain": [
       "array([[5, 7, 5, 4, 6, 0, 0, 6],\n",
       "       [5, 4, 9, 3, 6, 9, 7, 0],\n",
       "       [4, 1, 1, 5, 8, 0, 5, 7],\n",
       "       [1, 8, 9, 2, 4, 4, 9, 9],\n",
       "       [0, 4, 3, 2, 7, 1, 0, 4],\n",
       "       [3, 7, 7, 7, 1, 9, 0, 3],\n",
       "       [9, 5, 3, 9, 8, 7, 5, 9],\n",
       "       [2, 0, 7, 6, 2, 8, 8, 2]])"
      ]
     },
     "execution_count": 110,
     "metadata": {},
     "output_type": "execute_result"
    }
   ],
   "source": [
    "exmpl"
   ]
  },
  {
   "cell_type": "code",
   "execution_count": 111,
   "metadata": {
    "collapsed": true
   },
   "outputs": [],
   "source": [
    "X, Y = lib.fried_model_gradient(exmpl)"
   ]
  },
  {
   "cell_type": "code",
   "execution_count": 120,
   "metadata": {
    "collapsed": true
   },
   "outputs": [],
   "source": [
    "def GetH_l(pow_):\n",
    "    res = np.zeros(pow_ + 1)\n",
    "    res[0] = res[-1] = 1\n",
    "    return res / np.sqrt(2)"
   ]
  },
  {
   "cell_type": "code",
   "execution_count": 121,
   "metadata": {},
   "outputs": [],
   "source": [
    "def GetH_h(pow_):\n",
    "    res = np.zeros(pow_ + 1)\n",
    "    res[0] = 1\n",
    "    res[-1] = -1\n",
    "    return res / np.sqrt(2)"
   ]
  },
  {
   "cell_type": "code",
   "execution_count": 135,
   "metadata": {},
   "outputs": [],
   "source": [
    "def GetLH(m, Y):\n",
    "    coef = np.power(np.sqrt(2), (m - 1))\n",
    "    tmp = Y\n",
    "    for i  in range (1, m):\n",
    "        tmp = lib.convolve_2d(tmp, GetH_l(2 ** i), 'horizontal')\n",
    "    for i in range (m - 1):\n",
    "        tmp = lib.convolve_2d(tmp, GetH_l(2 ** i), 'vertical')\n",
    "        tmp = lib.convolve_2d(tmp, GetH_l(2 ** i), 'vertical')\n",
    "    return coef * lib.down_sample(tmp, 2 ** m)"
   ]
  },
  {
   "cell_type": "code",
   "execution_count": 140,
   "metadata": {},
   "outputs": [
    {
     "data": {
      "text/plain": [
       "array([[-0.625]])"
      ]
     },
     "execution_count": 140,
     "metadata": {},
     "output_type": "execute_result"
    }
   ],
   "source": [
    "def GetHL(m, X):\n",
    "    coef = np.power(np.sqrt(2), (m - 1))\n",
    "    tmp = X\n",
    "    for i in range (m - 1):\n",
    "        tmp = lib.convolve_2d(tmp, GetH_l(2 ** i), 'horizontal')\n",
    "        tmp = lib.convolve_2d(tmp, GetH_l(2 ** i), 'horizontal')\n",
    "    for i  in range (1, m):\n",
    "        tmp = lib.convolve_2d(tmp, GetH_l(2 ** i), 'horizontal') \n",
    "    return coef * lib.down_sample(tmp, 2 ** m)"
   ]
  },
  {
   "cell_type": "code",
   "execution_count": 134,
   "metadata": {},
   "outputs": [
    {
     "data": {
      "text/plain": [
       "(array([[ 18.25,  20.  ],\n",
       "        [ 18.5 ,  18.5 ]]), (array([[ 2.75, -3.  ],\n",
       "         [-2.  , -6.  ]]), array([[-0.75, -1.5 ],\n",
       "         [-3.5 ,  3.  ]]), array([[ 0.75,  5.5 ],\n",
       "         [ 1.  ,  2.5 ]])))"
      ]
     },
     "execution_count": 134,
     "metadata": {},
     "output_type": "execute_result"
    }
   ],
   "source": [
    "pywt.dwt2(pywt.dwt2(exmpl, 'haar')[0],'haar')"
   ]
  },
  {
   "cell_type": "code",
   "execution_count": 128,
   "metadata": {},
   "outputs": [
    {
     "data": {
      "text/plain": [
       "array([ 0.70710678,  0.        ,  0.        ,  0.70710678])"
      ]
     },
     "execution_count": 128,
     "metadata": {},
     "output_type": "execute_result"
    }
   ],
   "source": []
  },
  {
   "cell_type": "code",
   "execution_count": null,
   "metadata": {
    "collapsed": true
   },
   "outputs": [],
   "source": []
  }
 ],
 "metadata": {
  "kernelspec": {
   "display_name": "Python 3",
   "language": "python",
   "name": "python3"
  },
  "language_info": {
   "codemirror_mode": {
    "name": "ipython",
    "version": 3
   },
   "file_extension": ".py",
   "mimetype": "text/x-python",
   "name": "python",
   "nbconvert_exporter": "python",
   "pygments_lexer": "ipython3",
   "version": "3.6.1"
  }
 },
 "nbformat": 4,
 "nbformat_minor": 2
}
