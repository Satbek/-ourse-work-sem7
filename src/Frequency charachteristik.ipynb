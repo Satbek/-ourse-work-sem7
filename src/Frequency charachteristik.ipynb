{
 "cells": [
  {
   "cell_type": "code",
   "execution_count": 17,
   "metadata": {},
   "outputs": [],
   "source": [
    "import numpy as np\n",
    "import lib.gradients as grad\n",
    "import lib.data as data\n",
    "import matplotlib.pyplot as plt\n",
    "import lib.mesurements\n",
    "import lib.haar_wawelet_method.haar as haar\n",
    "%matplotlib inline"
   ]
  },
  {
   "cell_type": "code",
   "execution_count": 18,
   "metadata": {
    "collapsed": true
   },
   "outputs": [],
   "source": [
    "def poisson_noise(image, photons):\n",
    "    \"\"\"\n",
    "    Add Poisson (Shot) noise to an image for the given \n",
    "    number of photons corresponding to maximum intensity.\n",
    "    \n",
    "    :param image: The original image\n",
    "    :param photons: The number of photons corresponding to maximum intensity\n",
    "    :return: returns the array of the original type with added Poisson noise\n",
    "    \"\"\"\n",
    "    # saving original type\n",
    "    original_type = image.dtype\n",
    "    # converting image to float array\n",
    "    noised_image = image.astype(np.float64)\n",
    "    # getting number of layers\n",
    "    layers_number = image.shape[-1]\n",
    "    \n",
    "    # adding noise for each level\n",
    "    #for i in range(0, layers_number):\n",
    "        # scaling image intensity to [0, 1]\n",
    "        # and then to the given number of photons\n",
    "    scale_factor = photons / noised_image[:,:].max()\n",
    "    noised_image[:,:] = noised_image[:,:] * scale_factor\n",
    "    # adding Poisson noise \n",
    "    noised_image[:,:] = np.random.poisson(noised_image[:,:])\n",
    "    # scaling the intensity back to the original one\n",
    "    noised_image[:,:] = noised_image[:,:] / scale_factor\n",
    "    \n",
    "    # back to the original array type\n",
    "    noised_image = noised_image.astype(original_type)\n",
    "    \n",
    "    return noised_image\n"
   ]
  },
  {
   "cell_type": "code",
   "execution_count": 19,
   "metadata": {
    "collapsed": true
   },
   "outputs": [],
   "source": [
    "def poisson_noised(image, photons):\n",
    "    step = image.min()\n",
    "    if (step < 0):\n",
    "        image -= step\n",
    "    noised_image = poisson_noise(image, photons)\n",
    "    if (step < 0):\n",
    "        noised_image += step\n",
    "    return noised_image"
   ]
  },
  {
   "cell_type": "code",
   "execution_count": 20,
   "metadata": {
    "collapsed": true
   },
   "outputs": [],
   "source": [
    "def my_exp(x,y,w1,w2):\n",
    "    if (w1 == 0):\n",
    "        return np.exp( w2*1j*y)\n",
    "    return np.exp(w1*1j*x + w2*1j*y)\n",
    "\n"
   ]
  },
  {
   "cell_type": "code",
   "execution_count": 21,
   "metadata": {
    "collapsed": true
   },
   "outputs": [],
   "source": [
    "def compare(i,j,M, noised = False, photons = 1):\n",
    "    x,y = data.get_plane(-np.pi, np.pi,-np.pi,np.pi,M)\n",
    "    im = my_exp(x,y,i,j)\n",
    "    grad_X, grad_Y = grad.fried_model_gradient(im)\n",
    "    X_H, Y_H = grad.Hudgin_gradien_model(im)\n",
    "    if (noised):\n",
    "        #как зашумлять комплексные числа?\n",
    "        grad_X = poisson_noised(grad_X.real, photons) + 1j*poisson_noised(grad_X.imag, photons)\n",
    "        grad_Y = poisson_noised(grad_Y.real, photons) + 1j*poisson_noised(grad_Y.imag, photons)\n",
    "        X_H = poisson_noised(X_H.real, photons) + 1j*poisson_noised(X_H.imag, photons)\n",
    "        Y_H = poisson_noised(Y_H.real, photons) + 1j*poisson_noised(Y_H.imag, photons)\n",
    "    LH, HL, HH = haar.analyze(grad_X, grad_Y, X_H, Y_H)\n",
    "    res = haar.syntesis({0:np.array([[np.mean(im)*2**M]])}, LH, HL, HH,M)\n",
    "    #print(np.abs(np.fft.fft2(im)[j,i]), np.abs(np.fft.fft2(res[M])[j,i]))\n",
    "    #print(np.max(np.abs(np.fft.fft2(im))), np.max(np.abs(np.fft.fft2(res[M]))))\n",
    "    return np.abs(np.fft.fft2(im)[j,i])/np.abs(np.fft.fft2(res[M])[j,i])\n",
    "    #return np.max(np.abs(np.fft.fft2(im))) / np.max(np.abs(np.fft.fft2(res[M])))"
   ]
  },
  {
   "cell_type": "code",
   "execution_count": 22,
   "metadata": {
    "collapsed": true
   },
   "outputs": [],
   "source": [
    "def calc_z (M, noised = False, photons = 1):\n",
    "    size = 2**M\n",
    "    z = np.zeros(size**2).reshape(size,size)\n",
    "    for i in range (size):\n",
    "        for j in range(size):\n",
    "            z[i,j] = compare(i,j,M, noised)\n",
    "    return z\n",
    "\n"
   ]
  },
  {
   "cell_type": "code",
   "execution_count": 23,
   "metadata": {
    "collapsed": true
   },
   "outputs": [],
   "source": [
    "def draw_plot(z):\n",
    "    size = z.shape[0]\n",
    "    x,y = np.meshgrid(range(0,size),range(0,size))\n",
    "    from mpl_toolkits.mplot3d import Axes3D\n",
    "    fig = plt.figure(figsize=(30,30))\n",
    "    ax = fig.gca(projection='3d')\n",
    "    ax.plot_wireframe(x, y, z)\n",
    "    ax.set_zlim(0, 2)\n",
    "    ax.set_xlim(0,size)\n",
    "    ax.set_ylim(0,size)\n",
    "    from matplotlib.ticker import MultipleLocator, FormatStrFormatter\n",
    "    majorLocator = MultipleLocator(2)\n",
    "    majorFormatter = FormatStrFormatter('%d')\n",
    "    ax.xaxis.set_major_locator(majorLocator)\n",
    "    ax.xaxis.set_major_formatter(majorFormatter)\n",
    "    ax.yaxis.set_major_locator(majorLocator)\n",
    "    ax.yaxis.set_major_formatter(majorFormatter)"
   ]
  },
  {
   "cell_type": "code",
   "execution_count": 24,
   "metadata": {},
   "outputs": [
    {
     "name": "stderr",
     "output_type": "stream",
     "text": [
      "/home/satbek/python/anacondas/anaconda2/envs/py36/lib/python3.6/site-packages/ipykernel_launcher.py:21: RuntimeWarning: divide by zero encountered in double_scalars\n",
      "/home/satbek/python/anacondas/anaconda2/envs/py36/lib/python3.6/site-packages/ipykernel_launcher.py:22: RuntimeWarning: invalid value encountered in multiply\n",
      "/home/satbek/python/anacondas/anaconda2/envs/py36/lib/python3.6/site-packages/ipykernel_launcher.py:24: RuntimeWarning: invalid value encountered in less\n",
      "/home/satbek/python/anacondas/anaconda2/envs/py36/lib/python3.6/site-packages/ipykernel_launcher.py:24: RuntimeWarning: invalid value encountered in greater\n"
     ]
    },
    {
     "ename": "NameError",
     "evalue": "name 'decompozition' is not defined",
     "output_type": "error",
     "traceback": [
      "\u001b[0;31m---------------------------------------------------------------------------\u001b[0m",
      "\u001b[0;31mNameError\u001b[0m                                 Traceback (most recent call last)",
      "\u001b[0;32m<ipython-input-24-a010453bfb59>\u001b[0m in \u001b[0;36m<module>\u001b[0;34m()\u001b[0m\n\u001b[0;32m----> 1\u001b[0;31m \u001b[0mz\u001b[0m \u001b[0;34m=\u001b[0m \u001b[0mcalc_z\u001b[0m\u001b[0;34m(\u001b[0m\u001b[0;36m6\u001b[0m\u001b[0;34m,\u001b[0m \u001b[0;32mTrue\u001b[0m\u001b[0;34m,\u001b[0m\u001b[0;36m10000\u001b[0m\u001b[0;34m)\u001b[0m\u001b[0;34m\u001b[0m\u001b[0m\n\u001b[0m",
      "\u001b[0;32m<ipython-input-22-d77d692286f7>\u001b[0m in \u001b[0;36mcalc_z\u001b[0;34m(M, noised, photons)\u001b[0m\n\u001b[1;32m      4\u001b[0m     \u001b[0;32mfor\u001b[0m \u001b[0mi\u001b[0m \u001b[0;32min\u001b[0m \u001b[0mrange\u001b[0m \u001b[0;34m(\u001b[0m\u001b[0msize\u001b[0m\u001b[0;34m)\u001b[0m\u001b[0;34m:\u001b[0m\u001b[0;34m\u001b[0m\u001b[0m\n\u001b[1;32m      5\u001b[0m         \u001b[0;32mfor\u001b[0m \u001b[0mj\u001b[0m \u001b[0;32min\u001b[0m \u001b[0mrange\u001b[0m\u001b[0;34m(\u001b[0m\u001b[0msize\u001b[0m\u001b[0;34m)\u001b[0m\u001b[0;34m:\u001b[0m\u001b[0;34m\u001b[0m\u001b[0m\n\u001b[0;32m----> 6\u001b[0;31m             \u001b[0mz\u001b[0m\u001b[0;34m[\u001b[0m\u001b[0mi\u001b[0m\u001b[0;34m,\u001b[0m\u001b[0mj\u001b[0m\u001b[0;34m]\u001b[0m \u001b[0;34m=\u001b[0m \u001b[0mcompare\u001b[0m\u001b[0;34m(\u001b[0m\u001b[0mi\u001b[0m\u001b[0;34m,\u001b[0m\u001b[0mj\u001b[0m\u001b[0;34m,\u001b[0m\u001b[0mM\u001b[0m\u001b[0;34m,\u001b[0m \u001b[0mnoised\u001b[0m\u001b[0;34m)\u001b[0m\u001b[0;34m\u001b[0m\u001b[0m\n\u001b[0m\u001b[1;32m      7\u001b[0m     \u001b[0;32mreturn\u001b[0m \u001b[0mz\u001b[0m\u001b[0;34m\u001b[0m\u001b[0m\n\u001b[1;32m      8\u001b[0m \u001b[0;34m\u001b[0m\u001b[0m\n",
      "\u001b[0;32m<ipython-input-21-da873b65788e>\u001b[0m in \u001b[0;36mcompare\u001b[0;34m(i, j, M, noised, photons)\u001b[0m\n\u001b[1;32m     11\u001b[0m         \u001b[0mY_H\u001b[0m \u001b[0;34m=\u001b[0m \u001b[0mpoisson_noised\u001b[0m\u001b[0;34m(\u001b[0m\u001b[0mY_H\u001b[0m\u001b[0;34m.\u001b[0m\u001b[0mreal\u001b[0m\u001b[0;34m,\u001b[0m \u001b[0mphotons\u001b[0m\u001b[0;34m)\u001b[0m \u001b[0;34m+\u001b[0m \u001b[0;36m1j\u001b[0m\u001b[0;34m*\u001b[0m\u001b[0mpoisson_noised\u001b[0m\u001b[0;34m(\u001b[0m\u001b[0mY_H\u001b[0m\u001b[0;34m.\u001b[0m\u001b[0mimag\u001b[0m\u001b[0;34m,\u001b[0m \u001b[0mphotons\u001b[0m\u001b[0;34m)\u001b[0m\u001b[0;34m\u001b[0m\u001b[0m\n\u001b[1;32m     12\u001b[0m     \u001b[0mLH\u001b[0m\u001b[0;34m,\u001b[0m \u001b[0mHL\u001b[0m\u001b[0;34m,\u001b[0m \u001b[0mHH\u001b[0m \u001b[0;34m=\u001b[0m \u001b[0mhaar\u001b[0m\u001b[0;34m.\u001b[0m\u001b[0manalyze\u001b[0m\u001b[0;34m(\u001b[0m\u001b[0mgrad_X\u001b[0m\u001b[0;34m,\u001b[0m \u001b[0mgrad_Y\u001b[0m\u001b[0;34m,\u001b[0m \u001b[0mX_H\u001b[0m\u001b[0;34m,\u001b[0m \u001b[0mY_H\u001b[0m\u001b[0;34m)\u001b[0m\u001b[0;34m\u001b[0m\u001b[0m\n\u001b[0;32m---> 13\u001b[0;31m     \u001b[0mres\u001b[0m \u001b[0;34m=\u001b[0m \u001b[0mdecompozition\u001b[0m\u001b[0;34m.\u001b[0m\u001b[0msyntesis\u001b[0m\u001b[0;34m(\u001b[0m\u001b[0;34m{\u001b[0m\u001b[0;36m0\u001b[0m\u001b[0;34m:\u001b[0m\u001b[0mnp\u001b[0m\u001b[0;34m.\u001b[0m\u001b[0marray\u001b[0m\u001b[0;34m(\u001b[0m\u001b[0;34m[\u001b[0m\u001b[0;34m[\u001b[0m\u001b[0mnp\u001b[0m\u001b[0;34m.\u001b[0m\u001b[0mmean\u001b[0m\u001b[0;34m(\u001b[0m\u001b[0mim\u001b[0m\u001b[0;34m)\u001b[0m\u001b[0;34m*\u001b[0m\u001b[0;36m2\u001b[0m\u001b[0;34m**\u001b[0m\u001b[0mM\u001b[0m\u001b[0;34m]\u001b[0m\u001b[0;34m]\u001b[0m\u001b[0;34m)\u001b[0m\u001b[0;34m}\u001b[0m\u001b[0;34m,\u001b[0m \u001b[0mLH\u001b[0m\u001b[0;34m,\u001b[0m \u001b[0mHL\u001b[0m\u001b[0;34m,\u001b[0m \u001b[0mHH\u001b[0m\u001b[0;34m,\u001b[0m\u001b[0mM\u001b[0m\u001b[0;34m)\u001b[0m\u001b[0;34m\u001b[0m\u001b[0m\n\u001b[0m\u001b[1;32m     14\u001b[0m     \u001b[0;31m#print(np.abs(np.fft.fft2(im)[j,i]), np.abs(np.fft.fft2(res[M])[j,i]))\u001b[0m\u001b[0;34m\u001b[0m\u001b[0;34m\u001b[0m\u001b[0m\n\u001b[1;32m     15\u001b[0m     \u001b[0;31m#print(np.max(np.abs(np.fft.fft2(im))), np.max(np.abs(np.fft.fft2(res[M]))))\u001b[0m\u001b[0;34m\u001b[0m\u001b[0;34m\u001b[0m\u001b[0m\n",
      "\u001b[0;31mNameError\u001b[0m: name 'decompozition' is not defined"
     ]
    }
   ],
   "source": [
    "z = calc_z(6, True,10000)"
   ]
  },
  {
   "cell_type": "code",
   "execution_count": null,
   "metadata": {
    "collapsed": true
   },
   "outputs": [],
   "source": []
  }
 ],
 "metadata": {
  "kernelspec": {
   "display_name": "Python 3",
   "language": "python",
   "name": "python3"
  },
  "language_info": {
   "codemirror_mode": {
    "name": "ipython",
    "version": 3
   },
   "file_extension": ".py",
   "mimetype": "text/x-python",
   "name": "python",
   "nbconvert_exporter": "python",
   "pygments_lexer": "ipython3",
   "version": "3.6.1"
  }
 },
 "nbformat": 4,
 "nbformat_minor": 2
}
