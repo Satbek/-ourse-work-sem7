{
 "cells": [
  {
   "cell_type": "code",
   "execution_count": 1,
   "metadata": {
    "collapsed": true
   },
   "outputs": [],
   "source": [
    "import numpy as np\n",
    "import pywt\n",
    "from scipy import signal\n",
    "from sklearn.metrics import mean_squared_error"
   ]
  },
  {
   "cell_type": "code",
   "execution_count": 2,
   "metadata": {
    "collapsed": true
   },
   "outputs": [],
   "source": [
    "H_h = np.array([1, -1])/np.sqrt(2)\n",
    "H_l = np.array([1, 1])/np.sqrt(2)"
   ]
  },
  {
   "cell_type": "code",
   "execution_count": 165,
   "metadata": {
    "collapsed": true
   },
   "outputs": [],
   "source": [
    "def down_sample(array ,sample_factor):#works\n",
    "    array = np.array(array, dtype=float)\n",
    "    array = array[::sample_factor]\n",
    "    if (len(array.shape) == 2):\n",
    "        array = array.transpose()\n",
    "        array = array[::sample_factor]\n",
    "    return array"
   ]
  },
  {
   "cell_type": "code",
   "execution_count": 164,
   "metadata": {
    "collapsed": true
   },
   "outputs": [],
   "source": [
    "from scipy.signal import convolve2d as conv2d\n",
    "def convolve_2d(array_2d, kernel, mode):#works\n",
    "    res = np.array(array_2d, dtype=float)\n",
    "    kernel = np.array(kernel)\n",
    "    if (mode == 'horizontal'):\n",
    "        res = conv2d(res, kernel[None, :])\n",
    "        res = res[:,len(kernel)-1:]\n",
    "    if (mode == 'vertical'):\n",
    "        res = conv2d(res, kernel[:, None])\n",
    "        res = res[len(kernel)-1:,:]\n",
    "    return res"
   ]
  },
  {
   "cell_type": "code",
   "execution_count": 5,
   "metadata": {
    "collapsed": true
   },
   "outputs": [],
   "source": [
    "def fried_model_gradient(image):\n",
    "    tmp = convolve_2d(image, H_h, mode='horizontal')\n",
    "    X = convolve_2d(tmp, H_l, mode='vertical')\n",
    "    tmp = convolve_2d(image, H_l, mode='horizontal')\n",
    "    Y = convolve_2d(tmp, H_h, mode='vertical')\n",
    "    return X, Y"
   ]
  },
  {
   "cell_type": "code",
   "execution_count": 6,
   "metadata": {
    "collapsed": true
   },
   "outputs": [],
   "source": [
    "def process_next_X (prevX):#Не работает, неправильный алгоритм\n",
    "    tmp1 = convolve_2d(prevX, H_l, mode='horizontal')\n",
    "    tmp2 = convolve_2d(tmp1, H_l, mode='horizontal')\n",
    "    return down_sample(np.sqrt(2) * convolve_2d(tmp2, np.array([1,0,1]) / np.sqrt(2), mode='vertical'), 2)"
   ]
  },
  {
   "cell_type": "code",
   "execution_count": 7,
   "metadata": {
    "collapsed": true
   },
   "outputs": [],
   "source": [
    "def process_next_Y (prevY):\n",
    "    tmp1 = convolve_2d(prevY, np.array([1,0,1]) / np.sqrt(2), mode = 'horizontal')\n",
    "    tmp2 = convolve_2d(tmp1, H_l, mode = 'vertical')\n",
    "    return np.sqrt(2) * down_sample(convolve_2d(tmp2, H_l, mode = 'vertical'), 2)"
   ]
  },
  {
   "cell_type": "code",
   "execution_count": 8,
   "metadata": {
    "collapsed": true
   },
   "outputs": [],
   "source": [
    "def process_next_HH (X):\n",
    "    tmp1 = convolve_2d(X, H_l, mode = 'horizontal')\n",
    "    tmp2 = convolve_2d(tmp1, H_l, mode = 'horizontal')\n",
    "    tmp3 = convolve_2d(tmp2, np.array([1,0,-1]) / np.sqrt(2), mode = 'vertical')\n",
    "    return np.sqrt(2) * down_sample(tmp3, 4)"
   ]
  },
  {
   "cell_type": "code",
   "execution_count": 9,
   "metadata": {
    "collapsed": true
   },
   "outputs": [],
   "source": [
    "def process_left_quadrant (grad_X, grad_Y):\n",
    "    M = int(np.log2(len(grad_X)))\n",
    "    X = dict({M : grad_X})\n",
    "    Y = dict({M : grad_Y})\n",
    "    HL = dict({M - 1 : down_sample(X[M], 2)})\n",
    "    LH = dict({M - 1 : down_sample(Y[M], 2)})\n",
    "    HH = dict()\n",
    "    for k in range(2, M + 1)[::-1]:\n",
    "        print (k)\n",
    "        X[k - 1] = process_next_X(X[k])\n",
    "        Y[k - 1] = process_next_Y(Y[k])\n",
    "        LH[k - 2] = down_sample(Y[k - 1], 2)\n",
    "        HL[k - 2] = down_sample(X[k - 1], 2)\n",
    "        HH[k - 2] = process_next_HH(X[k])\n",
    "    return LH, HL, HH"
   ]
  },
  {
   "cell_type": "code",
   "execution_count": 12,
   "metadata": {
    "collapsed": true
   },
   "outputs": [],
   "source": [
    "G_l = H_l\n",
    "G_h = -H_h"
   ]
  },
  {
   "cell_type": "code",
   "execution_count": 13,
   "metadata": {
    "collapsed": true
   },
   "outputs": [],
   "source": [
    "def up_2(array):\n",
    "    return np.hstack([array[:, None], np.zeros((len(array), 1))]).ravel()"
   ]
  },
  {
   "cell_type": "code",
   "execution_count": 163,
   "metadata": {
    "collapsed": true
   },
   "outputs": [],
   "source": [
    "def UP_2(array):#работает\n",
    "    shape = array.shape\n",
    "    array = array.reshape(shape[0] * shape[1])\n",
    "    array = up_2(array)\n",
    "    array = array.reshape(shape[0], shape[1] * 2)\n",
    "    shape = array.T.shape\n",
    "    array = array.T.reshape(shape[0] * shape[1])\n",
    "    array = up_2(array)\n",
    "    array = array.reshape(shape[0], shape[1] * 2)\n",
    "    return array.T"
   ]
  },
  {
   "cell_type": "code",
   "execution_count": 162,
   "metadata": {
    "collapsed": true
   },
   "outputs": [],
   "source": [
    "def convolve_2d_syn(array_2d, kernel, mode):#работает\n",
    "    if (mode == 'horizontal'):\n",
    "        array_2d = np.column_stack((np.zeros(array_2d.shape[1]), array_2d))\n",
    "        return convolve_2d(array_2d, kernel, 'horizontal')[:,:-1]\n",
    "    if (mode == 'vertical'):\n",
    "        array_2d = np.row_stack((np.zeros(array_2d.shape[1]), array_2d))\n",
    "        return convolve_2d(array_2d, kernel, 'vertical')[:-1,:]"
   ]
  },
  {
   "cell_type": "code",
   "execution_count": 166,
   "metadata": {
    "collapsed": true
   },
   "outputs": [],
   "source": [
    "def Hudgin_gradien_model(image):#работает\n",
    "    X = np.sqrt(2) * convolve_2d(image, H_h, 'horizontal')\n",
    "    Y = np.sqrt(2) * convolve_2d(image, H_h, 'vertical')\n",
    "    return X, Y"
   ]
  },
  {
   "cell_type": "code",
   "execution_count": 167,
   "metadata": {
    "collapsed": true
   },
   "outputs": [],
   "source": [
    "def get_HH(X_H, Y_H):#works\n",
    "    coef = np.sqrt(2) * 0.25\n",
    "    tmp1 = convolve_2d(X_H, H_h, 'vertical')\n",
    "    tmp2 = convolve_2d(Y_H, H_h, 'horizontal')\n",
    "    return down_sample(tmp1 + tmp2,2) * coef"
   ]
  },
  {
   "cell_type": "code",
   "execution_count": 168,
   "metadata": {
    "collapsed": true
   },
   "outputs": [],
   "source": [
    "def reconstract_one_step(LL, LH, HL, HH):#Работает\n",
    "    tmp = convolve_2d_syn(UP_2(LL), G_l, 'vertical')\n",
    "    tmp2 = convolve_2d_syn(UP_2(LH), G_h, 'vertical')\n",
    "    res1 = (tmp + tmp2)\n",
    "    tmp_ = convolve_2d_syn(UP_2(HL), G_l, 'vertical')\n",
    "    tmp2_ = convolve_2d_syn(UP_2(HH), G_h, 'vertical')\n",
    "    res2 = tmp2_+ tmp_\n",
    "    res1 = convolve_2d_syn(res1, G_l, 'horizontal')\n",
    "    res2 = convolve_2d_syn(res2, G_h, 'horizontal')\n",
    "    return res1 + res2"
   ]
  },
  {
   "cell_type": "code",
   "execution_count": 10,
   "metadata": {
    "collapsed": true
   },
   "outputs": [],
   "source": [
    "exmpl = np.array(([[5, 7, 5, 4, 6, 0, 0, 6],\n",
    "       [5, 4, 9, 3, 6, 9, 7, 0],\n",
    "       [4, 1, 1, 5, 8, 0, 5, 7],\n",
    "       [1, 8, 9, 2, 4, 4, 9, 9],\n",
    "       [0, 4, 3, 2, 7, 1, 0, 4],\n",
    "       [3, 7, 7, 7, 1, 9, 0, 3],\n",
    "       [9, 5, 3, 9, 8, 7, 5, 9],\n",
    "       [2, 0, 7, 6, 2, 8, 8, 2]]))"
   ]
  },
  {
   "cell_type": "code",
   "execution_count": null,
   "metadata": {
    "collapsed": true
   },
   "outputs": [],
   "source": []
  }
 ],
 "metadata": {
  "kernelspec": {
   "display_name": "Python 3",
   "language": "python",
   "name": "python3"
  },
  "language_info": {
   "codemirror_mode": {
    "name": "ipython",
    "version": 3
   },
   "file_extension": ".py",
   "mimetype": "text/x-python",
   "name": "python",
   "nbconvert_exporter": "python",
   "pygments_lexer": "ipython3",
   "version": "3.6.1"
  }
 },
 "nbformat": 4,
 "nbformat_minor": 2
}
