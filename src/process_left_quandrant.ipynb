{
 "cells": [
  {
   "cell_type": "code",
   "execution_count": 226,
   "metadata": {
    "collapsed": true
   },
   "outputs": [],
   "source": [
    "import numpy as np\n",
    "import pywt\n",
    "from scipy import signal\n",
    "from sklearn.metrics import mean_squared_error"
   ]
  },
  {
   "cell_type": "code",
   "execution_count": 227,
   "metadata": {
    "collapsed": true
   },
   "outputs": [],
   "source": [
    "H_h = np.array([1, -1])/np.sqrt(2)\n",
    "H_l = np.array([1, 1])/np.sqrt(2)"
   ]
  },
  {
   "cell_type": "code",
   "execution_count": 228,
   "metadata": {
    "collapsed": true
   },
   "outputs": [],
   "source": [
    "def down_sample(array ,sample_factor):\n",
    "    array = np.array(array, dtype=float)\n",
    "    array = array[::sample_factor]\n",
    "    if (len(array.shape) == 2):\n",
    "        array = array.transpose()\n",
    "        array = array[::sample_factor]\n",
    "    return array"
   ]
  },
  {
   "cell_type": "code",
   "execution_count": 229,
   "metadata": {
    "collapsed": true
   },
   "outputs": [],
   "source": [
    "from scipy.signal import convolve2d as conv2d\n",
    "def convolve_2d(array_2d, kernel, mode):\n",
    "    res = np.array(array_2d, dtype=float)\n",
    "    kernel = np.array(kernel)\n",
    "    if (mode == 'horizontal'):\n",
    "        res = conv2d(res, kernel[None, :])\n",
    "        res = res[:,len(kernel)-1:]\n",
    "    if (mode == 'vertical'):\n",
    "        res = conv2d(res, kernel[:, None])\n",
    "        res = res[len(kernel)-1:,:]\n",
    "    return res"
   ]
  },
  {
   "cell_type": "code",
   "execution_count": 230,
   "metadata": {
    "collapsed": true
   },
   "outputs": [],
   "source": [
    "def fried_model_gradient(image):\n",
    "    tmp = convolve_2d(image, H_h, mode='horizontal')\n",
    "    X = convolve_2d(tmp, H_l, mode='vertical')\n",
    "    tmp = convolve_2d(image, H_l, mode='horizontal')\n",
    "    Y = convolve_2d(tmp, H_h, mode='vertical')\n",
    "    return X, Y"
   ]
  },
  {
   "cell_type": "code",
   "execution_count": 231,
   "metadata": {
    "collapsed": true
   },
   "outputs": [],
   "source": [
    "def process_next_X (prevX):#Не работает, неправильный алгоритм\n",
    "    tmp1 = convolve_2d(prevX, H_l, mode='horizontal')\n",
    "    tmp2 = convolve_2d(tmp1, H_l, mode='horizontal')\n",
    "    return down_sample(np.sqrt(2) * convolve_2d(tmp2, np.array([1,0,1]) / np.sqrt(2), mode='vertical'), 2)"
   ]
  },
  {
   "cell_type": "code",
   "execution_count": 232,
   "metadata": {
    "collapsed": true
   },
   "outputs": [],
   "source": [
    "def process_next_Y (prevY):\n",
    "    tmp1 = convolve_2d(prevY, np.array([1,0,1]) / np.sqrt(2), mode = 'horizontal')\n",
    "    tmp2 = convolve_2d(tmp1, H_l, mode = 'vertical')\n",
    "    return np.sqrt(2) * down_sample(convolve_2d(tmp2, H_l, mode = 'vertical'), 2)"
   ]
  },
  {
   "cell_type": "code",
   "execution_count": 233,
   "metadata": {
    "collapsed": true
   },
   "outputs": [],
   "source": [
    "def process_next_HH (X):\n",
    "    tmp1 = convolve_2d(X, H_l, mode = 'horizontal')\n",
    "    tmp2 = convolve_2d(tmp1, H_l, mode = 'horizontal')\n",
    "    tmp3 = convolve_2d(tmp2, np.array([1,0,-1]) / np.sqrt(2), mode = 'vertical')\n",
    "    return np.sqrt(2) * down_sample(tmp3, 4)"
   ]
  },
  {
   "cell_type": "code",
   "execution_count": 244,
   "metadata": {
    "collapsed": true
   },
   "outputs": [],
   "source": [
    "def process_left_quadrant (grad_X, grad_Y):\n",
    "    M = int(np.log2(len(grad_X)))\n",
    "    X = dict({M : grad_X})\n",
    "    Y = dict({M : grad_Y})\n",
    "    HL = dict({M - 1 : down_sample(X[M], 2)})\n",
    "    LH = dict({M - 1 : down_sample(Y[M], 2)})\n",
    "    HH = dict()\n",
    "    for k in range(2, M + 1)[::-1]:\n",
    "        print (k)\n",
    "        X[k - 1] = process_next_X(X[k])\n",
    "        Y[k - 1] = process_next_Y(Y[k])\n",
    "        LH[k - 2] = down_sample(Y[k - 1], 2)\n",
    "        HL[k - 2] = down_sample(X[k - 1], 2)\n",
    "        HH[k - 2] = process_next_HH(X[k])\n",
    "    return LH, HL, HH"
   ]
  },
  {
   "cell_type": "code",
   "execution_count": 235,
   "metadata": {
    "collapsed": true
   },
   "outputs": [],
   "source": [
    "exmpl = np.array(([[5, 7, 5, 4, 6, 0, 0, 6],\n",
    "       [5, 4, 9, 3, 6, 9, 7, 0],\n",
    "       [4, 1, 1, 5, 8, 0, 5, 7],\n",
    "       [1, 8, 9, 2, 4, 4, 9, 9],\n",
    "       [0, 4, 3, 2, 7, 1, 0, 4],\n",
    "       [3, 7, 7, 7, 1, 9, 0, 3],\n",
    "       [9, 5, 3, 9, 8, 7, 5, 9],\n",
    "       [2, 0, 7, 6, 2, 8, 8, 2]]))"
   ]
  },
  {
   "cell_type": "code",
   "execution_count": 236,
   "metadata": {
    "scrolled": true
   },
   "outputs": [],
   "source": [
    "X, Y = fried_model_gradient(exmpl)"
   ]
  },
  {
   "cell_type": "code",
   "execution_count": 237,
   "metadata": {
    "collapsed": true
   },
   "outputs": [],
   "source": [
    "G_l = H_l\n",
    "G_h = -H_h"
   ]
  },
  {
   "cell_type": "code",
   "execution_count": 238,
   "metadata": {
    "collapsed": true
   },
   "outputs": [],
   "source": [
    "def up_2(array):\n",
    "    return np.hstack([array[:, None], np.zeros((len(array), 1))]).ravel()"
   ]
  },
  {
   "cell_type": "code",
   "execution_count": 239,
   "metadata": {
    "collapsed": true
   },
   "outputs": [],
   "source": [
    "def UP_2(array):\n",
    "    shape = array.shape\n",
    "    array = array.reshape(shape[0] * shape[1])\n",
    "    array = up_2(array)\n",
    "    array = array.reshape(shape[0], shape[1] * 2)\n",
    "    shape = array.T.shape\n",
    "    array = array.T.reshape(shape[0] * shape[1])\n",
    "    array = up_2(array)\n",
    "    array = array.reshape(shape[0], shape[1] * 2)\n",
    "    return array.T"
   ]
  },
  {
   "cell_type": "code",
   "execution_count": 241,
   "metadata": {},
   "outputs": [],
   "source": [
    "def convolve_2d_syn(array_2d, kernel, mode):\n",
    "    if (mode == 'horizontal'):\n",
    "        array_2d = np.column_stack((np.zeros(array_2d.shape[1]), array_2d))\n",
    "        return convolve_2d(array_2d, kernel, 'horizontal')[:,:-1]\n",
    "    if (mode == 'vertical'):\n",
    "        array_2d = np.row_stack((np.zeros(array_2d.shape[1]), array_2d))\n",
    "        return convolve_2d(array_2d, kernel, 'vertical')[:-1,:]"
   ]
  },
  {
   "cell_type": "code",
   "execution_count": 245,
   "metadata": {},
   "outputs": [
    {
     "data": {
      "text/plain": [
       "array([[ 3. ,  1. ],\n",
       "       [-4.5, -2. ]])"
      ]
     },
     "execution_count": 245,
     "metadata": {},
     "output_type": "execute_result"
    }
   ],
   "source": [
    "ex = np.array([[1,2],[5,4]])\n",
    "X_, Y_ = fried_model_gradient(ex)\n",
    "Y_"
   ]
  },
  {
   "cell_type": "code",
   "execution_count": 246,
   "metadata": {},
   "outputs": [
    {
     "data": {
      "text/plain": [
       "({0: array([[ 3.]])}, {0: array([[ 0.]])}, {})"
      ]
     },
     "execution_count": 246,
     "metadata": {},
     "output_type": "execute_result"
    }
   ],
   "source": [
    "process_left_quadrant(X_, Y_)"
   ]
  },
  {
   "cell_type": "code",
   "execution_count": 247,
   "metadata": {
    "collapsed": true
   },
   "outputs": [],
   "source": [
    "LH = np.array([[3]])\n",
    "HL = np.array([[0.]])"
   ]
  },
  {
   "cell_type": "code",
   "execution_count": 248,
   "metadata": {
    "collapsed": true
   },
   "outputs": [],
   "source": [
    "def Hudgin_gradien_model(image):\n",
    "    X = np.sqrt(2) * convolve_2d(image, H_h, 'horizontal')\n",
    "    Y = np.sqrt(2) * convolve_2d(image, H_h, 'vertical')\n",
    "    return X, Y"
   ]
  },
  {
   "cell_type": "code",
   "execution_count": 249,
   "metadata": {
    "collapsed": true
   },
   "outputs": [],
   "source": [
    "X_H, Y_H = Hudgin_gradien_model(ex)"
   ]
  },
  {
   "cell_type": "code",
   "execution_count": 252,
   "metadata": {},
   "outputs": [],
   "source": [
    "def get_HH(X_H, Y_H):\n",
    "    coef = np.sqrt(2) * 0.25\n",
    "    tmp1 = convolve_2d(X_H, H_h, 'vertical')\n",
    "    tmp2 = convolve_2d(Y_H, H_h, 'horizontal')\n",
    "    return down_sample(tmp1 + tmp2,2) * coef"
   ]
  },
  {
   "cell_type": "code",
   "execution_count": 261,
   "metadata": {},
   "outputs": [],
   "source": [
    "HH = get_HH(X_H, Y_H)"
   ]
  },
  {
   "cell_type": "code",
   "execution_count": 265,
   "metadata": {},
   "outputs": [],
   "source": [
    "LL = np.array([[6.]])"
   ]
  },
  {
   "cell_type": "code",
   "execution_count": 266,
   "metadata": {},
   "outputs": [],
   "source": [
    "def reconstract_one_step(LL, LH, HL, HH):\n",
    "    tmp1 = convolve_2d_syn(UP_2(LL), G_l, 'vertical')\n",
    "    tmp2 = convolve_2d_syn(UP_2(LH), G_h, 'vertical')\n",
    "    tmp3 = tmp1 + tmp2\n",
    "    tmp3 = convolve_2d(tmp3, G_l, 'horizontal')\n",
    "    \n",
    "    tmp_1 = convolve_2d_syn(UP_2(HL), G_l, 'vertical')\n",
    "    tmp_2 = convolve_2d_syn(UP_2(HH), G_h, 'vertical')\n",
    "    tmp_3 = tmp1 + tmp2\n",
    "    tmp_3 = convolve_2d(tmp3, G_h, 'horizontal')\n",
    "    return tmp3 + tmp_3"
   ]
  },
  {
   "cell_type": "code",
   "execution_count": 267,
   "metadata": {},
   "outputs": [
    {
     "data": {
      "text/plain": [
       "array([[ 2.56066017,  0.        ],\n",
       "       [ 7.68198052,  0.        ]])"
      ]
     },
     "execution_count": 267,
     "metadata": {},
     "output_type": "execute_result"
    }
   ],
   "source": [
    "reconstract_one_step(LL, LH, HL, HH)"
   ]
  },
  {
   "cell_type": "code",
   "execution_count": null,
   "metadata": {
    "collapsed": true
   },
   "outputs": [],
   "source": []
  }
 ],
 "metadata": {
  "kernelspec": {
   "display_name": "Python 3",
   "language": "python",
   "name": "python3"
  },
  "language_info": {
   "codemirror_mode": {
    "name": "ipython",
    "version": 3
   },
   "file_extension": ".py",
   "mimetype": "text/x-python",
   "name": "python",
   "nbconvert_exporter": "python",
   "pygments_lexer": "ipython3",
   "version": "3.6.1"
  }
 },
 "nbformat": 4,
 "nbformat_minor": 2
}
