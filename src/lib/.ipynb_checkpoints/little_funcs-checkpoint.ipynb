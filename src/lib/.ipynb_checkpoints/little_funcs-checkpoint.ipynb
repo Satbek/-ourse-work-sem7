{
 "cells": [
  {
   "cell_type": "code",
   "execution_count": 1,
   "metadata": {
    "collapsed": true
   },
   "outputs": [],
   "source": [
    "import numpy as np;"
   ]
  },
  {
   "cell_type": "code",
   "execution_count": 6,
   "metadata": {
    "collapsed": true
   },
   "outputs": [],
   "source": [
    "def down_sample_array(array ,sample_factor):\n",
    "    array = np.array(array)\n",
    "    return array[::sample_factor]"
   ]
  },
  {
   "cell_type": "code",
   "execution_count": 54,
   "metadata": {
    "collapsed": true
   },
   "outputs": [],
   "source": [
    "def convolve(array, kernel):\n",
    "    res = np.convolve(np.array(array),np.array(kernel), mode='full')\n",
    "    return res[len(kernel) - 1::]"
   ]
  },
  {
   "cell_type": "code",
   "execution_count": 60,
   "metadata": {},
   "outputs": [],
   "source": [
    "def fried_model_gradient(image):\n",
    "    X = np.array(image)\n",
    "    Y = np.array(image)\n",
    "    H_h = np.array([1,-1])\n",
    "    H_l = np.array([1, 1])\n",
    "    for i in range(len(image)):\n",
    "        X[i,:] = convolve(X[i,:],H_h)\n",
    "        Y[:,i] = convolve(Y[:,i],H_h)\n",
    "    print (X)\n",
    "    for i in range(len(image)):\n",
    "        X[:,i] = convolve(X[:,i],H_l)\n",
    "        Y[i,:] = convolve(Y[i,:],H_l)\n",
    "    return X, Y"
   ]
  },
  {
   "cell_type": "code",
   "execution_count": 24,
   "metadata": {
    "collapsed": true
   },
   "outputs": [],
   "source": [
    "def up_2(array):\n",
    "    return np.hstack([array[:, None], np.zeros((len(array), 1))]).ravel()"
   ]
  },
  {
   "cell_type": "code",
   "execution_count": 61,
   "metadata": {},
   "outputs": [
    {
     "name": "stdout",
     "output_type": "stream",
     "text": [
      "[[  1   1   1  -4]\n",
      " [  1   1   1  -8]\n",
      " [  1   1   1 -12]\n",
      " [  1   1   1 -16]]\n"
     ]
    },
    {
     "data": {
      "text/plain": [
       "array([[  2,   2,  -3,  -4],\n",
       "       [  2,   2,  -7,  -8],\n",
       "       [  2,   2, -11, -12],\n",
       "       [  2,   2, -15, -16]])"
      ]
     },
     "execution_count": 61,
     "metadata": {},
     "output_type": "execute_result"
    }
   ],
   "source": [
    "res = fried_model_gradient(np.array([[1,2,3,4],[5,6,7,8],[9,10,11,12],[13,14,15,16]]))\n",
    "res[0]"
   ]
  },
  {
   "cell_type": "code",
   "execution_count": null,
   "metadata": {
    "collapsed": true
   },
   "outputs": [],
   "source": []
  }
 ],
 "metadata": {
  "kernelspec": {
   "display_name": "Python 3",
   "language": "python",
   "name": "python3"
  },
  "language_info": {
   "codemirror_mode": {
    "name": "ipython",
    "version": 3
   },
   "file_extension": ".py",
   "mimetype": "text/x-python",
   "name": "python",
   "nbconvert_exporter": "python",
   "pygments_lexer": "ipython3",
   "version": "3.6.1"
  }
 },
 "nbformat": 4,
 "nbformat_minor": 2
}
