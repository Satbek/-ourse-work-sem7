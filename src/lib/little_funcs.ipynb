{
 "cells": [
  {
   "cell_type": "code",
   "execution_count": 1,
   "metadata": {
    "collapsed": true
   },
   "outputs": [],
   "source": [
    "import numpy as np;"
   ]
  },
  {
   "cell_type": "code",
   "execution_count": 2,
   "metadata": {
    "collapsed": true
   },
   "outputs": [],
   "source": [
    "def down_sample_array(array ,sample_factor):\n",
    "    array = np.array(array, dtype=float)\n",
    "    array = array[::sample_factor]\n",
    "    if (len(array.shape) == 2):\n",
    "        array = array.transpose()\n",
    "        array = array[::sample_factor]\n",
    "    return array"
   ]
  },
  {
   "cell_type": "code",
   "execution_count": 3,
   "metadata": {
    "collapsed": true
   },
   "outputs": [],
   "source": [
    "def convolve(array, kernel):\n",
    "    array = np.array(array, dtype=float)\n",
    "    res = np.convolve(np.array(array),np.array(kernel), mode='full')\n",
    "    return res[len(kernel) - 1::]"
   ]
  },
  {
   "cell_type": "code",
   "execution_count": 4,
   "metadata": {
    "collapsed": true
   },
   "outputs": [],
   "source": [
    "def fried_model_gradient(image):\n",
    "    X = np.array(image, dtype=float)\n",
    "    Y = np.array(image, dtype=float)\n",
    "    H_h = np.array([1,-1])\n",
    "    H_l = np.array([1, 1])\n",
    "    for i in range(len(image)):\n",
    "        X[i,:] = convolve(X[i,:],H_h)\n",
    "        Y[:,i] = convolve(Y[:,i],H_h)\n",
    "    for i in range(len(image)):\n",
    "        X[:,i] = convolve(X[:,i],H_l)\n",
    "        Y[i,:] = convolve(Y[i,:],H_l)\n",
    "    return X * 0.5, Y * 0.5"
   ]
  },
  {
   "cell_type": "code",
   "execution_count": 5,
   "metadata": {
    "collapsed": true
   },
   "outputs": [],
   "source": [
    "def up_2(array):\n",
    "    return np.hstack([array[:, None], np.zeros((len(array), 1))]).ravel()"
   ]
  },
  {
   "cell_type": "code",
   "execution_count": 107,
   "metadata": {
    "collapsed": true
   },
   "outputs": [],
   "source": [
    "from scipy import signal\n"
   ]
  },
  {
   "cell_type": "code",
   "execution_count": 30,
   "metadata": {},
   "outputs": [],
   "source": [
    "import numpy as np\n",
    "N = 10\n",
    "a = np.random.rand(N,N)\n",
    "b = np.zeros((N,N + 1))\n",
    "b[:,1:] = a"
   ]
  },
  {
   "cell_type": "code",
   "execution_count": 26,
   "metadata": {},
   "outputs": [],
   "source": [
    "exmpl = np.array(([[5, 7, 5, 4, 6, 0, 0, 6],\n",
    "       [5, 4, 9, 3, 6, 9, 7, 0],\n",
    "       [4, 1, 1, 5, 8, 0, 5, 7],\n",
    "       [1, 8, 9, 2, 4, 4, 9, 9],\n",
    "       [0, 4, 3, 2, 7, 1, 0, 4],\n",
    "       [3, 7, 7, 7, 1, 9, 0, 3],\n",
    "       [9, 5, 3, 9, 8, 7, 5, 9],\n",
    "       [2, 0, 7, 6, 2, 8, 8, 2]]))"
   ]
  },
  {
   "cell_type": "code",
   "execution_count": 45,
   "metadata": {},
   "outputs": [
    {
     "data": {
      "text/plain": [
       "array([0, 0, 0, 0, 0, 0, 0, 0])"
      ]
     },
     "execution_count": 45,
     "metadata": {},
     "output_type": "execute_result"
    }
   ],
   "source": [
    "col = np.zeros(8)\n",
    "(col ).astype(int)"
   ]
  },
  {
   "cell_type": "code",
   "execution_count": 58,
   "metadata": {},
   "outputs": [
    {
     "name": "stdout",
     "output_type": "stream",
     "text": [
      "[[ 0.  5.  7.  5.  4.  6.  0.  0.  6.]\n",
      " [ 0.  5.  4.  9.  3.  6.  9.  7.  0.]\n",
      " [ 0.  4.  1.  1.  5.  8.  0.  5.  7.]\n",
      " [ 0.  1.  8.  9.  2.  4.  4.  9.  9.]\n",
      " [ 0.  0.  4.  3.  2.  7.  1.  0.  4.]\n",
      " [ 0.  3.  7.  7.  7.  1.  9.  0.  3.]\n",
      " [ 0.  9.  5.  3.  9.  8.  7.  5.  9.]\n",
      " [ 0.  2.  0.  7.  6.  2.  8.  8.  2.]]\n",
      "[[ 5.  7.  5.  4.  6.  0.  0.  6.]\n",
      " [ 5.  4.  9.  3.  6.  9.  7.  0.]\n",
      " [ 4.  1.  1.  5.  8.  0.  5.  7.]\n",
      " [ 1.  8.  9.  2.  4.  4.  9.  9.]\n",
      " [ 0.  4.  3.  2.  7.  1.  0.  4.]\n",
      " [ 3.  7.  7.  7.  1.  9.  0.  3.]\n",
      " [ 9.  5.  3.  9.  8.  7.  5.  9.]\n",
      " [ 2.  0.  7.  6.  2.  8.  8.  2.]]\n"
     ]
    }
   ],
   "source": [
    "X = np.column_stack((col,exmpl))\n",
    "print(X[:,:])\n",
    "print(X[:,1:])"
   ]
  },
  {
   "cell_type": "code",
   "execution_count": 47,
   "metadata": {
    "collapsed": true
   },
   "outputs": [],
   "source": [
    "from scipy.signal import convolve2d as conv2d\n",
    "def convolve_2d(array_2d, kernel, mode):\n",
    "    res = np.array(array_2d, dtype=float)\n",
    "    kernel = np.array(kernel)\n",
    "    if (mode == 'horizontal'):\n",
    "        res = conv2d(res, kernel[None, :])\n",
    "        res = res[:,len(kernel)-1:]\n",
    "    if (mode == 'vertical'):\n",
    "        res = conv2d(res, kernel[:, None])\n",
    "        res = res[len(kernel)-1:,:]\n",
    "    return res"
   ]
  },
  {
   "cell_type": "code",
   "execution_count": null,
   "metadata": {
    "collapsed": true
   },
   "outputs": [],
   "source": [
    "convolve_2d(exmpl, H_l, )"
   ]
  }
 ],
 "metadata": {
  "kernelspec": {
   "display_name": "Python 3",
   "language": "python",
   "name": "python3"
  },
  "language_info": {
   "codemirror_mode": {
    "name": "ipython",
    "version": 3
   },
   "file_extension": ".py",
   "mimetype": "text/x-python",
   "name": "python",
   "nbconvert_exporter": "python",
   "pygments_lexer": "ipython3",
   "version": "3.6.1"
  }
 },
 "nbformat": 4,
 "nbformat_minor": 2
}
