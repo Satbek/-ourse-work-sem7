{
 "cells": [
  {
   "cell_type": "code",
   "execution_count": 34,
   "metadata": {
    "collapsed": true
   },
   "outputs": [],
   "source": [
    "import numpy as np\n",
    "import lib.gradients as grad\n",
    "import lib.data as data\n",
    "import matplotlib.pyplot as plt\n",
    "import lib.mesurements\n",
    "import lib.haar_wawelet_method.haar as haar\n",
    "%matplotlib inline"
   ]
  },
  {
   "cell_type": "code",
   "execution_count": 35,
   "metadata": {
    "collapsed": true
   },
   "outputs": [],
   "source": [
    "def my_exp(x,y,w1,w2):\n",
    "    if (w1 == 0):\n",
    "        return np.exp( w2*1j*y)\n",
    "    return np.exp(w1*1j*x + w2*1j*y)"
   ]
  },
  {
   "cell_type": "code",
   "execution_count": 36,
   "metadata": {
    "collapsed": true
   },
   "outputs": [],
   "source": [
    "def draw_plot(z):\n",
    "    size = z.shape[0]\n",
    "    x,y = np.meshgrid(range(0,size),range(0,size))\n",
    "    from mpl_toolkits.mplot3d import Axes3D\n",
    "    fig = plt.figure(figsize=(30,30))\n",
    "    ax = fig.gca(projection='3d')\n",
    "    ax.plot_wireframe(x, y, z)\n",
    "    ax.set_zlim(0, 2)\n",
    "    ax.set_xlim(0,size)\n",
    "    ax.set_ylim(0,size)\n",
    "    from matplotlib.ticker import MultipleLocator, FormatStrFormatter\n",
    "    majorLocator = MultipleLocator(1)\n",
    "    majorFormatter = FormatStrFormatter('%d')\n",
    "    ax.xaxis.set_major_locator(majorLocator)\n",
    "    ax.xaxis.set_major_formatter(majorFormatter)\n",
    "    ax.yaxis.set_major_locator(majorLocator)\n",
    "    ax.yaxis.set_major_formatter(majorFormatter)\n",
    "    plt.savefig('z-plot-ideal')"
   ]
  },
  {
   "cell_type": "code",
   "execution_count": 37,
   "metadata": {
    "collapsed": true
   },
   "outputs": [],
   "source": [
    "def compare_ideal(i,j,M, noised = False, photons = 1):\n",
    "    x,y = data.get_plane(-np.pi, np.pi, -np.pi, np.pi, M)\n",
    "    im = my_exp(x,y,i,j)\n",
    "    h = 2*np.pi / 2**M\n",
    "    grad_X, grad_Y = i * 1j * my_exp(x,y,i,j) * h, j * 1j * my_exp(x,y,i,j) * h\n",
    "    if (noised):\n",
    "        #как зашумлять комплексные числа?\n",
    "        grad_X = data.get_Poisson_noise(grad_X.real, photons) + 1j*data.get_Poisson_noise(grad_X.imag, photons)\n",
    "        grad_Y = data.get_Poisson_noise(grad_Y.real, photons) + 1j*data.get_Poisson_noise(grad_Y.imag, photons)\n",
    "    LH, HL, HH = haar.analyze(grad_X, grad_Y, grad_X, grad_Y)\n",
    "    res = haar.syntesis({0:np.array([[np.mean(im)*2**M]])}, LH, HL, HH,M)\n",
    "    return np.abs(np.fft.fft2(im)[j,i])/np.abs(np.fft.fft2(res[M])[j,i])"
   ]
  },
  {
   "cell_type": "code",
   "execution_count": 38,
   "metadata": {
    "collapsed": true
   },
   "outputs": [],
   "source": [
    "def calc_z_ideal (M, noised = False, photons = 1):\n",
    "    size = 2**M\n",
    "    z = np.zeros(size**2).reshape(size,size)\n",
    "    for i in range (size):\n",
    "        print(i)\n",
    "        if (i*10 <= size):\n",
    "            for j in range(size):\n",
    "                if (j*10 <= size):\n",
    "                    z[i,j] = compare_ideal(i,j,M, noised,photons)\n",
    "                else:\n",
    "                    break\n",
    "        else :\n",
    "            break\n",
    "    return z"
   ]
  },
  {
   "cell_type": "code",
   "execution_count": 39,
   "metadata": {},
   "outputs": [],
   "source": [
    ""
   ]
  },
  {
   "cell_type": "code",
   "execution_count": 39,
   "metadata": {},
   "outputs": [
    {
     "name": "stdout",
     "output_type": "stream",
     "text": [
      "0\n"
     ]
    },
    {
     "name": "stderr",
     "output_type": "stream",
     "text": [
      "/home/satbek/Course-work-sem7/src/lib/data.py:45: RuntimeWarning: divide by zero encountered in double_scalars\n  scale_factor = photons / noised_image.max()\n/home/satbek/Course-work-sem7/src/lib/data.py:46: RuntimeWarning: invalid value encountered in multiply\n  noised_image = noised_image * scale_factor\n/home/satbek/Course-work-sem7/src/lib/data.py:47: RuntimeWarning: invalid value encountered in less\n  noised_image = np.random.poisson(noised_image)\n/home/satbek/Course-work-sem7/src/lib/data.py:47: RuntimeWarning: invalid value encountered in greater\n  noised_image = np.random.poisson(noised_image)\n"
     ]
    },
    {
     "name": "stdout",
     "output_type": "stream",
     "text": [
      "1\n2\n"
     ]
    },
    {
     "name": "stdout",
     "output_type": "stream",
     "text": [
      "3\n4\n"
     ]
    }
   ],
   "source": [
    "z = calc_z_ideal(5, True, 1)\n",
    "draw_plot(z[0:z.shape[0] // 10 + 1, 0:z.shape[0] // 10 + 1])"
   ]
  },
  {
   "cell_type": "code",
   "execution_count": 32,
   "metadata": {},
   "outputs": [
    {
     "data": {
      "text/plain": [
       "[<matplotlib.lines.Line2D at 0x7f38da6ef9b0>]"
      ]
     },
     "execution_count": 32,
     "metadata": {},
     "output_type": "execute_result"
    },
    {
     "data": {
      "image/png": "[encoded data removed]",
      "text/plain": [
       "<Figure size 432x288 with 1 Axes>"
      ]
     },
     "metadata": {},
     "output_type": "display_data"
    }
   ],
   "source": [
    "x = np.arange(z.shape[0] // 10 + 1)\n",
    "y = [z[i,i] for i in range(z.shape[0] // 10 + 1)]\n",
    "from matplotlib.ticker import MultipleLocator, FormatStrFormatter\n",
    "mpl_fig = plt.figure()\n",
    "ax = mpl_fig.add_subplot(111)\n",
    "plt.ylim(0.5,1.5)\n",
    "plt.plot(x,y)"
   ]
  },
  {
   "cell_type": "code",
   "execution_count": 11,
   "metadata": {},
   "outputs": [
    {
     "data": {
      "text/plain": [
       "13907.892690715842"
      ]
     },
     "execution_count": 11,
     "metadata": {},
     "output_type": "execute_result"
    }
   ],
   "source": [
    "x,y = data.get_plane(-np.pi, np.pi, -np.pi, np.pi, 6)\n",
    "im = my_exp(x,y,3,3)\n",
    "grad_X, grad_Y = 3 * x * 1j * my_exp(x,y,3,3), 3 * y * 1j * my_exp(x,y,3,3)\n",
    "LH, HL, HH = haar.analyze(grad_X, grad_Y, grad_X, grad_Y)\n",
    "res = haar.syntesis({0:np.array([[np.mean(im)*2**6]])}, LH, HL, HH,6)\n",
    "np.abs(np.fft.fft2(res[6])[3,3])"
   ]
  },
  {
   "cell_type": "code",
   "execution_count": 12,
   "metadata": {},
   "outputs": [
    {
     "data": {
      "text/plain": [
       "4065.5422034138596"
      ]
     },
     "execution_count": 12,
     "metadata": {},
     "output_type": "execute_result"
    }
   ],
   "source": [
    "np.abs(np.fft.fft2(im)[3,3])"
   ]
  },
  {
   "cell_type": "code",
   "execution_count": 13,
   "metadata": {},
   "outputs": [],
   "source": [
    "x, y = data.get_plane(-252,251,-252,251,9)\n",
    "z = my_exp(x,y,2,2)"
   ]
  },
  {
   "cell_type": "code",
   "execution_count": 14,
   "metadata": {},
   "outputs": [],
   "source": [
    "z_x = 2j * my_exp(x,y,1,1)"
   ]
  },
  {
   "cell_type": "code",
   "execution_count": 15,
   "metadata": {
    "collapsed": true
   },
   "outputs": [],
   "source": [
    "gr_x = grad.Hudgin_gradien_model(z)"
   ]
  },
  {
   "cell_type": "code",
   "execution_count": 16,
   "metadata": {},
   "outputs": [
    {
     "data": {
      "text/plain": [
       "array([[ 1.65061506-0.22454989j, -0.43256634+1.60867619j,\n        -1.31539659-1.0220981j , ..., -1.61781774+0.39701196j,\n         0.26086889-1.64526598j,  0.41614684+0.90929743j],\n       [-0.43256634+1.60867619j, -1.31539659-1.0220981j ,\n         1.45193651-0.81659849j, ...,  0.26086889-1.64526598j,\n         1.41565668+0.87799139j, -0.99950985+0.03130604j],\n       [-1.31539659-1.0220981j ,  1.45193651-0.81659849j,\n         0.19021445+1.65492332j, ...,  1.41565668+0.87799139j,\n        -1.35793588+0.96486417j,  0.35842604-0.93355813j],\n       ...,\n       [-1.61781774+0.39701196j,  0.26086889-1.64526598j,\n         1.41565668+0.87799139j, ...,  1.56705281-0.56506478j,\n        -0.0862742 +1.66358333j, -0.50952947-0.86045321j],\n       [ 0.26086889-1.64526598j,  1.41565668+0.87799139j,\n        -1.35793588+0.96486417j, ..., -0.0862742 +1.66358333j,\n        -1.50019438-0.72413364j,  0.99066492-0.13631957j],\n       [ 1.41565668+0.87799139j, -1.35793588+0.96486417j,\n        -0.36332058-1.6257155j , ..., -1.50019438-0.72413364j,\n         1.24885392-1.10241399j, -0.258189  +0.96609443j]])"
      ]
     },
     "execution_count": 16,
     "metadata": {},
     "output_type": "execute_result"
    }
   ],
   "source": [
    "gr_x[0]"
   ]
  },
  {
   "cell_type": "code",
   "execution_count": 17,
   "metadata": {},
   "outputs": [],
   "source": [
    "gr_abs = np.abs(np.fft.fft(gr_x[0][0]))"
   ]
  },
  {
   "cell_type": "code",
   "execution_count": 18,
   "metadata": {
    "collapsed": true
   },
   "outputs": [],
   "source": [
    "z_x_abs = np.abs(np.fft.fft(z_x[0]))"
   ]
  },
  {
   "cell_type": "code",
   "execution_count": 21,
   "metadata": {},
   "outputs": [
    {
     "data": {
      "text/plain": [
       "[<matplotlib.lines.Line2D at 0x7f38dbb5aeb8>]"
      ]
     },
     "execution_count": 21,
     "metadata": {},
     "output_type": "execute_result"
    },
    {
     "data": {
      "image/png": "[encoded data removed]",
      "text/plain": [
       "<Figure size 432x288 with 1 Axes>"
      ]
     },
     "metadata": {},
     "output_type": "display_data"
    }
   ],
   "source": [
    "plt.plot(x[0], gr_abs/z_x_abs)"
   ]
  },
  {
   "cell_type": "code",
   "execution_count": 22,
   "metadata": {},
   "outputs": [
    {
     "data": {
      "text/plain": [
       "array([3.83015255e-01, 3.80499790e-01, 3.78010043e-01, 3.75543993e-01,\n       3.73099561e-01, 3.70674610e-01, 3.68266947e-01, 3.65874321e-01,\n       3.63494429e-01, 3.61124907e-01, 3.58763343e-01, 3.56407266e-01,\n       3.54054154e-01, 3.51701433e-01, 3.49346475e-01, 3.46986602e-01,\n       3.44619085e-01, 3.42241143e-01, 3.39849944e-01, 3.37442608e-01,\n       3.35016203e-01, 3.32567748e-01, 3.30094211e-01, 3.27592510e-01,\n       3.25059513e-01, 3.22492037e-01, 3.19886847e-01, 3.17240657e-01,\n       3.14550127e-01, 3.11811866e-01, 3.09022425e-01, 3.06178301e-01,\n       3.03275933e-01, 3.00311702e-01, 2.97281928e-01, 2.94182869e-01,\n       2.91010718e-01, 2.87761602e-01, 2.84431578e-01, 2.81016631e-01,\n       2.77512673e-01, 2.73915537e-01, 2.70220974e-01, 2.66424651e-01,\n       2.62522146e-01, 2.58508945e-01, 2.54380437e-01, 2.50131907e-01,\n       2.45758536e-01, 2.41255390e-01, 2.36617419e-01, 2.31839449e-01,\n       2.26916174e-01, 2.21842154e-01, 2.16611803e-01, 2.11219383e-01,\n       2.05658996e-01, 1.99924576e-01, 1.94009880e-01, 1.87908477e-01,\n       1.81613738e-01, 1.75118825e-01, 1.68416682e-01, 1.61500020e-01,\n       1.54361303e-01, 1.46992737e-01, 1.39386254e-01, 1.31533496e-01,\n       1.23425797e-01, 1.15054169e-01, 1.06409280e-01, 9.74814313e-02,\n       8.82605427e-02, 7.87361232e-02, 6.88972491e-02, 5.87325367e-02,\n       4.82301143e-02, 3.73775916e-02, 2.61620271e-02, 1.45698936e-02,\n       2.58704005e-03, 9.80134841e-03, 2.26107940e-02, 3.58575731e-02,\n       4.95587666e-02, 6.37323143e-02, 7.83970740e-02, 9.35728846e-02,\n       1.09280635e-01, 1.25542340e-01, 1.42381218e-01, 1.59821784e-01,\n       1.77889938e-01, 1.96613077e-01, 2.16020202e-01, 2.36142047e-01,\n       2.57011209e-01, 2.78662301e-01, 3.01132112e-01, 3.24459784e-01,\n       3.48687011e-01, 3.73858251e-01, 4.00020966e-01, 4.27225886e-01,\n       4.55527295e-01, 4.84983357e-01, 5.15656469e-01, 5.47613664e-01,\n       5.80927049e-01, 6.15674301e-01, 6.51939222e-01, 6.89812358e-01,\n       7.29391695e-01, 7.70783446e-01, 8.14102940e-01, 8.59475623e-01,\n       9.07038197e-01, 9.56939924e-01, 1.00934410e+00, 1.06442974e+00,\n       1.12239357e+00, 1.18345220e+00, 1.24784477e+00, 1.31583595e+00,\n       1.38771943e+00, 1.46382202e+00, 1.54450849e+00, 1.63018720e+00,\n       1.72131688e+00, 1.81841458e+00, 1.92206534e+00, 2.03293365e+00,\n       2.15177750e+00, 2.27946541e+00, 2.41699732e+00, 2.56553046e+00,\n       2.72641157e+00, 2.90121732e+00, 3.09180557e+00, 3.30038109e+00,\n       3.52958035e+00, 3.78258279e+00, 4.06325809e+00, 4.37636427e+00,\n       4.72781820e+00, 5.12507119e+00, 5.57764101e+00, 6.09788160e+00,\n       6.70212450e+00, 7.41241999e+00, 8.25928024e+00, 9.28616929e+00,\n       1.05571913e+01, 1.21709930e+01, 1.42876524e+01, 1.71853167e+01,\n       2.13936675e+01, 2.80613186e+01, 4.02329111e+01, 6.95102614e+01,\n       2.37153361e+02, 1.76492131e+02, 6.54741963e+01, 4.06239938e+01,\n       2.96693035e+01, 2.35018707e+01, 1.95464010e+01, 1.67938903e+01,\n       1.47680150e+01, 1.32145968e+01, 1.19856215e+01, 1.09890518e+01,\n       1.01646509e+01, 9.47134016e+00, 8.88014351e+00, 8.37003613e+00,\n       7.92539220e+00, 7.53435644e+00, 7.18777147e+00, 6.87845173e+00,\n       6.60067982e+00, 6.34984975e+00, 6.12220944e+00, 5.91467153e+00,\n       5.72467251e+00, 5.55006604e+00, 5.38904150e+00, 5.24006075e+00,\n       5.10180878e+00, 4.97315462e+00, 4.85312029e+00, 4.74085574e+00,\n       4.63561858e+00, 4.53675762e+00, 4.44369921e+00, 4.35593610e+00,\n       4.27301806e+00, 4.19454410e+00, 4.12015593e+00, 4.04953241e+00,\n       3.98238487e+00, 3.91845308e+00, 3.85750187e+00, 3.79931819e+00,\n       3.74370850e+00, 3.69049669e+00, 3.63952208e+00, 3.59063779e+00,\n       3.54370932e+00, 3.49861324e+00, 3.45523609e+00, 3.41347338e+00,\n       3.37322874e+00, 3.33441313e+00, 3.29694419e+00, 3.26074557e+00,\n       3.22574645e+00, 3.19188101e+00, 3.15908802e+00, 3.12731042e+00,\n       3.09649501e+00, 3.06659211e+00, 3.03755526e+00, 3.00934099e+00,\n       2.98190857e+00, 2.95521981e+00, 2.92923883e+00, 2.90393195e+00,\n       2.87926747e+00, 2.85521556e+00, 2.83174809e+00, 2.80883856e+00,\n       2.78646196e+00, 2.76459463e+00, 2.74321425e+00, 2.72229969e+00,\n       2.70183093e+00, 2.68178903e+00, 2.66215602e+00, 2.64291485e+00,\n       2.62404936e+00, 2.60554418e+00, 2.58738470e+00, 2.56955704e+00,\n       2.55204799e+00, 2.53484496e+00, 2.51793599e+00, 2.50130965e+00,\n       2.48495505e+00, 2.46886180e+00, 2.45301999e+00, 2.43742016e+00,\n       2.42205326e+00, 2.40691065e+00, 2.39198406e+00, 2.37726558e+00,\n       2.36274765e+00, 2.34842302e+00, 2.33428477e+00, 2.32032623e+00,\n       2.30654104e+00, 2.29292310e+00, 2.27946655e+00, 2.26616576e+00,\n       2.25301535e+00, 2.24001013e+00, 2.22714514e+00, 2.21441559e+00,\n       2.20181691e+00, 2.18934468e+00, 2.17699465e+00, 2.16476277e+00,\n       2.15264509e+00, 2.14063786e+00, 2.12873744e+00, 2.11694033e+00,\n       2.10524318e+00, 2.09364275e+00, 2.08213592e+00, 2.07071968e+00,\n       2.05939115e+00, 2.04814753e+00, 2.03698614e+00, 2.02590438e+00,\n       2.01489978e+00, 2.00396991e+00, 1.99311245e+00, 1.98232519e+00,\n       1.97160594e+00, 1.96095264e+00, 1.95036329e+00, 1.93983594e+00,\n       1.92936872e+00, 1.91895985e+00, 1.90860758e+00, 1.89831024e+00,\n       1.88806621e+00, 1.87787393e+00, 1.86773191e+00, 1.85763868e+00,\n       1.84759286e+00, 1.83759308e+00, 1.82763806e+00, 1.81772653e+00,\n       1.80785729e+00, 1.79802916e+00, 1.78824103e+00, 1.77849181e+00,\n       1.76878045e+00, 1.75910595e+00, 1.74946734e+00, 1.73986368e+00,\n       1.73029408e+00, 1.72075766e+00, 1.71125360e+00, 1.70178109e+00,\n       1.69233936e+00, 1.68292767e+00, 1.67354530e+00, 1.66419158e+00,\n       1.65486585e+00, 1.64556746e+00, 1.63629583e+00, 1.62705037e+00,\n       1.61783051e+00, 1.60863574e+00, 1.59946554e+00, 1.59031942e+00,\n       1.58119693e+00, 1.57209761e+00, 1.56302104e+00, 1.55396682e+00,\n       1.54493457e+00, 1.53592392e+00, 1.52693453e+00, 1.51796608e+00,\n       1.50901824e+00, 1.50009074e+00, 1.49118329e+00, 1.48229564e+00,\n       1.47342754e+00, 1.46457877e+00, 1.45574913e+00, 1.44693840e+00,\n       1.43814642e+00, 1.42937302e+00, 1.42061804e+00, 1.41188135e+00,\n       1.40316282e+00, 1.39446235e+00, 1.38577982e+00, 1.37711517e+00,\n       1.36846831e+00, 1.35983919e+00, 1.35122775e+00, 1.34263397e+00,\n       1.33405782e+00, 1.32549927e+00, 1.31695834e+00, 1.30843503e+00,\n       1.29992937e+00, 1.29144137e+00, 1.28297109e+00, 1.27451857e+00,\n       1.26608388e+00, 1.25766708e+00, 1.24926827e+00, 1.24088753e+00,\n       1.23252496e+00, 1.22418068e+00, 1.21585480e+00, 1.20754745e+00,\n       1.19925877e+00, 1.19098891e+00, 1.18273803e+00, 1.17450628e+00,\n       1.16629385e+00, 1.15810092e+00, 1.14992766e+00, 1.14177430e+00,\n       1.13364102e+00, 1.12552806e+00, 1.11743562e+00, 1.10936395e+00,\n       1.10131328e+00, 1.09328385e+00, 1.08527594e+00, 1.07728979e+00,\n       1.06932568e+00, 1.06138388e+00, 1.05346469e+00, 1.04556839e+00,\n       1.03769529e+00, 1.02984569e+00, 1.02201991e+00, 1.01421828e+00,\n       1.00644111e+00, 9.98688754e-01, 9.90961549e-01, 9.83259845e-01,\n       9.75584002e-01, 9.67934384e-01, 9.60311362e-01, 9.52715314e-01,\n       9.45146625e-01, 9.37605686e-01, 9.30092897e-01, 9.22608660e-01,\n       9.15153388e-01, 9.07727497e-01, 9.00331411e-01, 8.92965561e-01,\n       8.85630381e-01, 8.78326315e-01, 8.71053811e-01, 8.63813322e-01,\n       8.56605308e-01, 8.49430235e-01, 8.42288573e-01, 8.35180800e-01,\n       8.28107397e-01, 8.21068851e-01, 8.14065655e-01, 8.07098305e-01,\n       8.00167304e-01, 7.93273158e-01, 7.86416379e-01, 7.79597480e-01,\n       7.72816983e-01, 7.66075410e-01, 7.59373289e-01, 7.52711148e-01,\n       7.46089523e-01, 7.39508949e-01, 7.32969966e-01, 7.26473115e-01,\n       7.20018939e-01, 7.13607984e-01, 7.07240796e-01, 7.00917923e-01,\n       6.94639912e-01, 6.88407312e-01, 6.82220671e-01, 6.76080535e-01,\n       6.69987452e-01, 6.63941965e-01, 6.57944616e-01, 6.51995944e-01,\n       6.46096486e-01, 6.40246772e-01, 6.34447330e-01, 6.28698682e-01,\n       6.23001342e-01, 6.17355820e-01, 6.11762617e-01, 6.06222225e-01,\n       6.00735127e-01, 5.95301797e-01, 5.89922697e-01, 5.84598277e-01,\n       5.79328974e-01, 5.74115211e-01, 5.68957395e-01, 5.63855919e-01,\n       5.58811157e-01, 5.53823465e-01, 5.48893180e-01, 5.44020616e-01,\n       5.39206067e-01, 5.34449804e-01, 5.29752071e-01, 5.25113089e-01,\n       5.20533048e-01, 5.16012113e-01, 5.11550416e-01, 5.07148060e-01,\n       5.02805112e-01, 4.98521608e-01, 4.94297545e-01, 4.90132886e-01,\n       4.86027553e-01, 4.81981429e-01, 4.77994355e-01, 4.74066129e-01,\n       4.70196506e-01, 4.66385194e-01, 4.62631854e-01, 4.58936101e-01,\n       4.55297497e-01, 4.51715556e-01, 4.48189739e-01, 4.44719455e-01,\n       4.41304057e-01, 4.37942845e-01, 4.34635061e-01, 4.31379892e-01,\n       4.28176466e-01, 4.25023853e-01, 4.21921063e-01, 4.18867048e-01,\n       4.15860699e-01, 4.12900846e-01, 4.09986258e-01, 4.07115642e-01,\n       4.04287646e-01, 4.01500854e-01, 3.98753790e-01, 3.96044915e-01,\n       3.93372630e-01, 3.90735273e-01, 3.88131123e-01, 3.85558398e-01])"
      ]
     },
     "execution_count": 22,
     "metadata": {},
     "output_type": "execute_result"
    }
   ],
   "source": [
    "gr_abs/z_x_abs"
   ]
  },
  {
   "cell_type": "code",
   "execution_count": 23,
   "metadata": {},
   "outputs": [
    {
     "data": {
      "text/plain": [
       "array([2.61086207e+00, 2.62812234e+00, 2.64543236e+00, 2.66280387e+00,\n       2.68024974e+00, 2.69778391e+00, 2.71542154e+00, 2.73317897e+00,\n       2.75107380e+00, 2.76912497e+00, 2.78735278e+00, 2.80577894e+00,\n       2.82442669e+00, 2.84332080e+00, 2.86248774e+00, 2.88195565e+00,\n       2.90175455e+00, 2.92191638e+00, 2.94247510e+00, 2.96346690e+00,\n       2.98493025e+00, 3.00690613e+00, 3.02943816e+00, 3.05257285e+00,\n       3.07635975e+00, 3.10085176e+00, 3.12610540e+00, 3.15218109e+00,\n       3.17914352e+00, 3.20706204e+00, 3.23601111e+00, 3.26607078e+00,\n       3.29732726e+00, 3.32987357e+00, 3.36381026e+00, 3.39924620e+00,\n       3.43629955e+00, 3.47509881e+00, 3.51578404e+00, 3.55850825e+00,\n       3.60343904e+00, 3.65076042e+00, 3.70067500e+00, 3.75340644e+00,\n       3.80920244e+00, 3.86833809e+00, 3.93111991e+00, 3.99789059e+00,\n       4.06903466e+00, 4.14498511e+00, 4.22623154e+00, 4.31332979e+00,\n       4.40691371e+00, 4.50770956e+00, 4.61655360e+00, 4.73441399e+00,\n       4.86241798e+00, 5.00188630e+00, 5.15437666e+00, 5.32173969e+00,\n       5.50619140e+00, 5.71040834e+00, 5.93765407e+00, 6.19194970e+00,\n       6.47830759e+00, 6.80305721e+00, 7.17430859e+00, 7.60262619e+00,\n       8.10203395e+00, 8.69155812e+00, 9.39767663e+00, 1.02583639e+01,\n       1.13300912e+01, 1.27006507e+01, 1.45143676e+01, 1.70263376e+01,\n       2.07339339e+01, 2.67539977e+01, 3.82233378e+01, 6.86346810e+01,\n       3.86542141e+02, 1.02026778e+02, 4.42266645e+01, 2.78881116e+01,\n       2.01780647e+01, 1.56906274e+01, 1.27555781e+01, 1.06868566e+01,\n       9.15075207e+00, 7.96544018e+00, 7.02339825e+00, 6.25696934e+00,\n       5.62145343e+00, 5.08613169e+00, 4.62919667e+00, 4.23473928e+00,\n       3.89088088e+00, 3.58857296e+00, 3.32080160e+00, 3.08204606e+00,\n       2.86790150e+00, 2.67481057e+00, 2.49986897e+00, 2.34068214e+00,\n       2.19525813e+00, 2.06192643e+00, 1.93927558e+00, 1.82610491e+00,\n       1.72138654e+00, 1.62423541e+00, 1.53388532e+00, 1.44966959e+00,\n       1.37100547e+00, 1.29738126e+00, 1.22834589e+00, 1.16350013e+00,\n       1.10248940e+00, 1.04499768e+00, 9.90742406e-01, 9.39470176e-01,\n       8.90953073e-01, 8.44985544e-01, 8.01381729e-01, 7.59973156e-01,\n       7.20606760e-01, 6.83143160e-01, 6.47455167e-01, 6.13426482e-01,\n       5.80950558e-01, 5.49929598e-01, 5.20273677e-01, 4.91899969e-01,\n       4.64732064e-01, 4.38699352e-01, 4.13736495e-01, 3.89782937e-01,\n       3.66782481e-01, 3.44682901e-01, 3.23435603e-01, 3.02995313e-01,\n       2.83319800e-01, 2.64369627e-01, 2.46107921e-01, 2.28500174e-01,\n       2.11514055e-01, 1.95119241e-01, 1.79287265e-01, 1.63991377e-01,\n       1.49206419e-01, 1.34908707e-01, 1.21075926e-01, 1.07687031e-01,\n       9.47221633e-02, 8.21625648e-02, 6.99905045e-02, 5.81892100e-02,\n       4.67428036e-02, 3.56362442e-02, 2.48552733e-02, 1.43863651e-02,\n       4.21668070e-03, 5.66597499e-03, 1.52731924e-02, 2.46159943e-02,\n       3.37048694e-02, 4.25498044e-02, 5.11603133e-02, 5.95454647e-02,\n       6.77139074e-02, 7.56738940e-02, 8.34333037e-02, 9.09996623e-02,\n       9.83801620e-02, 1.05581679e-01, 1.12610793e-01, 1.19473797e-01,\n       1.26176721e-01, 1.32725337e-01, 1.39125180e-01, 1.45381554e-01,\n       1.51499547e-01, 1.57484041e-01, 1.63339724e-01, 1.69071096e-01,\n       1.74682482e-01, 1.80178036e-01, 1.85561755e-01, 1.90837482e-01,\n       1.96008914e-01, 2.01079612e-01, 2.06053001e-01, 2.10932383e-01,\n       2.15720940e-01, 2.20421738e-01, 2.25037734e-01, 2.29571779e-01,\n       2.34026626e-01, 2.38404932e-01, 2.42709260e-01, 2.46942091e-01,\n       2.51105816e-01, 2.55202750e-01, 2.59235130e-01, 2.63205120e-01,\n       2.67114814e-01, 2.70966237e-01, 2.74761350e-01, 2.78502054e-01,\n       2.82190188e-01, 2.85827535e-01, 2.89415824e-01, 2.92956730e-01,\n       2.96451880e-01, 2.99902849e-01, 3.03311170e-01, 3.06678328e-01,\n       3.10005766e-01, 3.13294887e-01, 3.16547052e-01, 3.19763588e-01,\n       3.22945781e-01, 3.26094884e-01, 3.29212118e-01, 3.32298667e-01,\n       3.35355687e-01, 3.38384305e-01, 3.41385615e-01, 3.44360686e-01,\n       3.47310560e-01, 3.50236254e-01, 3.53138757e-01, 3.56019037e-01,\n       3.58878038e-01, 3.61716683e-01, 3.64535872e-01, 3.67336486e-01,\n       3.70119384e-01, 3.72885410e-01, 3.75635385e-01, 3.78370116e-01,\n       3.81090392e-01, 3.83796985e-01, 3.86490653e-01, 3.89172136e-01,\n       3.91842162e-01, 3.94501445e-01, 3.97150684e-01, 3.99790566e-01,\n       4.02421767e-01, 4.05044948e-01, 4.07660762e-01, 4.10269848e-01,\n       4.12872836e-01, 4.15470346e-01, 4.18062987e-01, 4.20651361e-01,\n       4.23236058e-01, 4.25817661e-01, 4.28396747e-01, 4.30973881e-01,\n       4.33549623e-01, 4.36124525e-01, 4.38699134e-01, 4.41273987e-01,\n       4.43849618e-01, 4.46426553e-01, 4.49005313e-01, 4.51586416e-01,\n       4.54170370e-01, 4.56757682e-01, 4.59348854e-01, 4.61944383e-01,\n       4.64544761e-01, 4.67150478e-01, 4.69762021e-01, 4.72379870e-01,\n       4.75004507e-01, 4.77636406e-01, 4.80276043e-01, 4.82923888e-01,\n       4.85580411e-01, 4.88246079e-01, 4.90921358e-01, 4.93606711e-01,\n       4.96302601e-01, 4.99009490e-01, 5.01727837e-01, 5.04458102e-01,\n       5.07200744e-01, 5.09956221e-01, 5.12724991e-01, 5.15507513e-01,\n       5.18304245e-01, 5.21115645e-01, 5.23942171e-01, 5.26784284e-01,\n       5.29642443e-01, 5.32517110e-01, 5.35408747e-01, 5.38317817e-01,\n       5.41244786e-01, 5.44190120e-01, 5.47154288e-01, 5.50137759e-01,\n       5.53141007e-01, 5.56164506e-01, 5.59208732e-01, 5.62274167e-01,\n       5.65361291e-01, 5.68470591e-01, 5.71602554e-01, 5.74757673e-01,\n       5.77936441e-01, 5.81139357e-01, 5.84366924e-01, 5.87619646e-01,\n       5.90898035e-01, 5.94202603e-01, 5.97533869e-01, 6.00892355e-01,\n       6.04278590e-01, 6.07693104e-01, 6.11136434e-01, 6.14609124e-01,\n       6.18111719e-01, 6.21644773e-01, 6.25208843e-01, 6.28804493e-01,\n       6.32432294e-01, 6.36092820e-01, 6.39786654e-01, 6.43514383e-01,\n       6.47276602e-01, 6.51073914e-01, 6.54906924e-01, 6.58776250e-01,\n       6.62682513e-01, 6.66626342e-01, 6.70608374e-01, 6.74629255e-01,\n       6.78689636e-01, 6.82790177e-01, 6.86931547e-01, 6.91114423e-01,\n       6.95339490e-01, 6.99607441e-01, 7.03918978e-01, 7.08274813e-01,\n       7.12675667e-01, 7.17122268e-01, 7.21615356e-01, 7.26155678e-01,\n       7.30743994e-01, 7.35381071e-01, 7.40067688e-01, 7.44804631e-01,\n       7.49592700e-01, 7.54432703e-01, 7.59325460e-01, 7.64271801e-01,\n       7.69272567e-01, 7.74328610e-01, 7.79440792e-01, 7.84609989e-01,\n       7.89837087e-01, 7.95122981e-01, 8.00468582e-01, 8.05874809e-01,\n       8.11342595e-01, 8.16872884e-01, 8.22466633e-01, 8.28124809e-01,\n       8.33848394e-01, 8.39638379e-01, 8.45495770e-01, 8.51421584e-01,\n       8.57416849e-01, 8.63482609e-01, 8.69619917e-01, 8.75829839e-01,\n       8.82113455e-01, 8.88471855e-01, 8.94906142e-01, 9.01417432e-01,\n       9.08006851e-01, 9.14675541e-01, 9.21424650e-01, 9.28255342e-01,\n       9.35168792e-01, 9.42166183e-01, 9.49248714e-01, 9.56417590e-01,\n       9.63674029e-01, 9.71019258e-01, 9.78454516e-01, 9.85981048e-01,\n       9.93600111e-01, 1.00131297e+00, 1.00912089e+00, 1.01702516e+00,\n       1.02502706e+00, 1.03312788e+00, 1.04132893e+00, 1.04963150e+00,\n       1.05803689e+00, 1.06654643e+00, 1.07516142e+00, 1.08388317e+00,\n       1.09271300e+00, 1.10165221e+00, 1.11070211e+00, 1.11986402e+00,\n       1.12913922e+00, 1.13852902e+00, 1.14803470e+00, 1.15765753e+00,\n       1.16739879e+00, 1.17725972e+00, 1.18724156e+00, 1.19734553e+00,\n       1.20757284e+00, 1.21792466e+00, 1.22840215e+00, 1.23900644e+00,\n       1.24973864e+00, 1.26059982e+00, 1.27159101e+00, 1.28271323e+00,\n       1.29396742e+00, 1.30535452e+00, 1.31687540e+00, 1.32853087e+00,\n       1.34032173e+00, 1.35224868e+00, 1.36431238e+00, 1.37651343e+00,\n       1.38885236e+00, 1.40132961e+00, 1.41394558e+00, 1.42670057e+00,\n       1.43959479e+00, 1.45262838e+00, 1.46580138e+00, 1.47911373e+00,\n       1.49256527e+00, 1.50615574e+00, 1.51988477e+00, 1.53375187e+00,\n       1.54775645e+00, 1.56189776e+00, 1.57617497e+00, 1.59058708e+00,\n       1.60513298e+00, 1.61981141e+00, 1.63462097e+00, 1.64956011e+00,\n       1.66462715e+00, 1.67982023e+00, 1.69513735e+00, 1.71057637e+00,\n       1.72613497e+00, 1.74181067e+00, 1.75760085e+00, 1.77350271e+00,\n       1.78951330e+00, 1.80562952e+00, 1.82184811e+00, 1.83816563e+00,\n       1.85457854e+00, 1.87108311e+00, 1.88767549e+00, 1.90435169e+00,\n       1.92110761e+00, 1.93793900e+00, 1.95484153e+00, 1.97181076e+00,\n       1.98884215e+00, 2.00593111e+00, 2.02307296e+00, 2.04026301e+00,\n       2.05749652e+00, 2.07476874e+00, 2.09207492e+00, 2.10941035e+00,\n       2.12677038e+00, 2.14415040e+00, 2.16154593e+00, 2.17895258e+00,\n       2.19636613e+00, 2.21378251e+00, 2.23119789e+00, 2.24860862e+00,\n       2.26601134e+00, 2.28340299e+00, 2.30078079e+00, 2.31814236e+00,\n       2.33548567e+00, 2.35280913e+00, 2.37011159e+00, 2.38739238e+00,\n       2.40465137e+00, 2.42188896e+00, 2.43910614e+00, 2.45630454e+00,\n       2.47348641e+00, 2.49065472e+00, 2.50781315e+00, 2.52496614e+00,\n       2.54211891e+00, 2.55927752e+00, 2.57644889e+00, 2.59364082e+00])"
      ]
     },
     "execution_count": 23,
     "metadata": {},
     "output_type": "execute_result"
    }
   ],
   "source": [
    "z_x_abs/gr_abs"
   ]
  },
  {
   "cell_type": "code",
   "execution_count": 24,
   "metadata": {},
   "outputs": [
    {
     "data": {
      "text/plain": [
       "array([  1.        ,   1.00495172,   1.01012682,   1.01552796,\n         1.02115781,   1.02701906,   1.03311439,   1.03944654,\n         1.04601823,   1.05283223,   1.05989132,   1.06719832,\n         1.07475609,   1.08256752,   1.09063554,   1.09896312,\n         1.10755331,   1.11640918,   1.12553389,   1.13493065,\n         1.14460274,   1.15455352,   1.16478644,   1.17530503,\n         1.18611292,   1.19721384,   1.20861161,   1.22031019,\n         1.23231365,   1.24462619,   1.25725213,   1.27019596,\n         1.28346231,   1.29705595,   1.31098185,   1.32524513,\n         1.33985112,   1.35480532,   1.37011344,   1.38578143,\n         1.40181543,   1.41822184,   1.4350073 ,   1.45217869,\n         1.4697432 ,   1.48770828,   1.50608167,   1.52487144,\n         1.54408597,   1.563734  ,   1.58382461,   1.60436727,\n         1.62537182,   1.64684853,   1.6688081 ,   1.69126166,\n         1.71422084,   1.73769775,   1.76170501,   1.78625581,\n         1.81136389,   1.8370436 ,   1.86330992,   1.89017849,\n         1.91766566,   1.94578848,   1.97456481,   2.00401331,\n         2.03415347,   2.06500572,   2.09659141,   2.12893292,\n         2.16205367,   2.19597821,   2.23073226,   2.26634282,\n         2.30283817,   2.34024805,   2.37860364,   2.41793772,\n         2.45828476,   2.49968099,   2.54216454,   2.58577555,\n         2.63055632,   2.67655144,   2.72380791,   2.77237537,\n         2.82230623,   2.87365588,   2.92648289,   2.98084928,\n         3.0368207 ,   3.09446675,   3.15386127,   3.21508267,\n         3.27821422,   3.34334454,   3.41056794,   3.47998492,\n         3.55170266,   3.6258356 ,   3.70250608,   3.78184498,\n         3.86399248,   3.94909896,   4.03732584,   4.12884671,\n         4.22384843,   4.32253241,   4.42511611,   4.5318346 ,\n         4.64294242,   4.75871563,   4.87945407,   5.00548407,\n         5.13716135,   5.27487446,   5.41904859,   5.57015005,\n         5.72869132,   5.89523692,   6.07041017,   6.25490106,\n         6.44947537,   6.65498542,   6.87238259,   7.10273215,\n         7.34723084,   7.60722777,   7.88424947,   8.18003003,\n         8.49654763,   8.83606902,   9.20120413,   9.59497358,\n        10.02089274,  10.48307734,  10.98637733,  11.53654829,\n        12.14047307,  12.80645204,  13.54458776,  14.36730216,\n        15.2900427 ,  16.33226319,  17.51881259,  18.88194475,\n        20.46429859,  22.32344372,  24.53904273,  27.22457375,\n        30.54740339,  34.76508406,  40.29555709,  47.86502578,\n        58.85641576,  76.26859801, 108.05071092, 184.49349586,\n       622.19006475, 457.77780323, 167.92193522, 103.03823407,\n        74.43390236,  58.3285436 ,  47.99842008,  40.80916102,\n        35.51715198,  31.45876846,  28.24756605,  25.64324832,\n        23.48854574,  21.67620777,  20.13058204,  18.7967759 ,\n        17.6339927 ,  16.6112801 ,  15.70472968,  14.89558105,\n        14.16890703,  13.51268221,  12.91711049,  12.37413143,\n        11.87705207,  11.42026882,  10.99905443,  10.60939316,\n        10.24785174,   9.91147749,   9.59771706,   9.30435113,\n         9.02944152,   8.77128804,   8.52839305,   8.29943218,\n         8.08322994,   7.87873941,   7.68502514,   7.50124865,\n         7.32665623,   7.16056845,   7.00237128,   6.85150835,\n         6.70747439,   6.56980947,   6.438094  ,   6.31194446,\n         6.19100956,   6.07496696,   5.96352029,   5.85639666,\n         5.75334434,   5.65413073,   5.55854062,   5.46637457,\n         5.3774475 ,   5.29158741,   5.20863424,   5.1284389 ,\n         5.05086226,   4.97577443,   4.90305392,   4.83258702,\n         4.76426719,   4.69799446,   4.633675  ,   4.57122057,\n         4.5105482 ,   4.45157974,   4.39424152,   4.33846407,\n         4.28418179,   4.23133271,   4.17985822,   4.12970284,\n         4.08081406,   4.03314208,   3.9866397 ,   3.9412621 ,\n         3.89696672,   3.85371312,   3.81146284,   3.77017928,\n         3.7298276 ,   3.69037459,   3.65178862,   3.6140395 ,\n         3.57709844,   3.54093792,   3.50553168,   3.47085461,\n         3.43688269,   3.40359295,   3.37096339,   3.33897295,\n         3.30760145,   3.27682955,   3.24663869,   3.21701108,\n         3.18792964,   3.15937796,   3.13134029,   3.10380149,\n         3.076747  ,   3.05016282,   3.02403549,   2.99835205,\n         2.97310001,   2.94826737,   2.92384253,   2.89981435,\n         2.87617205,   2.85290528,   2.830004  ,   2.80745858,\n         2.78525967,   2.76339828,   2.74186571,   2.72065355,\n         2.69975369,   2.67915827,   2.6588597 ,   2.63885064,\n         2.61912398,   2.59967284,   2.58049058,   2.56157073,\n         2.54290707,   2.52449353,   2.50632428,   2.48839361,\n         2.47069604,   2.45322621,   2.43597895,   2.41894925,\n         2.40213221,   2.38552313,   2.36911739,   2.35291056,\n         2.33689829,   2.32107638,   2.30544075,   2.28998744,\n         2.27471258,   2.25961242,   2.24468333,   2.22992176,\n         2.21532426,   2.20088748,   2.18660816,   2.17248313,\n         2.15850931,   2.14468368,   2.13100333,   2.11746541,\n         2.10406715,   2.09080584,   2.07767887,   2.06468367,\n         2.05181774,   2.03907866,   2.02646406,   2.01397163,\n         2.00159913,   1.98934437,   1.9772052 ,   1.96517955,\n         1.95326539,   1.94146074,   1.92976367,   1.9181723 ,\n         1.9066848 ,   1.89529937,   1.88401428,   1.87282781,\n         1.86173832,   1.85074419,   1.83984382,   1.8290357 ,\n         1.81831831,   1.80769018,   1.7971499 ,   1.78669607,\n         1.77632732,   1.76604234,   1.75583983,   1.74571854,\n         1.73567722,   1.72571469,   1.71582977,   1.70602134,\n         1.69628827,   1.68662949,   1.67704394,   1.6675306 ,\n         1.65808847,   1.64871657,   1.63941396,   1.6301797 ,\n         1.62101291,   1.61191272,   1.60287826,   1.59390872,\n         1.58500329,   1.5761612 ,   1.56738168,   1.558664  ,\n         1.55000745,   1.54141134,   1.532875  ,   1.52439777,\n         1.51597904,   1.50761819,   1.49931464,   1.49106783,\n         1.4828772 ,   1.47474224,   1.46666244,   1.45863731,\n         1.45066639,   1.44274923,   1.43488541,   1.42707452,\n         1.41931616,   1.41160998,   1.40395563,   1.39635276,\n         1.38880109,   1.3813003 ,   1.37385014,   1.36645035,\n         1.3591007 ,   1.35180096,   1.34455096,   1.33735052,\n         1.33019947,   1.3230977 ,   1.31604507,   1.3090415 ,\n         1.30208691,   1.29518125,   1.28832448,   1.2815166 ,\n         1.2747576 ,   1.26804752,   1.26138641,   1.25477434,\n         1.2482114 ,   1.24169771,   1.2352334 ,   1.22881865,\n         1.22245362,   1.21613852,   1.20987359,   1.20365908,\n         1.19749527,   1.19138245,   1.18532096,   1.17931114,\n         1.17335337,   1.16744806,   1.16159564,   1.15579656,\n         1.1500513 ,   1.14436038,   1.13872433,   1.13314373,\n         1.12761916,   1.12215125,   1.11674065,   1.11138806,\n         1.10609418,   1.10085976,   1.09568558,   1.09057245,\n         1.08552121,   1.08053273,   1.07560793,   1.07074774,\n         1.06595315,   1.06122515,   1.05656481,   1.05197319,\n         1.04745142,   1.04300064,   1.03862206,   1.03431689,\n         1.03008639,   1.02593188,   1.02185469,   1.0178562 ,\n         1.01393783,   1.01010102,   1.00634728,   1.00267813,\n         0.99909515,   0.99559995,   0.99219418,   0.98887953,\n         0.98565772,   0.98253052,   0.97949974,   0.97656722,\n         0.97373484,   0.97100453,   0.96837824,   0.96585797,\n         0.96344575,   0.96114364,   0.95895374,   0.95687821,\n         0.95491919,   0.95307891,   0.95135959,   0.94976351,\n         0.94829295,   0.94695025,   0.94573777,   0.94465787,\n         0.94371298,   0.94290551,   0.94223793,   0.94171272,\n         0.94133236,   0.94109937,   0.94101628,   0.94108565,\n         0.94131004,   0.94169203,   0.94223419,   0.94293914,\n         0.94380947,   0.94484782,   0.94605679,   0.94743902,\n         0.94899713,   0.95073377,   0.95265157,   0.95475318,\n         0.95704122,   0.95951834,   0.96218717,   0.96505037,\n         0.96811055,   0.97137037,   0.97483245,   0.97849943,\n         0.98237393,   0.98645861,   0.99075609,   0.995269  ])"
      ]
     },
     "execution_count": 24,
     "metadata": {},
     "output_type": "execute_result"
    }
   ],
   "source": [
    "gr_abs"
   ]
  },
  {
   "cell_type": "code",
   "execution_count": 25,
   "metadata": {},
   "outputs": [
    {
     "data": {
      "text/plain": [
       "array([  2.61086207,   2.64113607,   2.67222218,   2.70415179,\n         2.73695796,   2.77067549,   2.80534108,   2.84099341,\n         2.87767334,   2.91542401,   2.95429101,   2.99432258,\n         3.03556979,   3.07808675,   3.12193085,   3.16716298,\n         3.21384786,   3.26205427,   3.31185545,   3.3633294 ,\n         3.41655933,   3.47163405,   3.5286485 ,   3.58770423,\n         3.64891005,   3.71238264,   3.77824729,   3.84663872,\n         3.91770197,   3.99159341,   4.06848187,   4.14854992,\n         4.23199525,   4.31903233,   4.40989419,   4.50483448,\n         4.60412979,   4.70808234,   4.81702297,   4.93131465,\n         5.05135646,   5.17758817,   5.31049562,   5.45061687,\n         5.5985494 ,   5.7549586 ,   5.92058763,   6.09626918,\n         6.28293933,   6.48165416,   6.69360955,   6.92016514,\n         7.16287337,   7.42351488,   7.70414205,   8.00713288,\n         8.33525825,   8.69176657,   9.0804912 ,   9.50598844,\n         9.97371627,  10.4902691 ,  11.06368973,  11.70389014,\n        12.42322796,  13.23731035,  14.16613729,  15.23576405,\n        16.48078048,  17.94811721,  19.70308813,  21.83936874,\n        24.49626536,  27.89035225,  32.3776681 ,  38.58751796,\n        47.74689436,  62.61099093,  90.91817027, 165.95438433,\n       950.23065386, 255.03439783, 112.43145801,  72.11239713,\n        53.0795358 ,  41.99677142,  34.74374451,  29.62797802,\n        25.82622456,  22.88993398,  20.55385483,  18.65108255,\n        17.0713461 ,  15.73886541,  14.59984412,  13.61503684,\n        12.75514105,  11.99783583,  11.32581948,  10.72547381,\n        10.18593336,   9.69842339,   9.25578006,   8.85209698,\n         8.48246092,   8.1427515 ,   7.82948743,   7.53970725,\n         7.27087581,   7.0208102 ,   6.78762062,   6.56966282,\n         6.36549944,   6.17386848,   5.99365735,   5.82388138,\n         5.66366595,   5.51223157,   5.36888124,   5.23298985,\n         5.10399513,   4.98138998,   4.8647158 ,   4.7535569 ,\n         4.64753555,   4.54630777,   4.44955962,   4.357004  ,\n         4.26837786,   4.18343971,   4.10196746,   4.02375652,\n         3.94861812,   3.87637776,   3.80687395,   3.73995699,\n         3.6754879 ,   3.6133375 ,   3.55338558,   3.49552006,\n         3.43963641,   3.38563694,   3.33343033,   3.28293105,\n         3.23405894,   3.18673879,   3.14089999,   3.09647612,\n         3.05340472,   3.01162694,   2.97108731,   2.93173352,\n         2.89351613,   2.85638847,   2.82030637,   2.78522804,\n         2.75111388,   2.71792638,   2.68562995,   2.65419079,\n         2.62357684,   2.59375758,   2.56470403,   2.53638858,\n         2.50878496,   2.48186812,   2.45561421,   2.43000046,\n         2.40500514,   2.38060751,   2.35678776,   2.33352694,\n         2.31080693,   2.28861042,   2.2669208 ,   2.24572219,\n         2.22499938,   2.20473776,   2.18492334,   2.16554272,\n         2.14658299,   2.1280318 ,   2.10987726,   2.09210797,\n         2.07471293,   2.05768161,   2.04100385,   2.02466988,\n         2.00867029,   1.99299604,   1.9776384 ,   1.96258896,\n         1.94783962,   1.93338256,   1.91921025,   1.90531541,\n         1.89169103,   1.87833033,   1.86522677,   1.85237402,\n         1.83976599,   1.82739676,   1.81526063,   1.80335208,\n         1.79166577,   1.78019655,   1.7689394 ,   1.7578895 ,\n         1.74704215,   1.73639283,   1.72593714,   1.71567082,\n         1.70558974,   1.69568992,   1.68596746,   1.67641861,\n         1.66703973,   1.65782728,   1.64877782,   1.63988802,\n         1.63115466,   1.62257459,   1.61414476,   1.60586222,\n         1.5977241 ,   1.58972759,   1.58186999,   1.57414865,\n         1.56656102,   1.55910461,   1.55177699,   1.5445758 ,\n         1.53749876,   1.53054363,   1.52370826,   1.51699053,\n         1.51038839,   1.50389984,   1.49752294,   1.4912558 ,\n         1.48509658,   1.47904348,   1.47309476,   1.46724872,\n         1.46150371,   1.45585811,   1.45031035,   1.4448589 ,\n         1.43950227,   1.43423902,   1.42906772,   1.42398699,\n         1.41899551,   1.41409194,   1.40927503,   1.40454352,\n         1.3998962 ,   1.3953319 ,   1.39084945,   1.38644775,\n         1.38212569,   1.37788221,   1.37371627,   1.36962686,\n         1.36561298,   1.36167367,   1.357808  ,   1.35401505,\n         1.35029393,   1.34664377,   1.34306372,   1.33955295,\n         1.33611066,   1.33273606,   1.3294284 ,   1.32618692,\n         1.3230109 ,   1.31989962,   1.31685241,   1.31386859,\n         1.31094751,   1.30808852,   1.30529102,   1.30255439,\n         1.29987804,   1.29726142,   1.29470395,   1.29220511,\n         1.28976435,   1.28738118,   1.28505509,   1.2827856 ,\n         1.28057224,   1.27841456,   1.2763121 ,   1.27426445,\n         1.27227117,   1.27033188,   1.26844617,   1.26661367,\n         1.26483401,   1.26310683,   1.26143179,   1.25980856,\n         1.25823681,   1.25671623,   1.25524652,   1.2538274 ,\n         1.25245858,   1.2511398 ,   1.24987081,   1.24865135,\n         1.24748119,   1.2463601 ,   1.24528786,   1.24426428,\n         1.24328914,   1.24236227,   1.24148349,   1.24065263,\n         1.23986953,   1.23913404,   1.23844602,   1.23780534,\n         1.23721188,   1.23666553,   1.23616617,   1.23571373,\n         1.23530811,   1.23494924,   1.23463704,   1.23437147,\n         1.23415246,   1.23397998,   1.233854  ,   1.23377448,\n         1.23374143,   1.23375483,   1.23381468,   1.23392099,\n         1.23407379,   1.2342731 ,   1.23451896,   1.23481142,\n         1.23515053,   1.23553636,   1.23596898,   1.23644847,\n         1.23697492,   1.23754843,   1.23816911,   1.23883708,\n         1.23955247,   1.2403154 ,   1.24112603,   1.24198452,\n         1.24289101,   1.2438457 ,   1.24484876,   1.24590038,\n         1.24700077,   1.24815013,   1.2493487 ,   1.25059671,\n         1.25189438,   1.25324199,   1.25463979,   1.25608806,\n         1.25758707,   1.25913713,   1.26073854,   1.26239161,\n         1.26409669,   1.26585409,   1.26766419,   1.26952733,\n         1.2714439 ,   1.27341428,   1.27543887,   1.27751808,\n         1.27965234,   1.28184209,   1.28408777,   1.28638984,\n         1.2887488 ,   1.29116512,   1.29363932,   1.29617191,\n         1.29876343,   1.30141443,   1.30412548,   1.30689715,\n         1.30973004,   1.31262477,   1.31558196,   1.31860227,\n         1.32168634,   1.32483488,   1.32804857,   1.33132814,\n         1.33467432,   1.33808786,   1.34156955,   1.34512018,\n         1.34874058,   1.35243156,   1.35619401,   1.36002879,\n         1.36393682,   1.36791902,   1.37197635,   1.37610979,\n         1.38032033,   1.384609  ,   1.38897687,   1.393425  ,\n         1.39795453,   1.40256657,   1.4072623 ,   1.41204292,\n         1.41690966,   1.42186379,   1.42690658,   1.43203938,\n         1.43726355,   1.44258049,   1.44799163,   1.45349845,\n         1.45910245,   1.4648052 ,   1.47060829,   1.47651335,\n         1.48252206,   1.48863615,   1.4948574 ,   1.50118762,\n         1.50762869,   1.51418251,   1.52085108,   1.52763642,\n         1.5345406 ,   1.54156578,   1.54871415,   1.55598798,\n         1.5633896 ,   1.5709214 ,   1.57858584,   1.58638546,\n         1.59432286,   1.60240071,   1.61062179,   1.61898893,\n         1.62750505,   1.63617316,   1.64499636,   1.65397785,\n         1.66312091,   1.67242894,   1.68190542,   1.69155395,\n         1.70137825,   1.71138214,   1.72156957,   1.73194461,\n         1.74251146,   1.75327445,   1.76423807,   1.77540693,\n         1.7867858 ,   1.79837962,   1.81019348,   1.82223263,\n         1.83450253,   1.84700879,   1.85975724,   1.8727539 ,\n         1.88600499,   1.89951697,   1.91329651,   1.92735052,\n         1.94168617,   1.95631088,   1.97123235,   1.98645855,\n         2.00199777,   2.01785858,   2.03404991,   2.05058101,\n         2.06746149,   2.08470134,   2.10231094,   2.12030107,\n         2.13868298,   2.15746833,   2.17666929,   2.19629852,\n         2.21636921,   2.2368951 ,   2.25789053,   2.27937046,\n         2.30135047,   2.32384686,   2.34687664,   2.37045759,\n         2.3946083 ,   2.4193482 ,   2.44469764,   2.47067792,\n         2.49731136,   2.52462134,   2.55263242,   2.58137032])"
      ]
     },
     "execution_count": 25,
     "metadata": {},
     "output_type": "execute_result"
    }
   ],
   "source": [
    "z_x_abs"
   ]
  },
  {
   "cell_type": "code",
   "execution_count": 26,
   "metadata": {
    "collapsed": true
   },
   "outputs": [],
   "source": []
  },
  {
   "cell_type": "code",
   "execution_count": null,
   "metadata": {},
   "outputs": [],
   "source": []
  }
 ],
 "metadata": {
  "kernelspec": {
   "display_name": "Python 3",
   "language": "python",
   "name": "python3"
  },
  "language_info": {
   "codemirror_mode": {
    "name": "ipython",
    "version": 3
   },
   "file_extension": ".py",
   "mimetype": "text/x-python",
   "name": "python",
   "nbconvert_exporter": "python",
   "pygments_lexer": "ipython3",
   "version": "3.6.1"
  }
 },
 "nbformat": 4,
 "nbformat_minor": 2
}
