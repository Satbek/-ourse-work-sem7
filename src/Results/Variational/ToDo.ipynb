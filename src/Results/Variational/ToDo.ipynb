{
 "cells": [
  {
   "cell_type": "markdown",
   "metadata": {},
   "source": [
    "# ToDo"
   ]
  },
  {
   "cell_type": "markdown",
   "metadata": {},
   "source": [
    "## Incorrect step.\n",
    "Не ясно какой выбирать h, и как правильно задавать сетку. Есть несколько способов, meshgrid, ogrid, mgrid и т.д. В этих функциях есть разные опции, как задать сетку например. Через h, через количество элементов.\n",
    "\n",
    "### Нужно:\n",
    "    1.Найти приемлемый по точности вариант опытным путем. Done\n",
    "\n",
    "    2.Посмотреть исходники."
   ]
  },
  {
   "cell_type": "markdown",
   "metadata": {},
   "source": [
    "## RectagleVariational\n",
    "Метод работает и для прямоугольных матриц. Нужно модифицировать уже написанное.\n",
    "\n",
    "### Нужно:\n",
    "    1. Додифировать функцию mehtod, модуля variational. Для работы с прямоугольными матрицами. Done\n",
    "\n",
    "#### Выяснилось, что соотношения сторон как-то влияют на точность, и что иногда при выборее меньшей h метод работает точнее."
   ]
  },
  {
   "cell_type": "markdown",
   "metadata": {},
   "source": [
    "## Without additional divide h\n",
    "В левой части для вариационного метода\n",
    "\n",
    "$$B_2 \\Lambda_1 u + B_1 \\Lambda_2 u + \\alpha B_1 B_2 u + \\gamma \\Lambda_1 \\Lambda_2 u = B_1 G_1 g_1 + G_2 B_2 g_2$$\n",
    "\n",
    "Матрицы $B, \\Lambda, G$ получаются из различных вариантов скалярных произведений $\\phi_i(x), \\phi'_i(x)$, деленных на $h$\n",
    "\n",
    "Непонятна причина по которой выполняется это деление.\n",
    "\n",
    "### Нужно:\n",
    "    1. Переписать метод, чтобы матрицы были без лишнего деления. Исследовать результат.\n",
    "### Итоги:\n",
    "   1. В исходной программе найдет баг для G1, $h \\ast \\ast 2$ , должно быть $2 \\ast h$\n",
    "   2. Похоже, что этот h никакой роли не играет\n",
    "   3. Как точность зависит от соотношения сторон?\n",
    "   4. Нужно еще разобраться с тем как строить сетку. При последнем полиноме функции g1 получается с nan-ом , и все валится когда квадратная матрица\n",
    "   5. g1, g2 в некоторых случаях нужно обрезать гауссом($x^2 + y^2$), а в некоторых нет\n",
    "   \n",
    "### Нужно:\n",
    "    1. Исправить баг.\n",
    "    2. Написать текст для этого случая.\n",
    "    3. Доказывает, что нужно посмотреть реализации."
   ]
  },
  {
   "cell_type": "markdown",
   "metadata": {},
   "source": [
    "## Variotional Method\n",
    "Общее описание метода."
   ]
  },
  {
   "cell_type": "markdown",
   "metadata": {},
   "source": [
    "## Variational Method Using\n",
    "Написание функций для более удобной работы с методом.\n",
    "### Нужно:\n",
    "    1.Написать функции, для пре и постобработки изображений."
   ]
  },
  {
   "cell_type": "markdown",
   "metadata": {},
   "source": [
    "## $G_i, B_i , g_i$ multiplication order problem\n",
    "$$B_2 \\Lambda_1 u + B_1 \\Lambda_2 u + \\alpha B_1 B_2 u + \\gamma \\Lambda_1 \\Lambda_2 u = B_1 G_1 g_1 + G_2 B_2 g_2$$\n",
    "При реализации метода выяснилось, что порядок умножения матриц при вычислении $F =  B_1 G_1 g_1 + G_2 B_2 g_2$ иной.\n",
    "### Нужно:\n",
    "    1. Исследовать различные варианты умножений.\n",
    "    2. Написать теоритическое обоснование."
   ]
  },
  {
   "cell_type": "markdown",
   "metadata": {},
   "source": [
    "## Frequency Charackteristick\n",
    "\n",
    "Нужно частотную характеристику метода. Она будет зависеть от вида $g1, g2$\n",
    "\n",
    "### Нужно:\n",
    "   1.Частотсная характеристика, когда $g_i = \\sum \\limits_{n} \\sum \\limits_{m} g^i_{nm} \\phi_{nm}(x,y)$\n",
    "  \n",
    "  2.Частотная характеристика, когда:\n",
    "$$g_1 = \\frac{1}{h_1h_2} \\sum \\limits_{n=1}^{N_1 - 1} \\sum \\limits_{m=1}^{N_2 - 1} \\int \\limits _{\\Delta_{nm}} u_\\xi(\\xi,\\eta) d\\xi d\\eta \\, \\overset{\\circ}{\\varphi}_{nm}(x,y)$$\n",
    "\n",
    "$$g_2 = \\frac{1}{h_1h_2} \\sum \\limits_{n=1}^{N_1 - 1} \\sum \\limits_{m=1}^{N_2 - 1} \\int \\limits _{\\Delta_{nm}} u_\\eta(\\xi,\\eta) d\\xi d\\eta \\, \\overset{\\circ}{\\varphi}_{nm}(x,y)$$"
   ]
  },
  {
   "cell_type": "markdown",
   "metadata": {},
   "source": [
    "## New variant of $g_1, g_2$ interpretation\n",
    "\n",
    "Если: \n",
    "\n",
    "$g_1 = \\frac{1}{h_1h_2} \\sum \\limits_{n=1}^{N_1 - 1} \\sum \\limits_{m=1}^{N_2 - 1} \\int \\limits _{\\Delta_{nm}} u_\\xi(\\xi,\\eta) d\\xi d\\eta$ $\\overset{\\circ}{\\varphi}_{nm}(x,y)$\n",
    "\n",
    "$g_2 = \\frac{1}{h_1h_2} \\sum \\limits_{n=1}^{N_1 - 1} \\sum \\limits_{m=1}^{N_2 - 1} \\int \\limits _{\\Delta_{nm}} u_\\eta(\\xi,\\eta) d\\xi d\\eta$ $\\overset{\\circ}{\\varphi}_{nm}(x,y)$ \n",
    "\n",
    "Где:\n",
    "$$\\Delta_{nm} = [x_{n-1}, x_n] \\cup [y_{n-1}, y_n] $$\n",
    "$$\\overset{\\circ}{\\varphi}_{nm}(x,y) = \\begin{cases} 1, \\, x \\in \\Delta_{nm} \\\\ 0, \\, else\\end{cases}$$\n",
    "\n",
    "В этом случае будут другие матрицы для получения $F$. Также нельзя будет взять $g_1, g_2$, как просто производные в точках.\n",
    "\n",
    "Когда все будет написано необходимо буждет расширять модуль variational. Думаю, что стоит использовать наследование. Будет один базовый класс. Наследники будут отличаться только получением $F$ из $g_1, g_2$.\n",
    "\n",
    "### Нужно:\n",
    "    1.Написать \"генераторы\" $g_1, g_2$\n",
    "    2.Вывести и запрограммировать получение операторов для получения F.\n",
    "    3.Написать класс."
   ]
  },
  {
   "cell_type": "markdown",
   "metadata": {},
   "source": [
    "## Tests\n",
    "\n",
    "Нужно написать тесты для уже готовых функций из src/lib."
   ]
  },
  {
   "cell_type": "markdown",
   "metadata": {},
   "source": [
    "## Projects structure\n",
    "\n",
    "Нужно продумать структуру проекта. Как называются модули, как и связаны."
   ]
  },
  {
   "cell_type": "code",
   "execution_count": null,
   "metadata": {},
   "outputs": [],
   "source": []
  }
 ],
 "metadata": {
  "kernelspec": {
   "display_name": "Python 3",
   "language": "python",
   "name": "python3"
  },
  "language_info": {
   "codemirror_mode": {
    "name": "ipython",
    "version": 3
   },
   "file_extension": ".py",
   "mimetype": "text/x-python",
   "name": "python",
   "nbconvert_exporter": "python",
   "pygments_lexer": "ipython3",
   "version": "3.6.4"
  }
 },
 "nbformat": 4,
 "nbformat_minor": 2
}
