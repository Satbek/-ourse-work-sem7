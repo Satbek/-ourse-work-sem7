{
 "cells": [
  {
   "cell_type": "code",
   "execution_count": 1,
   "metadata": {
    "collapsed": true
   },
   "outputs": [],
   "source": [
    "import matplotlib.pyplot as plt\n",
    "import sys\n",
    "sys.path.append('../..')\n",
    "import lib.variational_method as variational\n",
    "import numpy as np\n",
    "%matplotlib inline"
   ]
  },
  {
   "cell_type": "markdown",
   "metadata": {},
   "source": [
    "В левой части для вариационного метода\n",
    "\n",
    "$$B_2 \\Lambda_1 u + B_1 \\Lambda_2 u + \\alpha B_1 B_2 u + \\gamma \\Lambda_1 \\Lambda_2 u = B_1 G_1 g_1 + G_2 B_2 g_2$$\n",
    "\n",
    "Матрицы $B, \\Lambda, G$ получаются из различных вариантов скалярных произведений $\\phi_i(x), \\phi'_i(x)$, деленных на $h$\n",
    "\n",
    "Непонятна причина по которой выполняется это деление. Напишу реализацию для метода без этого деления."
   ]
  },
  {
   "cell_type": "code",
   "execution_count": null,
   "metadata": {
    "collapsed": true
   },
   "outputs": [],
   "source": []
  },
  {
   "cell_type": "code",
   "execution_count": 2,
   "metadata": {
    "collapsed": true
   },
   "outputs": [],
   "source": [
    "def create_l(dim, h):\n",
    "    \"\"\"\n",
    "    Матрица L, 2-я производная\n",
    "    :param dim: размерность\n",
    "    :param h: шаг сетки\n",
    "    :return:[[ 2, -1 0],\n",
    "             [-1, 2, -1],\n",
    "             [0,-1, 2]] / h\n",
    "    \"\"\"\n",
    "    diag1 = np.array([2 if i == j else 0 for i in range (dim) for j in range(dim)]).reshape(dim,dim)\n",
    "    diag2 = np.array([-1 if np.abs(i - j) == 1 else 0 for i in range (dim) for j in range(dim)]).reshape(dim,dim)\n",
    "    return (diag1 + diag2) / h**2"
   ]
  },
  {
   "cell_type": "code",
   "execution_count": null,
   "metadata": {
    "collapsed": true
   },
   "outputs": [],
   "source": []
  }
 ],
 "metadata": {
  "kernelspec": {
   "display_name": "Python 3",
   "language": "python",
   "name": "python3"
  },
  "language_info": {
   "codemirror_mode": {
    "name": "ipython",
    "version": 3
   },
   "file_extension": ".py",
   "mimetype": "text/x-python",
   "name": "python",
   "nbconvert_exporter": "python",
   "pygments_lexer": "ipython3",
   "version": "3.6.1"
  }
 },
 "nbformat": 4,
 "nbformat_minor": 2
}
