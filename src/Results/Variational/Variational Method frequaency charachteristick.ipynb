{
 "cells": [
  {
   "cell_type": "code",
   "execution_count": 1,
   "metadata": {
    "collapsed": true
   },
   "outputs": [],
   "source": [
    "import matplotlib.pyplot as plt\n",
    "import sys\n",
    "sys.path.append('../..')\n",
    "import lib.variational_method.eigenvalues as eigenvalues\n",
    "import numpy as np\n",
    "%matplotlib inline"
   ]
  },
  {
   "cell_type": "markdown",
   "metadata": {},
   "source": [
    "# Вывод аналитической формулы для частотной характеристики"
   ]
  },
  {
   "cell_type": "markdown",
   "metadata": {},
   "source": [
    "Исходное тождество:\n",
    "$$(u_x, \\phi_x) + (u_y, \\phi_y) + \\alpha(u, \\phi) = (g_1, \\phi_x) + (g_2, \\phi_y)$$\n",
    "\n",
    "Модифицированный метод:\n",
    "$B_2 \\Lambda_1 u + B_1 \\Lambda_2 u + \\alpha B_1 B_2 u + \\gamma \\Lambda_1 \\Lambda_2 u = B_1 G_1 g_1 + G_2 B_2 g_2$\n",
    "\n",
    "Если точное решение $v(x,y) = e^{ikx}e^{ily}, k \\neq 0, l \\neq 0$\n",
    "\n",
    "$g_1 = v_x, g_2 = v_y$, то:\n",
    "\n",
    "$(g_1, \\phi_x) = h \\lambda_k e^{ikx_n} \\frac{h}{l^2} \\lambda_l e^{ily_m}$\n",
    "\n",
    "$(g_2, \\phi_y) = h \\lambda_l e^{ily_m} \\frac{h}{k^2} \\lambda_k e^{ikx_n}$\n",
    "\n",
    "Теперь рассмотрим приближеное решение: $u(x,y) = u_{kl} e^{ikx}e^{ily}$\n",
    "\n",
    "В левую часть исходного равенства подставляется точное решение,а в правую приближенное.\n",
    "\n",
    "Получаем чатсотную характеристику\n",
    "$H_{kl} = \\frac{1}{u_{kl}} = \\frac{(\\frac{1}{k^2} + \\frac{1}{l^2})\\lambda_k\\lambda_l}{\\mu_l \\lambda_k + \\mu_k \\lambda_l + \\alpha \\mu_k \\mu_l + \\gamma \\lambda_k \\lambda_l}$"
   ]
  },
  {
   "cell_type": "markdown",
   "metadata": {
    "collapsed": true
   },
   "source": [
    "\n",
    "\n"
   ]
  },
  {
   "cell_type": "code",
   "execution_count": 2,
   "metadata": {
    "collapsed": true
   },
   "outputs": [],
   "source": [
    "def diag_H_kk(n, alpha, gamma):\n",
    "    h = 2 * np.pi / n**2\n",
    "    lambd = eigenvalues.get_lambda(n, h)\n",
    "    mu = eigenvalues.get_mu(n, h)\n",
    "    res = np.zeros(n - 1)\n",
    "    for i in range(1, n):\n",
    "        res[i - 1] = (2 / i**2 * lambd[i]**2) / (2 * mu[i] * lambd[i] + alpha * mu[i]**2 + gamma * lambd[i]**2)\n",
    "    return res"
   ]
  },
  {
   "cell_type": "code",
   "execution_count": 3,
   "metadata": {},
   "outputs": [
    {
     "data": {
      "text/plain": [
       "(0, 1.5)"
      ]
     },
     "execution_count": 3,
     "metadata": {},
     "output_type": "execute_result"
    },
    {
     "data": {
      "image/png": "[encoded data removed]",
      "text/plain": [
       "<Figure size 432x288 with 1 Axes>"
      ]
     },
     "metadata": {},
     "output_type": "display_data"
    }
   ],
   "source": [
    "y = diag_H_kk(1000, 0.0001, 0)\n",
    "x = np.arange(1, 1000)\n",
    "plt.plot(x, y)\n",
    "plt.ylim(0,1.5)"
   ]
  },
  {
   "cell_type": "code",
   "execution_count": null,
   "metadata": {
    "collapsed": true
   },
   "outputs": [],
   "source": []
  }
 ],
 "metadata": {
  "kernelspec": {
   "display_name": "Python 3",
   "language": "python",
   "name": "python3"
  },
  "language_info": {
   "codemirror_mode": {
    "name": "ipython",
    "version": 3
   },
   "file_extension": ".py",
   "mimetype": "text/x-python",
   "name": "python",
   "nbconvert_exporter": "python",
   "pygments_lexer": "ipython3",
   "version": "3.6.1"
  }
 },
 "nbformat": 4,
 "nbformat_minor": 2
}
