{
 "cells": [
  {
   "cell_type": "code",
   "execution_count": 1,
   "metadata": {},
   "outputs": [],
   "source": [
    "import sys\n",
    "sys.path.append(\"..\")\n",
    "import lib.data as data\n",
    "import lib.haar_wawelet_method.gradients as grad\n",
    "import numpy as np\n",
    "import lib.haar_wawelet_method.util as ut\n",
    "from lib.mesurements import mse"
   ]
  },
  {
   "cell_type": "code",
   "execution_count": 2,
   "metadata": {},
   "outputs": [],
   "source": [
    "import numpy as np\n",
    "import lib.haar_wawelet_method.gradients as grad\n",
    "import lib.data as data\n",
    "import matplotlib.pyplot as plt\n",
    "import lib.mesurements\n",
    "import lib.haar_wawelet_method.haar as haar\n",
    "%matplotlib inline"
   ]
  },
  {
   "cell_type": "markdown",
   "metadata": {},
   "source": [
    "$\\lambda_k = \\frac{4}{h^2}\\sin^{2}(\\frac{kh}{2})$"
   ]
  },
  {
   "cell_type": "code",
   "execution_count": 3,
   "metadata": {
    "collapsed": true
   },
   "outputs": [],
   "source": [
    "def get_lamda (N,h):\n",
    "    return np.array([4 / h**2 * np.sin(k * h / 2)**2 for k in range (N)])"
   ]
  },
  {
   "cell_type": "markdown",
   "metadata": {},
   "source": [
    "$\\mu_k = 1 - \\frac{h^2}{6}\\lambda_k$"
   ]
  },
  {
   "cell_type": "code",
   "execution_count": 4,
   "metadata": {
    "collapsed": true
   },
   "outputs": [],
   "source": [
    "def get_mu (N,h):\n",
    "    return 1 - h**2 / 6 * get_lamda(N,h)"
   ]
  },
  {
   "cell_type": "code",
   "execution_count": 5,
   "metadata": {
    "collapsed": true
   },
   "outputs": [],
   "source": [
    "def create_L(dim):\n",
    "    diag1 = np.array([2 if i == j else 0 for i in range (dim) for j in range(dim)]).reshape(dim,dim)\n",
    "    diag2 = np.array([-1 if np.abs(i - j) == 1 else 0 for i in range (dim) for j in range(dim)]).reshape(dim,dim)\n",
    "    return diag1 + diag2"
   ]
  },
  {
   "cell_type": "code",
   "execution_count": 6,
   "metadata": {
    "collapsed": true
   },
   "outputs": [],
   "source": [
    "def create_B(dim):\n",
    "    return np.eye(dim) - 1 / 6 * create_L(dim)"
   ]
  },
  {
   "cell_type": "code",
   "execution_count": 7,
   "metadata": {
    "collapsed": true
   },
   "outputs": [],
   "source": [
    "def create_G1(dim):\n",
    "    diag1 = np.array([-1 if i - j == -1 else 0 for i in range (dim) for j in range(dim)]).reshape(dim,dim)\n",
    "    diag2 = np.array([1 if i - j == 1 else 0 for i in range (dim) for j in range(dim)]).reshape(dim,dim)\n",
    "    return 0.5 * (diag1 + diag2)"
   ]
  },
  {
   "cell_type": "code",
   "execution_count": 8,
   "metadata": {
    "collapsed": true
   },
   "outputs": [],
   "source": [
    "def create_G2(dim):\n",
    "    return create_G1(dim).T"
   ]
  },
  {
   "cell_type": "markdown",
   "metadata": {},
   "source": [
    "добавить выбросы?"
   ]
  },
  {
   "cell_type": "markdown",
   "metadata": {},
   "source": [
    "G2=G1';\n",
    "G1g1=zeros(N,N);\n",
    "g2G2=zeros(N,N);\n",
    "for i=1:N\n",
    "    G1g1(:,i)=G1*g1(:,i);\n",
    "    g2G2(:,i)=g2*G2(:,i);\n",
    "end;\n",
    "\n",
    "for i=1:N\n",
    "    G1(:,i)=G1g1*B(:,i);\n",
    "    G2(:,i)=B*g2G2(:,i);\n",
    "end;\n",
    "\n",
    "F=G1+G2;\n",
    "% F=-F;\n",
    "F1=fft(F);\n",
    "%subplot(3,2,1), mesh(y,x,F1), title('Ishodnaya'), xlabel('y'), ylabel('x');\n",
    "F2=fft(F1');\n",
    "sv1=zeros(1,N);\n",
    "sv2=zeros(1,N);\n",
    "for k=1:N\n",
    "    sv1(k)=((sin((k-1)*h/2))^2)*4/(h^2);\n",
    "    sv2(k)=1-(h^2)*sv1(k)/6;\n",
    "end;\n",
    "A1=skm(x,y,N,z);\n",
    "[A2,PVi]=sko(x,y,N,z);\n",
    "F21=F2;\n",
    "mm=zeros(1,kkk);\n",
    "ms=zeros(1,kkk);\n",
    "for i=1:kkk\n",
    "    for k=1:N\n",
    "        for l=1:N\n",
    "            t=sv1(k)*sv2(l)+sv1(l)*sv2(k)+sv2(k)*sv2(l)*alpha(i);\n",
    "            F21(k,l)=F2(k,l)/t;\n",
    "        end;\n",
    "    end;\n",
    "    F3=ifft(F21);\n",
    "    Fv=ifft(F3');\n",
    "    Fv=real(Fv);\n",
    "    [A3,PVv]=sko(x,y,N,Fv);\n",
    "    A4=skm(x,y,N,Fv);\n",
    "    Ps=Fv*A2/A3-z;\n",
    "    Pm=Fv*A1/A4-z;\n",
    "    mm(i)=skm(x,y,N,Pm)/A1*100;\n",
    "    [A5,PVp]=sko(x,y,N,Ps);\n",
    "    ms(i)=A5/A2*100;\n",
    "end;"
   ]
  },
  {
   "cell_type": "code",
   "execution_count": 9,
   "metadata": {
    "collapsed": true
   },
   "outputs": [],
   "source": [
    "def get_F(g1, g2, h):\n",
    "    size = g1.shape[0]\n",
    "    #как в теории\n",
    "#     mat1 = np.dot(create_B(size), create_G1(size))/h\n",
    "#     F1 = np.dot(mat1, g1)\n",
    "#     mat2 = np.dot(create_B(size), create_G2(size))/h\n",
    "#     F2 = np.dot(mat2, g2)\n",
    "#вариант 2\n",
    "    mat1 = np.dot(create_G1(size)/h, g1)\n",
    "    F1 = np.dot(mat1, create_B(size))\n",
    "    mat2 = np.dot(create_B(size), g2)/h\n",
    "    F2 = np.dot(mat2, create_G2(size))\n",
    "    return F1 + F2"
   ]
  },
  {
   "cell_type": "markdown",
   "metadata": {},
   "source": [
    "Почему-то если умножать так $G_1g_1B + Bg_2G_2$ то метод работает для функций $x^{2k+1} + y^{2k+1}$"
   ]
  },
  {
   "cell_type": "code",
   "execution_count": 51,
   "metadata": {
    "collapsed": true
   },
   "outputs": [],
   "source": [
    "def super_gauss(x, y, a, N):\n",
    "    return np.exp(-((x**2 + y**2) / a**2) ** N)\n",
    "    #return np.exp(-((x**2 + y**2) / 2.88 * np.pi) ** 10)"
   ]
  },
  {
   "cell_type": "code",
   "execution_count": 112,
   "metadata": {
    "collapsed": true
   },
   "outputs": [],
   "source": [
    "def method(g1, g2, alfa, gamma, h):\n",
    "    f = np.fft.fft2(get_F(g1, g2, h))\n",
    "    #f = np.fft.fft2(np.conj(f))\n",
    "    #cдвиг\n",
    "    #f = np.fft.fftshift(f)\n",
    "    lamda = get_lamda(f.shape[0], h)\n",
    "    mu = get_mu(f.shape[0], h)\n",
    "    res = np.zeros(f.shape, dtype=complex)\n",
    "    for k in range(res.shape[0]):\n",
    "        for l in range(res.shape[1]):\n",
    "            res[k,l] = (lamda[k]*mu[l] + mu[k]*lamda[l] + alfa * mu[k]*mu[l] + gamma * lamda[k]*lamda[l])\n",
    "    #res = np.fft.ifftshift(res)\n",
    "    res = np.fft.ifft2(f/res)\n",
    "    return np.real(res)\n",
    "    \n",
    "    #return np.real(np.fft.ifft2((np.conj(res))))"
   ]
  },
  {
   "cell_type": "code",
   "execution_count": 113,
   "metadata": {},
   "outputs": [],
   "source": [
    "def disk(x, y, value, r):\n",
    "    return value * (x**2 + y**2 < r**2 + 1)"
   ]
  },
  {
   "cell_type": "markdown",
   "metadata": {},
   "source": [
    "какими брать g1, g2?\n",
    "делать ли преобразование фурье?\n"
   ]
  },
  {
   "cell_type": "code",
   "execution_count": 192,
   "metadata": {},
   "outputs": [
    {
     "data": {
      "text/plain": [
       "<matplotlib.colorbar.Colorbar at 0x7fe1ae8f0550>"
      ]
     },
     "execution_count": 192,
     "metadata": {},
     "output_type": "execute_result"
    },
    {
     "data": {
      "image/png": "[encoded data removed]",
      "text/plain": [
       "<Figure size 1440x720 with 4 Axes>"
      ]
     },
     "metadata": {},
     "output_type": "display_data"
    }
   ],
   "source": [
    "M = 7\n",
    "#должно быть так ! исправь баг!\n",
    "y, x = data.get_plane(-np.pi, np.pi, -np.pi, np.pi, M)\n",
    "\n",
    "#y, x = data.get_plane(0, 2 * np.pi, 0, 2 * np.pi, M)\n",
    "h = 2*np.pi / 2**M\n",
    "im = x ** 2 + y ** 2\n",
    "gauss = super_gauss(x, y, 2, 20)\n",
    "im *= gauss\n",
    "g1, g2 = 2 * x,  2 * y\n",
    "g1 *= gauss\n",
    "g2 *= gauss\n",
    "\n",
    "# g1, g2 = grad.Hudgin_gradien_model(im)\n",
    "# g1 /= h\n",
    "# g2 /= h\n",
    "\n",
    "fig, axes = plt.subplots(1,2, figsize = (20,10))\n",
    "restored = method(g1,g2, 2, 0.001, h)\n",
    "#нормировка исходного\n",
    "im -= im.min()\n",
    "im /= im.max()\n",
    "#нормировка полученного\n",
    "restored -= restored.min()\n",
    "restored *= gauss\n",
    "restored /= restored.max()\n",
    "\n",
    "img1 = axes[0].imshow(im)\n",
    "img2 = axes[1].imshow((restored))\n",
    "axes[0].set_title('исходное')\n",
    "axes[1].set_title('восстановленное')\n",
    "fig.colorbar(img1, ax = axes[0],fraction=0.046, pad=0.04)\n",
    "fig.colorbar(img2, ax = axes[1],fraction=0.046, pad=0.04)\n",
    "#fig.savefig('variational_very_bad.png')"
   ]
  },
  {
   "cell_type": "code",
   "execution_count": 167,
   "metadata": {},
   "outputs": [
    {
     "data": {
      "text/plain": [
       "0.00794013355751893"
      ]
     },
     "execution_count": 167,
     "metadata": {},
     "output_type": "execute_result"
    }
   ],
   "source": [
    "mse(im,method(g1,g2, 3, 0.001, h))\n"
   ]
  },
  {
   "cell_type": "code",
   "execution_count": 165,
   "metadata": {
    "scrolled": true
   },
   "outputs": [
    {
     "data": {
      "text/plain": [
       "0.011480808203244383"
      ]
     },
     "execution_count": 165,
     "metadata": {},
     "output_type": "execute_result"
    }
   ],
   "source": [
    "mse(im,method(g1,g2, 1, 2, h))"
   ]
  },
  {
   "cell_type": "code",
   "execution_count": null,
   "metadata": {
    "collapsed": true
   },
   "outputs": [],
   "source": []
  }
 ],
 "metadata": {
  "kernelspec": {
   "display_name": "Python 3",
   "language": "python",
   "name": "python3"
  },
  "language_info": {
   "codemirror_mode": {
    "name": "ipython",
    "version": 3
   },
   "file_extension": ".py",
   "mimetype": "text/x-python",
   "name": "python",
   "nbconvert_exporter": "python",
   "pygments_lexer": "ipython3",
   "version": "3.6.1"
  }
 },
 "nbformat": 4,
 "nbformat_minor": 2
}
