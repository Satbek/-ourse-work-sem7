{
 "cells": [
  {
   "cell_type": "code",
   "execution_count": 1,
   "metadata": {
    "collapsed": true
   },
   "outputs": [],
   "source": [
    "import lib.data as data\n",
    "import lib.gradients as grad\n",
    "import numpy as np\n",
    "import lib.haar_wawelet_method.util as ut\n",
    "from lib.mesurements import mse"
   ]
  },
  {
   "cell_type": "code",
   "execution_count": 89,
   "metadata": {
    "collapsed": true
   },
   "outputs": [],
   "source": [
    "import numpy as np\n",
    "import lib.gradients as grad\n",
    "import lib.data as data\n",
    "import matplotlib.pyplot as plt\n",
    "import lib.mesurements\n",
    "import lib.haar_wawelet_method.haar as haar\n",
    "%matplotlib inline"
   ]
  },
  {
   "cell_type": "markdown",
   "metadata": {},
   "source": [
    "$\\lambda_k = \\frac{4}{h^2}\\sin^{2}(\\frac{kh}{2})$"
   ]
  },
  {
   "cell_type": "code",
   "execution_count": 3,
   "metadata": {
    "collapsed": true
   },
   "outputs": [],
   "source": [
    "def get_lamda (N,h):\n",
    "    return np.array([4 / h**2 * np.sin(k * h / 2)**2 for k in range (N)])"
   ]
  },
  {
   "cell_type": "markdown",
   "metadata": {},
   "source": [
    "$\\mu_k = 1 - \\frac{h^2}{6}\\lambda_k$"
   ]
  },
  {
   "cell_type": "code",
   "execution_count": 4,
   "metadata": {
    "collapsed": true
   },
   "outputs": [],
   "source": [
    "def get_mu (N,h):\n",
    "    return 1 - h**2 / 6 * get_lamda(N,h)"
   ]
  },
  {
   "cell_type": "code",
   "execution_count": 5,
   "metadata": {
    "collapsed": true
   },
   "outputs": [],
   "source": [
    "def create_L(dim):\n",
    "    diag1 = np.array([2 if i == j else 0 for i in range (dim) for j in range(dim)]).reshape(dim,dim)\n",
    "    diag2 = np.array([-1 if np.abs(i - j) == 1 else 0 for i in range (dim) for j in range(dim)]).reshape(dim,dim)\n",
    "    return diag1 + diag2"
   ]
  },
  {
   "cell_type": "code",
   "execution_count": 6,
   "metadata": {
    "collapsed": true
   },
   "outputs": [],
   "source": [
    "def create_B(dim):\n",
    "    return np.eye(dim) - 1 / 6 * create_L(dim)"
   ]
  },
  {
   "cell_type": "code",
   "execution_count": 7,
   "metadata": {
    "collapsed": true
   },
   "outputs": [],
   "source": [
    "def create_G1(dim):\n",
    "    diag1 = np.array([-1 if i - j == -1 else 0 for i in range (dim) for j in range(dim)]).reshape(dim,dim)\n",
    "    diag2 = np.array([1 if i - j == 1 else 0 for i in range (dim) for j in range(dim)]).reshape(dim,dim)\n",
    "    return 0.5 * (diag1 + diag2)"
   ]
  },
  {
   "cell_type": "code",
   "execution_count": 8,
   "metadata": {
    "collapsed": true
   },
   "outputs": [],
   "source": [
    "def create_G2(dim):\n",
    "    return create_G1(dim).T"
   ]
  },
  {
   "cell_type": "markdown",
   "metadata": {},
   "source": [
    "добавить выбросы?"
   ]
  },
  {
   "cell_type": "code",
   "execution_count": 40,
   "metadata": {},
   "outputs": [],
   "source": [
    "def get_F(g1, g2, h):\n",
    "    size = g1.shape[0]\n",
    "    #как в теории\n",
    "    mat1 = np.dot(create_B(size), create_G1(size))/h\n",
    "    F1 = np.dot(mat1, g1)\n",
    "    mat2 = np.dot(create_B(size), create_G2(size))/h\n",
    "    F2 = np.dot(mat2, g2)\n",
    "#вариант 2\n",
    "#     mat1 = np.dot(create_G1(size), g1)/h\n",
    "#     F1 = np.dot(mat1, create_B(size))\n",
    "#     mat2 = np.dot(create_B(size), g2)/h\n",
    "#     F2 = np.dot(mat2, create_G2(size))\n",
    "\n",
    "    return F1 + F2"
   ]
  },
  {
   "cell_type": "markdown",
   "metadata": {},
   "source": [
    "Почему-то если умножать так $G_1g_1B + Bg_2G_2$ то метод работает для функций $x^{2k+1} + y^{2k+1}$"
   ]
  },
  {
   "cell_type": "code",
   "execution_count": 41,
   "metadata": {
    "collapsed": true
   },
   "outputs": [],
   "source": [
    "def method(g1, g2, alfa, gamma, h):\n",
    "    f = np.fft.fft2(get_F(g1, g2, h)) \n",
    "    lamda = get_lamda(f.shape[0], h)\n",
    "    mu = get_mu(f.shape[0], h)\n",
    "    res = np.zeros(f.shape)\n",
    "    for k in range(res.shape[0]):\n",
    "        for l in range(res.shape[1]):\n",
    "            res[k,l] = (lamda[k]*mu[l] + mu[k]*lamda[l] + alfa*mu[k]*mu[l] + gamma*lamda[k]*lamda[l])\n",
    "    return np.fft.ifft2(f/res)"
   ]
  },
  {
   "cell_type": "markdown",
   "metadata": {},
   "source": [
    "какими брать g1, g2?\n",
    "делать ли преобразование фурье?\n"
   ]
  },
  {
   "cell_type": "code",
   "execution_count": 42,
   "metadata": {
    "collapsed": true
   },
   "outputs": [],
   "source": [
    "M = 7\n",
    "x, y= data.get_plane(-np.pi, np.pi, -np.pi, np.pi, M)\n",
    "h = 2*np.pi / 2**M\n",
    "im = x**3 + y**3\n",
    "g1, g2 = 3 * x ** 2  , 3 * y **2"
   ]
  },
  {
   "cell_type": "code",
   "execution_count": 43,
   "metadata": {},
   "outputs": [
    {
     "data": {
      "text/plain": [
       "4.156015791356417"
      ]
     },
     "execution_count": 43,
     "metadata": {},
     "output_type": "execute_result"
    }
   ],
   "source": [
    "mse(im, np.real(method(g1,g2, 0.6,0.02, h)) * 100)"
   ]
  },
  {
   "cell_type": "code",
   "execution_count": 84,
   "metadata": {},
   "outputs": [
    {
     "data": {
      "image/png": "[encoded data removed]",
      "text/plain": [
       "<Figure size 720x1080 with 4 Axes>"
      ]
     },
     "metadata": {},
     "output_type": "display_data"
    }
   ],
   "source": [
    "fig, axes = plt.subplots(1,2, figsize = (10,15))\n",
    "axes[0].set_title('исходное')\n",
    "img1 = axes[0].imshow(im)\n",
    "img2 = axes[1].imshow(np.real(method(g1,g2,0.6,0.02, h)) )\n",
    "axes[1].set_title('восстановленное при $F = BG_1g_1  + BB_2g_2$')\n",
    "fig.colorbar(img1, ax = axes[0],fraction=0.046, pad=0.04)\n",
    "fig.colorbar(img2, ax = axes[1],fraction=0.046, pad=0.04)\n",
    "\n",
    "fig.savefig('variational_very_bad.png')"
   ]
  },
  {
   "cell_type": "code",
   "execution_count": null,
   "metadata": {},
   "outputs": [],
   "source": []
  },
  {
   "cell_type": "code",
   "execution_count": 85,
   "metadata": {
    "collapsed": true
   },
   "outputs": [],
   "source": [
    "z = fig"
   ]
  },
  {
   "cell_type": "code",
   "execution_count": 95,
   "metadata": {},
   "outputs": [],
   "source": [
    "z.savefig('sadf')"
   ]
  },
  {
   "cell_type": "code",
   "execution_count": null,
   "metadata": {
    "collapsed": true
   },
   "outputs": [],
   "source": []
  }
 ],
 "metadata": {
  "kernelspec": {
   "display_name": "Python 3",
   "language": "python",
   "name": "python3"
  },
  "language_info": {
   "codemirror_mode": {
    "name": "ipython",
    "version": 3
   },
   "file_extension": ".py",
   "mimetype": "text/x-python",
   "name": "python",
   "nbconvert_exporter": "python",
   "pygments_lexer": "ipython3",
   "version": "3.6.1"
  }
 },
 "nbformat": 4,
 "nbformat_minor": 2
}
