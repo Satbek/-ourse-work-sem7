{
 "cells": [
  {
   "cell_type": "code",
   "execution_count": 24,
   "metadata": {
    "collapsed": true
   },
   "outputs": [],
   "source": [
    "import lib\n",
    "import numpy as np\n",
    "import pywt\n",
    "H_h = np.array([1, -1])/np.sqrt(2)\n",
    "H_l = np.array([1, 1])/np.sqrt(2)\n",
    "G_l = H_l\n",
    "G_h = -H_h"
   ]
  },
  {
   "cell_type": "code",
   "execution_count": 3,
   "metadata": {
    "collapsed": true
   },
   "outputs": [],
   "source": [
    "exmpl = np.array(([[5, 7, 5, 4, 6, 0, 0, 6],\n",
    "       [5, 4, 9, 3, 6, 9, 7, 0],\n",
    "       [4, 1, 1, 5, 8, 0, 5, 7],\n",
    "       [1, 8, 9, 2, 4, 4, 9, 9],\n",
    "       [0, 4, 3, 2, 7, 1, 0, 4],\n",
    "       [3, 7, 7, 7, 1, 9, 0, 3],\n",
    "       [9, 5, 3, 9, 8, 7, 5, 9],\n",
    "       [2, 0, 7, 6, 2, 8, 8, 2]]))"
   ]
  },
  {
   "cell_type": "code",
   "execution_count": 33,
   "metadata": {
    "scrolled": true
   },
   "outputs": [
    {
     "data": {
      "text/plain": [
       "array([[5, 7, 5, 4, 6, 0, 0, 6],\n",
       "       [5, 4, 9, 3, 6, 9, 7, 0],\n",
       "       [4, 1, 1, 5, 8, 0, 5, 7],\n",
       "       [1, 8, 9, 2, 4, 4, 9, 9],\n",
       "       [0, 4, 3, 2, 7, 1, 0, 4],\n",
       "       [3, 7, 7, 7, 1, 9, 0, 3],\n",
       "       [9, 5, 3, 9, 8, 7, 5, 9],\n",
       "       [2, 0, 7, 6, 2, 8, 8, 2]])"
      ]
     },
     "execution_count": 33,
     "metadata": {},
     "output_type": "execute_result"
    }
   ],
   "source": [
    "exmpl"
   ]
  },
  {
   "cell_type": "code",
   "execution_count": 34,
   "metadata": {
    "collapsed": true
   },
   "outputs": [],
   "source": [
    "X, Y = lib.fried_model_gradient(exmpl)"
   ]
  },
  {
   "cell_type": "code",
   "execution_count": 37,
   "metadata": {},
   "outputs": [
    {
     "data": {
      "text/plain": [
       "array([[  7.50000000e-01,   2.00000000e+00,   3.50000000e+00,\n",
       "          2.25000000e+00],\n",
       "       [ -2.50000000e-01,  -5.00000000e-01,  -2.50000000e-01,\n",
       "         -3.14018492e-16],\n",
       "       [  1.50000000e+00,   7.50000000e-01,  -3.00000000e+00,\n",
       "         -2.50000000e-01],\n",
       "       [ -1.07500000e+01,  -9.25000000e+00,  -7.75000000e+00,\n",
       "         -6.00000000e+00]])"
      ]
     },
     "execution_count": 37,
     "metadata": {},
     "output_type": "execute_result"
    }
   ],
   "source": [
    "#nextX\n",
    "tmp = lib.convolve_2d(X, H_l, 'horizontal')\n",
    "tmp = lib.convolve_2d(tmp, H_l, 'horizontal')\n",
    "tmp = lib.convolve_2d(tmp, np.array([1, 0, 1]) / np.sqrt(2), 'vertical')\n",
    "X = lib.down_sample(tmp, 2) * np.sqrt(2)\n",
    "X"
   ]
  },
  {
   "cell_type": "code",
   "execution_count": 41,
   "metadata": {},
   "outputs": [
    {
     "data": {
      "text/plain": [
       "array([[ 0.75,  1.5 ],\n",
       "       [ 3.5 , -3.  ]])"
      ]
     },
     "execution_count": 41,
     "metadata": {},
     "output_type": "execute_result"
    }
   ],
   "source": [
    "lib.down_sample(X, 2)#1 раз верно"
   ]
  },
  {
   "cell_type": "code",
   "execution_count": 42,
   "metadata": {},
   "outputs": [],
   "source": [
    "buf = pywt.dwt2(pywt.dwt2(exmpl, 'haar')[0], 'haar')[0]"
   ]
  },
  {
   "cell_type": "code",
   "execution_count": 47,
   "metadata": {},
   "outputs": [
    {
     "data": {
      "text/plain": [
       "(array([[ 37.625]]), (array([[ 0.625]]), array([[-0.875]]), array([[-0.875]])))"
      ]
     },
     "execution_count": 47,
     "metadata": {},
     "output_type": "execute_result"
    }
   ],
   "source": [
    "pywt.dwt2(buf,'haar')"
   ]
  },
  {
   "cell_type": "code",
   "execution_count": 44,
   "metadata": {},
   "outputs": [
    {
     "data": {
      "text/plain": [
       "array([[  4.12500000e+00,   8.88178420e-16],\n",
       "       [  2.25000000e+00,  -1.75000000e+00]])"
      ]
     },
     "execution_count": 44,
     "metadata": {},
     "output_type": "execute_result"
    }
   ],
   "source": [
    "tmp = lib.convolve_2d(X, H_l, 'horizontal')\n",
    "tmp = lib.convolve_2d(tmp, H_l, 'horizontal')\n",
    "tmp = lib.convolve_2d(tmp, np.array([1, 0, 1]) / np.sqrt(2), 'vertical')\n",
    "X = lib.down_sample(tmp, 2) * np.sqrt(2)\n",
    "X"
   ]
  },
  {
   "cell_type": "code",
   "execution_count": 48,
   "metadata": {},
   "outputs": [
    {
     "data": {
      "text/plain": [
       "array([[ 4.125]])"
      ]
     },
     "execution_count": 48,
     "metadata": {},
     "output_type": "execute_result"
    }
   ],
   "source": [
    "lib.down_sample(X, 2)"
   ]
  },
  {
   "cell_type": "code",
   "execution_count": 52,
   "metadata": {},
   "outputs": [],
   "source": [
    "tmp  = lib.convolve_2d(Y, np.array([1,0,1])/np.sqrt(2),'horizontal')\n",
    "tmp  = lib.convolve_2d(tmp, np.array([1,0,0,0,1])/np.sqrt(2),'horizontal')\n",
    "tmp  = lib.convolve_2d(tmp, H_l,'vertical')\n",
    "tmp  = lib.convolve_2d(tmp, H_l,'vertical')\n",
    "tmp  = lib.convolve_2d(tmp, np.array([1,0,1])/np.sqrt(2),'vertical')\n",
    "tmp  = lib.convolve_2d(tmp, np.array([1,0,1])/np.sqrt(2),'vertical')\n",
    "\n",
    "\n"
   ]
  },
  {
   "cell_type": "code",
   "execution_count": 56,
   "metadata": {},
   "outputs": [
    {
     "data": {
      "text/plain": [
       "array([[-0.625]])"
      ]
     },
     "execution_count": 56,
     "metadata": {},
     "output_type": "execute_result"
    }
   ],
   "source": [
    "2*lib.down_sample(tmp, 8)"
   ]
  },
  {
   "cell_type": "code",
   "execution_count": 57,
   "metadata": {
    "collapsed": true
   },
   "outputs": [],
   "source": [
    "def GetH_l(pow_):\n",
    "    res = np.zeros(pow_ + 1)\n",
    "    res[0] = res[-1] = 1\n",
    "    return res"
   ]
  },
  {
   "cell_type": "code",
   "execution_count": 68,
   "metadata": {},
   "outputs": [],
   "source": [
    "def GetH_h(pow_):\n",
    "    res = np.zeros(pow_ + 1)\n",
    "    res[0] = 1\n",
    "    res[-1] = -1\n",
    "    return res"
   ]
  },
  {
   "cell_type": "code",
   "execution_count": 104,
   "metadata": {},
   "outputs": [],
   "source": [
    "def GetLH(m, Y):\n",
    "    coef = np.power(np.sqrt(2), (m - 1))\n",
    "    tmp = Y\n",
    "    for i  in range (1, m):\n",
    "        tmp = lib.convolve_2d(tmp, GetH_l(i), 'horizontal')\n",
    "    for i in range (m - 1):\n",
    "        tmp = lib.convolve_2d(tmp, GetH_l(i), 'vertical')\n",
    "        tmp = lib.convolve_2d(tmp, GetH_l(i), 'vertical')\n",
    "    return coef * lib.down_sample(tmp, 2 ** m)"
   ]
  },
  {
   "cell_type": "code",
   "execution_count": 108,
   "metadata": {},
   "outputs": [
    {
     "data": {
      "text/plain": [
       "array([[-1.5,  2. ,  3. , -6. ],\n",
       "       [ 1.5,  2.5,  4.5,  0.5],\n",
       "       [ 4.5,  0. ,  1. , -2.5],\n",
       "       [ 0.5,  3. , -0.5, -2. ]])"
      ]
     },
     "execution_count": 108,
     "metadata": {},
     "output_type": "execute_result"
    }
   ],
   "source": [
    "GetLH(1, Y)"
   ]
  },
  {
   "cell_type": "code",
   "execution_count": 79,
   "metadata": {},
   "outputs": [
    {
     "data": {
      "text/plain": [
       "array([[ 1.75,  3.5 ,  0.5 , -1.5 , -2.25, -2.  ,  1.25,  2.  ],\n",
       "       [-0.25,  0.25,  0.  , -0.25,  1.75, -0.25, -4.75, -3.  ],\n",
       "       [ 0.5 , -2.  ,  1.  ,  1.5 ,  0.5 ,  0.  , -1.75, -0.75],\n",
       "       [ 2.25,  1.  ,  1.  ,  1.5 ,  1.25,  3.75,  6.25,  2.75],\n",
       "       [-4.5 , -2.  , -2.  , -2.  , -1.75, -1.  , -0.75, -1.5 ],\n",
       "       [-1.5 , -0.25, -2.75, -4.25, -3.75, -4.75, -5.25, -2.  ],\n",
       "       [ 3.  ,  0.25, -0.25,  2.25,  1.25, -1.  ,  1.  ,  1.75],\n",
       "       [ 0.5 ,  1.75,  3.25,  2.  ,  2.5 ,  4.  ,  2.5 ,  0.5 ]])"
      ]
     },
     "execution_count": 79,
     "metadata": {},
     "output_type": "execute_result"
    }
   ],
   "source": []
  },
  {
   "cell_type": "code",
   "execution_count": null,
   "metadata": {
    "collapsed": true
   },
   "outputs": [],
   "source": []
  }
 ],
 "metadata": {
  "kernelspec": {
   "display_name": "Python 3",
   "language": "python",
   "name": "python3"
  },
  "language_info": {
   "codemirror_mode": {
    "name": "ipython",
    "version": 3
   },
   "file_extension": ".py",
   "mimetype": "text/x-python",
   "name": "python",
   "nbconvert_exporter": "python",
   "pygments_lexer": "ipython3",
   "version": "3.6.1"
  }
 },
 "nbformat": 4,
 "nbformat_minor": 2
}
