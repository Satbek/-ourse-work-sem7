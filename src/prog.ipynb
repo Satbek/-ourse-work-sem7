{
 "cells": [
  {
   "cell_type": "code",
   "execution_count": 231,
   "metadata": {
    "collapsed": true
   },
   "outputs": [],
   "source": [
    "import numpy as np\n",
    "import pywt\n",
    "from scipy import signal\n",
    "from sklearn.metrics import mean_squared_error"
   ]
  },
  {
   "cell_type": "code",
   "execution_count": 232,
   "metadata": {
    "collapsed": true
   },
   "outputs": [],
   "source": [
    "H_h = np.array([1, -1])/np.sqrt(2)\n",
    "H_l = np.array([1, 1])/np.sqrt(2)"
   ]
  },
  {
   "cell_type": "code",
   "execution_count": 233,
   "metadata": {
    "collapsed": true
   },
   "outputs": [],
   "source": [
    "def down_sample(array ,sample_factor):\n",
    "    array = np.array(array, dtype=float)\n",
    "    array = array[::sample_factor]\n",
    "    if (len(array.shape) == 2):\n",
    "        array = array.transpose()\n",
    "        array = array[::sample_factor]\n",
    "    return array"
   ]
  },
  {
   "cell_type": "code",
   "execution_count": 234,
   "metadata": {
    "collapsed": true
   },
   "outputs": [],
   "source": [
    "from scipy.signal import convolve2d as conv2d\n",
    "def convolve_2d(array_2d, kernel, mode):\n",
    "    res = np.array(array_2d, dtype=float)\n",
    "    kernel = np.array(kernel)\n",
    "    if (mode == 'horizontal'):\n",
    "        res = conv2d(res, kernel[None, :])\n",
    "        res = res[:,len(kernel)-1:]\n",
    "    if (mode == 'vertical'):\n",
    "        res = conv2d(res, kernel[:, None])\n",
    "        res = res[len(kernel)-1:,:]\n",
    "    return res"
   ]
  },
  {
   "cell_type": "code",
   "execution_count": 235,
   "metadata": {
    "collapsed": true
   },
   "outputs": [],
   "source": [
    "def fried_model_gradient(image):\n",
    "    tmp = convolve_2d(image, H_h, mode='horizontal')\n",
    "    X = convolve_2d(tmp, H_l, mode='vertical')\n",
    "    tmp = convolve_2d(image, H_l, mode='horizontal')\n",
    "    Y = convolve_2d(tmp, H_h, mode='vertical')\n",
    "    return X, Y"
   ]
  },
  {
   "cell_type": "code",
   "execution_count": 236,
   "metadata": {},
   "outputs": [
    {
     "data": {
      "text/plain": [
       "array([[3, 8, 0, 7],\n",
       "       [7, 5, 3, 5],\n",
       "       [1, 3, 7, 5],\n",
       "       [8, 3, 4, 4]])"
      ]
     },
     "execution_count": 236,
     "metadata": {},
     "output_type": "execute_result"
    }
   ],
   "source": [
    "import random\n",
    "exmpl = np.array([int(random.random() * 10) for i in range(16)])\n",
    "exmpl = exmpl.reshape(4,4)\n",
    "exmpl"
   ]
  },
  {
   "cell_type": "code",
   "execution_count": 237,
   "metadata": {},
   "outputs": [
    {
     "data": {
      "text/plain": [
       "(array([[ 11.5,   7.5],\n",
       "        [  7.5,  10. ]]), (array([[-0.5, -0.5],\n",
       "         [-3.5,  2. ]]), array([[-1.5, -4.5],\n",
       "         [ 1.5,  1. ]]), array([[-3.5, -2.5],\n",
       "         [-3.5,  1. ]])))"
      ]
     },
     "execution_count": 237,
     "metadata": {},
     "output_type": "execute_result"
    }
   ],
   "source": [
    "coeffs = pywt.dwt2(exmpl, 'haar')\n",
    "coeffs"
   ]
  },
  {
   "cell_type": "code",
   "execution_count": 238,
   "metadata": {},
   "outputs": [
    {
     "data": {
      "text/plain": [
       "(array([[ 18.25]]), (array([[ 0.75]]), array([[ 0.75]]), array([[ 3.25]])))"
      ]
     },
     "execution_count": 238,
     "metadata": {},
     "output_type": "execute_result"
    }
   ],
   "source": [
    "coeffs2 = pywt.dwt2(coeffs[0], 'haar')\n",
    "coeffs2"
   ]
  },
  {
   "cell_type": "code",
   "execution_count": 239,
   "metadata": {},
   "outputs": [
    {
     "data": {
      "text/plain": [
       "(array([[-4.25]]), (array([[-1.75]]), array([[-2.75]]), array([[ 1.75]])))"
      ]
     },
     "execution_count": 239,
     "metadata": {},
     "output_type": "execute_result"
    }
   ],
   "source": [
    "coeffs_hh = pywt.dwt2(coeffs[1][-1], 'haar')\n",
    "coeffs_hh"
   ]
  },
  {
   "cell_type": "code",
   "execution_count": 257,
   "metadata": {},
   "outputs": [
    {
     "data": {
      "text/plain": [
       "[array([[  1.50000000e+00,  -5.00000000e+00,   4.50000000e+00,\n",
       "          -6.00000000e+00],\n",
       "        [  2.22044605e-16,   1.00000000e+00,   2.22044605e-16,\n",
       "          -5.00000000e+00],\n",
       "        [ -1.50000000e+00,   2.50000000e+00,  -1.00000000e+00,\n",
       "          -4.50000000e+00],\n",
       "        [ -2.50000000e+00,   5.00000000e-01,   0.00000000e+00,\n",
       "          -2.00000000e+00]]), array([[ 0.5,  0. ,  0.5, -1. ],\n",
       "        [-4. ,  1. ,  2. ,  0. ],\n",
       "        [ 3.5, -1.5, -2. , -0.5],\n",
       "        [-5.5, -3.5, -4. , -2. ]])]"
      ]
     },
     "execution_count": 257,
     "metadata": {},
     "output_type": "execute_result"
    }
   ],
   "source": [
    "X, Y = fried_model_gradient(exmpl)\n",
    "[X, Y]"
   ]
  },
  {
   "cell_type": "code",
   "execution_count": 241,
   "metadata": {
    "collapsed": true
   },
   "outputs": [],
   "source": [
    "def process_next_X (prevX):\n",
    "    tmp1 = convolve_2d(prevX, H_l, mode='horizontal')\n",
    "    tmp2 = convolve_2d(tmp1, H_l, mode='horizontal')\n",
    "    return down_sample(np.sqrt(2) * convolve_2d(tmp2, np.array([1,0,1]) / np.sqrt(2), mode='vertical'), 2)"
   ]
  },
  {
   "cell_type": "code",
   "execution_count": 242,
   "metadata": {
    "collapsed": true
   },
   "outputs": [],
   "source": [
    "def process_next_Y (prevY):\n",
    "    tmp1 = convolve_2d(prevY, np.array([1,0,1]) / np.sqrt(2), mode = 'horizontal')\n",
    "    tmp2 = convolve_2d(tmp1, H_l, mode = 'vertical')\n",
    "    return np.sqrt(2) * down_sample(convolve_2d(tmp2, H_l, mode = 'vertical'), 2)"
   ]
  },
  {
   "cell_type": "code",
   "execution_count": 243,
   "metadata": {},
   "outputs": [],
   "source": [
    "def process_next_HH (X):\n",
    "    tmp1 = convolve_2d(X, H_l, mode = 'horizontal')\n",
    "    tmp2 = convolve_2d(tmp1, H_l, mode = 'horizontal')\n",
    "    tmp3 = convolve_2d(tmp2, np.array([1,0,-1]) / np.sqrt(2), mode = 'vertical')\n",
    "    return np.sqrt(2) * down_sample(tmp3, 4)"
   ]
  },
  {
   "cell_type": "code",
   "execution_count": 302,
   "metadata": {
    "collapsed": true
   },
   "outputs": [],
   "source": [
    "def process_left_quadrant (grad_X, grad_Y, M):\n",
    "    X = dict({M : grad_X})\n",
    "    Y = dict({M : grad_Y})\n",
    "    HL = dict({M - 1 : -down_sample(X[M], 2).T})\n",
    "    LH = dict({M - 1 : -down_sample(Y[M], 2).T})\n",
    "    HH = dict()\n",
    "    for k in range(2, M + 1)[::-1]:\n",
    "        X[k - 1] = process_next_X(X[k])\n",
    "        Y[k - 1] = process_next_Y(Y[k])\n",
    "        LH[k - 2] = -down_sample(Y[k - 1], 2).T\n",
    "        HL[k - 2] = -down_sample(X[k - 1], 2).T\n",
    "        HH[k - 2] = process_next_HH(X[k])\n",
    "    return LH, HL, HH"
   ]
  },
  {
   "cell_type": "code",
   "execution_count": 245,
   "metadata": {
    "collapsed": true
   },
   "outputs": [],
   "source": [
    "def process_next_X_right(prevX, k, M):\n",
    "    if (k == M):\n",
    "        tmp1 = convolve_2d(X, np.array([1, 0, 1]) / np.sqrt(2), mode = 'horizontal')\n",
    "        tmp2 = convolve_2d(tmp1, H_h, mode = 'vertical')\n",
    "        tmp3 = convolve_2d(tmp2, H_h, mode = 'vertical')\n",
    "        return np.sqrt(2) * down_sample(tmp3, 2)\n",
    "    else:\n",
    "        tmp1 = convolve_2d(X, np.array([1, 0, 1]) / np.sqrt(2), mode = 'horizontal')\n",
    "        tmp2 = convolve_2d(tmp1, H_l, mode = 'vertical')\n",
    "        tmp3 = convolve_2d(tmp2, H_l, mode = 'vertical')\n",
    "        return np.sqrt(2) * down_sample(tmp3, 2)"
   ]
  },
  {
   "cell_type": "code",
   "execution_count": 246,
   "metadata": {
    "collapsed": true
   },
   "outputs": [],
   "source": [
    "def process_next_Y_right(prevY, k, M):\n",
    "    if (k == M):\n",
    "        tmp1 = convolve_2d(prevY, H_h, mode = 'horizontal')\n",
    "        tmp2 = convolve_2d(tmp1, H_h, mode = 'horizontal')\n",
    "        tmp3 = convolve_2d(tmp2, np.array([1, 0, 1]) / np.sqrt(2), mode = 'vertical')\n",
    "        return np.sqrt(2) * down_sample(tmp3, 2)\n",
    "    else:\n",
    "        tmp1 = convolve_2d(prevY, H_l, mode = 'horizontal')\n",
    "        tmp2 = convolve_2d(tmp1, H_l, mode = 'horizontal')\n",
    "        tmp3 = convolve_2d(tmp2, np.array([1, 0, 1]) / np.sqrt(2), mode = 'vertical')\n",
    "        return np.sqrt(2) * down_sample(tmp3, 2)"
   ]
  },
  {
   "cell_type": "code",
   "execution_count": 247,
   "metadata": {
    "collapsed": true
   },
   "outputs": [],
   "source": [
    "def process_next_HH_right(X, k, M):\n",
    "    if (k == M):\n",
    "        tmp1 = convolve_2d(X, np.array([1, 0, -1]) / np.sqrt(2), mode = 'horizontal')\n",
    "        tmp2 = convolve_2d(tmp1, H_h, mode = 'vertical')\n",
    "        tmp3 = convolve_2d(tmp2, H_h, mode = 'vertical')\n",
    "        return np.sqrt(2) * down_sample(tmp3, 4)\n",
    "    else:\n",
    "        tmp1 = convolve_2d(X, np.array([1, 0, -1]) / np.sqrt(2), mode = 'horizontal')\n",
    "        tmp2 = convolve_2d(tmp1, H_l, mode = 'vertical')\n",
    "        tmp3 = convolve_2d(tmp2, H_l, mode = 'vertical')\n",
    "        return np.sqrt(2) * down_sample(tmp3, 4)"
   ]
  },
  {
   "cell_type": "code",
   "execution_count": 248,
   "metadata": {
    "collapsed": true
   },
   "outputs": [],
   "source": [
    "def process_right_quardrant (grad_X, grad_Y, M):\n",
    "    X = dict({M : grad_X})\n",
    "    Y = dict({M : grad_Y})\n",
    "    HL = dict()\n",
    "    LH = dict()\n",
    "    HH = dict()\n",
    "    for k in range(2, M + 1)[::-1]:\n",
    "        X[k - 1] = process_next_X_right(X[k], k, M)\n",
    "        Y[k - 1] = process_next_Y_right(Y[k], k, M)\n",
    "        LH[k - 2] = -down_sample(X[k - 1], 2)\n",
    "        HL[k - 2] = -down_sample(Y[k - 1], 2)\n",
    "        HH[k - 2] = process_next_HH_right(X[k], k, M)\n",
    "    return LH, HL, HH"
   ]
  },
  {
   "cell_type": "code",
   "execution_count": 249,
   "metadata": {
    "collapsed": true
   },
   "outputs": [],
   "source": [
    "def synthesis(LL, LH, HL, HH, M):\n",
    "    for k in range(M - 1):\n",
    "        LL = pywt.idwt2([LL, (LH[k], HL[k], HH[k])], 'haar')\n",
    "        print(LL)\n",
    "    return LL"
   ]
  },
  {
   "cell_type": "code",
   "execution_count": 250,
   "metadata": {
    "collapsed": true
   },
   "outputs": [],
   "source": [
    "def synthesis_right(LL, LH, HH, M):\n",
    "    pass"
   ]
  },
  {
   "cell_type": "code",
   "execution_count": 251,
   "metadata": {},
   "outputs": [],
   "source": [
    "def get_image_from_gradient(grad_X, grad_Y, mean = 1, ll_right = np.array([[0.]])):\n",
    "    M = int(np.log2(len(grad_X)))\n",
    "    print(M)\n",
    "    LL_0_left = np.array([[(2 ** M) * mean]])\n",
    "    LH_left, HL_left, HH_left = process_left_quadrant (grad_X, grad_Y, M)\n",
    "    LL = synthesis(LL_0_left, LH_left, HL_left, HH_left, M)\n",
    "    LL_0_right = ll_right\n",
    "    LH_right, HL_right, HH_right = process_right_quardrant(grad_X, grad_Y, M)\n",
    "    HH = synthesis(LL_0_right, LH_right, HL_right, HH_right, M)\n",
    "    HL = -down_sample(grad_X, 2).T\n",
    "    LH = -down_sample(grad_Y, 2).T\n",
    "    return pywt.idwt2([LL, (LH, HL, HH)], 'haar')"
   ]
  },
  {
   "cell_type": "code",
   "execution_count": 278,
   "metadata": {},
   "outputs": [
    {
     "name": "stdout",
     "output_type": "stream",
     "text": [
      "3\n",
      "[[  9.75  28.75]\n",
      " [ 26.     8.5 ]]\n",
      "[[  0.25   7.25   9.    13.75]\n",
      " [  2.75   9.25  19.25  15.5 ]\n",
      " [ 12.75  16.5   11.25   1.75]\n",
      " [ 12.5   10.25   3.25   0.75]]\n"
     ]
    },
    {
     "ename": "ValueError",
     "evalue": "`coeffs` must all be of equal size (or None)",
     "output_type": "error",
     "traceback": [
      "\u001b[0;31m---------------------------------------------------------------------------\u001b[0m",
      "\u001b[0;31mValueError\u001b[0m                                Traceback (most recent call last)",
      "\u001b[0;32m<ipython-input-278-c53ad8293077>\u001b[0m in \u001b[0;36m<module>\u001b[0;34m()\u001b[0m\n\u001b[0;32m----> 1\u001b[0;31m \u001b[0mres\u001b[0m \u001b[0;34m=\u001b[0m \u001b[0mget_image_from_gradient\u001b[0m\u001b[0;34m(\u001b[0m\u001b[0mX\u001b[0m\u001b[0;34m,\u001b[0m \u001b[0mY\u001b[0m\u001b[0;34m,\u001b[0m \u001b[0mnp\u001b[0m\u001b[0;34m.\u001b[0m\u001b[0mmean\u001b[0m\u001b[0;34m(\u001b[0m\u001b[0mexmpl\u001b[0m\u001b[0;34m)\u001b[0m\u001b[0;34m,\u001b[0m \u001b[0mnp\u001b[0m\u001b[0;34m.\u001b[0m\u001b[0marray\u001b[0m\u001b[0;34m(\u001b[0m\u001b[0;34m[\u001b[0m\u001b[0;34m[\u001b[0m\u001b[0;34m-\u001b[0m\u001b[0;36m4.25\u001b[0m\u001b[0;34m]\u001b[0m\u001b[0;34m]\u001b[0m\u001b[0;34m)\u001b[0m\u001b[0;34m)\u001b[0m\u001b[0;34m\u001b[0m\u001b[0m\n\u001b[0m\u001b[1;32m      2\u001b[0m \u001b[0mres\u001b[0m\u001b[0;34m\u001b[0m\u001b[0m\n",
      "\u001b[0;32m<ipython-input-251-abe65c024dcf>\u001b[0m in \u001b[0;36mget_image_from_gradient\u001b[0;34m(grad_X, grad_Y, mean, ll_right)\u001b[0m\n\u001b[1;32m      7\u001b[0m     \u001b[0mLL_0_right\u001b[0m \u001b[0;34m=\u001b[0m \u001b[0mll_right\u001b[0m\u001b[0;34m\u001b[0m\u001b[0m\n\u001b[1;32m      8\u001b[0m     \u001b[0mLH_right\u001b[0m\u001b[0;34m,\u001b[0m \u001b[0mHL_right\u001b[0m\u001b[0;34m,\u001b[0m \u001b[0mHH_right\u001b[0m \u001b[0;34m=\u001b[0m \u001b[0mprocess_right_quardrant\u001b[0m\u001b[0;34m(\u001b[0m\u001b[0mgrad_X\u001b[0m\u001b[0;34m,\u001b[0m \u001b[0mgrad_Y\u001b[0m\u001b[0;34m,\u001b[0m \u001b[0mM\u001b[0m\u001b[0;34m)\u001b[0m\u001b[0;34m\u001b[0m\u001b[0m\n\u001b[0;32m----> 9\u001b[0;31m     \u001b[0mHH\u001b[0m \u001b[0;34m=\u001b[0m \u001b[0msynthesis\u001b[0m\u001b[0;34m(\u001b[0m\u001b[0mLL_0_right\u001b[0m\u001b[0;34m,\u001b[0m \u001b[0mLH_right\u001b[0m\u001b[0;34m,\u001b[0m \u001b[0mHL_right\u001b[0m\u001b[0;34m,\u001b[0m \u001b[0mHH_right\u001b[0m\u001b[0;34m,\u001b[0m \u001b[0mM\u001b[0m\u001b[0;34m)\u001b[0m\u001b[0;34m\u001b[0m\u001b[0m\n\u001b[0m\u001b[1;32m     10\u001b[0m     \u001b[0mHL\u001b[0m \u001b[0;34m=\u001b[0m \u001b[0;34m-\u001b[0m\u001b[0mdown_sample\u001b[0m\u001b[0;34m(\u001b[0m\u001b[0mgrad_X\u001b[0m\u001b[0;34m,\u001b[0m \u001b[0;36m2\u001b[0m\u001b[0;34m)\u001b[0m\u001b[0;34m.\u001b[0m\u001b[0mT\u001b[0m\u001b[0;34m\u001b[0m\u001b[0m\n\u001b[1;32m     11\u001b[0m     \u001b[0mLH\u001b[0m \u001b[0;34m=\u001b[0m \u001b[0;34m-\u001b[0m\u001b[0mdown_sample\u001b[0m\u001b[0;34m(\u001b[0m\u001b[0mgrad_Y\u001b[0m\u001b[0;34m,\u001b[0m \u001b[0;36m2\u001b[0m\u001b[0;34m)\u001b[0m\u001b[0;34m.\u001b[0m\u001b[0mT\u001b[0m\u001b[0;34m\u001b[0m\u001b[0m\n",
      "\u001b[0;32m<ipython-input-249-76ccb9b9318a>\u001b[0m in \u001b[0;36msynthesis\u001b[0;34m(LL, LH, HL, HH, M)\u001b[0m\n\u001b[1;32m      1\u001b[0m \u001b[0;32mdef\u001b[0m \u001b[0msynthesis\u001b[0m\u001b[0;34m(\u001b[0m\u001b[0mLL\u001b[0m\u001b[0;34m,\u001b[0m \u001b[0mLH\u001b[0m\u001b[0;34m,\u001b[0m \u001b[0mHL\u001b[0m\u001b[0;34m,\u001b[0m \u001b[0mHH\u001b[0m\u001b[0;34m,\u001b[0m \u001b[0mM\u001b[0m\u001b[0;34m)\u001b[0m\u001b[0;34m:\u001b[0m\u001b[0;34m\u001b[0m\u001b[0m\n\u001b[1;32m      2\u001b[0m     \u001b[0;32mfor\u001b[0m \u001b[0mk\u001b[0m \u001b[0;32min\u001b[0m \u001b[0mrange\u001b[0m\u001b[0;34m(\u001b[0m\u001b[0mM\u001b[0m \u001b[0;34m-\u001b[0m \u001b[0;36m1\u001b[0m\u001b[0;34m)\u001b[0m\u001b[0;34m:\u001b[0m\u001b[0;34m\u001b[0m\u001b[0m\n\u001b[0;32m----> 3\u001b[0;31m         \u001b[0mLL\u001b[0m \u001b[0;34m=\u001b[0m \u001b[0mpywt\u001b[0m\u001b[0;34m.\u001b[0m\u001b[0midwt2\u001b[0m\u001b[0;34m(\u001b[0m\u001b[0;34m[\u001b[0m\u001b[0mLL\u001b[0m\u001b[0;34m,\u001b[0m \u001b[0;34m(\u001b[0m\u001b[0mLH\u001b[0m\u001b[0;34m[\u001b[0m\u001b[0mk\u001b[0m\u001b[0;34m]\u001b[0m\u001b[0;34m,\u001b[0m \u001b[0mHL\u001b[0m\u001b[0;34m[\u001b[0m\u001b[0mk\u001b[0m\u001b[0;34m]\u001b[0m\u001b[0;34m,\u001b[0m \u001b[0mHH\u001b[0m\u001b[0;34m[\u001b[0m\u001b[0mk\u001b[0m\u001b[0;34m]\u001b[0m\u001b[0;34m)\u001b[0m\u001b[0;34m]\u001b[0m\u001b[0;34m,\u001b[0m \u001b[0;34m'haar'\u001b[0m\u001b[0;34m)\u001b[0m\u001b[0;34m\u001b[0m\u001b[0m\n\u001b[0m\u001b[1;32m      4\u001b[0m         \u001b[0mprint\u001b[0m\u001b[0;34m(\u001b[0m\u001b[0mLL\u001b[0m\u001b[0;34m)\u001b[0m\u001b[0;34m\u001b[0m\u001b[0m\n\u001b[1;32m      5\u001b[0m     \u001b[0;32mreturn\u001b[0m \u001b[0mLL\u001b[0m\u001b[0;34m\u001b[0m\u001b[0m\n",
      "\u001b[0;32m/home/satbek/python/anacondas/anaconda2/envs/py36/lib/python3.6/site-packages/pywt/_multidim.py\u001b[0m in \u001b[0;36midwt2\u001b[0;34m(coeffs, wavelet, mode, axes)\u001b[0m\n\u001b[1;32m    108\u001b[0m \u001b[0;34m\u001b[0m\u001b[0m\n\u001b[1;32m    109\u001b[0m     \u001b[0mcoeffs\u001b[0m \u001b[0;34m=\u001b[0m \u001b[0;34m{\u001b[0m\u001b[0;34m'aa'\u001b[0m\u001b[0;34m:\u001b[0m \u001b[0mLL\u001b[0m\u001b[0;34m,\u001b[0m \u001b[0;34m'da'\u001b[0m\u001b[0;34m:\u001b[0m \u001b[0mHL\u001b[0m\u001b[0;34m,\u001b[0m \u001b[0;34m'ad'\u001b[0m\u001b[0;34m:\u001b[0m \u001b[0mLH\u001b[0m\u001b[0;34m,\u001b[0m \u001b[0;34m'dd'\u001b[0m\u001b[0;34m:\u001b[0m \u001b[0mHH\u001b[0m\u001b[0;34m}\u001b[0m\u001b[0;34m\u001b[0m\u001b[0m\n\u001b[0;32m--> 110\u001b[0;31m     \u001b[0;32mreturn\u001b[0m \u001b[0midwtn\u001b[0m\u001b[0;34m(\u001b[0m\u001b[0mcoeffs\u001b[0m\u001b[0;34m,\u001b[0m \u001b[0mwavelet\u001b[0m\u001b[0;34m,\u001b[0m \u001b[0mmode\u001b[0m\u001b[0;34m,\u001b[0m \u001b[0maxes\u001b[0m\u001b[0;34m)\u001b[0m\u001b[0;34m\u001b[0m\u001b[0m\n\u001b[0m\u001b[1;32m    111\u001b[0m \u001b[0;34m\u001b[0m\u001b[0m\n\u001b[1;32m    112\u001b[0m \u001b[0;34m\u001b[0m\u001b[0m\n",
      "\u001b[0;32m/home/satbek/python/anacondas/anaconda2/envs/py36/lib/python3.6/site-packages/pywt/_multidim.py\u001b[0m in \u001b[0;36midwtn\u001b[0;34m(coeffs, wavelet, mode, axes)\u001b[0m\n\u001b[1;32m    261\u001b[0m                          \"band\")\n\u001b[1;32m    262\u001b[0m     \u001b[0;32mif\u001b[0m \u001b[0many\u001b[0m\u001b[0;34m(\u001b[0m\u001b[0ms\u001b[0m \u001b[0;34m!=\u001b[0m \u001b[0mcoeff_shape\u001b[0m \u001b[0;32mfor\u001b[0m \u001b[0ms\u001b[0m \u001b[0;32min\u001b[0m \u001b[0mcoeff_shapes\u001b[0m\u001b[0;34m)\u001b[0m\u001b[0;34m:\u001b[0m\u001b[0;34m\u001b[0m\u001b[0m\n\u001b[0;32m--> 263\u001b[0;31m         \u001b[0;32mraise\u001b[0m \u001b[0mValueError\u001b[0m\u001b[0;34m(\u001b[0m\u001b[0;34m\"`coeffs` must all be of equal size (or None)\"\u001b[0m\u001b[0;34m)\u001b[0m\u001b[0;34m\u001b[0m\u001b[0m\n\u001b[0m\u001b[1;32m    264\u001b[0m \u001b[0;34m\u001b[0m\u001b[0m\n\u001b[1;32m    265\u001b[0m     \u001b[0;32mif\u001b[0m \u001b[0maxes\u001b[0m \u001b[0;32mis\u001b[0m \u001b[0;32mNone\u001b[0m\u001b[0;34m:\u001b[0m\u001b[0;34m\u001b[0m\u001b[0m\n",
      "\u001b[0;31mValueError\u001b[0m: `coeffs` must all be of equal size (or None)"
     ]
    }
   ],
   "source": [
    "res = get_image_from_gradient(X, Y, np.mean(exmpl), np.array([[-4.25]]))\n",
    "res"
   ]
  },
  {
   "cell_type": "markdown",
   "metadata": {},
   "source": [
    "Похоже что работает"
   ]
  },
  {
   "cell_type": "code",
   "execution_count": 259,
   "metadata": {},
   "outputs": [
    {
     "data": {
      "text/plain": [
       "3.0106136890661271e-30"
      ]
     },
     "execution_count": 259,
     "metadata": {},
     "output_type": "execute_result"
    }
   ],
   "source": [
    "mean_squared_error(res, exmpl)"
   ]
  },
  {
   "cell_type": "markdown",
   "metadata": {},
   "source": [
    "# Попробуем на большей размерности 8 на 8"
   ]
  },
  {
   "cell_type": "code",
   "execution_count": 285,
   "metadata": {},
   "outputs": [
    {
     "data": {
      "text/plain": [
       "array([[3, 9, 4, 9, 2, 1, 6, 0, 9, 6, 7, 2, 2, 9, 3, 1],\n",
       "       [2, 3, 8, 2, 9, 3, 0, 3, 2, 4, 2, 2, 3, 9, 4, 3],\n",
       "       [1, 1, 9, 1, 8, 7, 4, 6, 4, 4, 2, 2, 9, 4, 9, 5],\n",
       "       [5, 9, 3, 2, 4, 6, 1, 4, 9, 2, 3, 4, 6, 2, 3, 2],\n",
       "       [9, 9, 5, 5, 0, 1, 5, 9, 4, 6, 4, 2, 9, 2, 8, 8],\n",
       "       [1, 0, 2, 0, 7, 0, 8, 2, 0, 1, 0, 4, 7, 3, 2, 8],\n",
       "       [2, 7, 6, 9, 5, 3, 7, 5, 0, 4, 5, 4, 8, 8, 5, 4],\n",
       "       [4, 2, 8, 0, 9, 0, 9, 5, 1, 5, 9, 2, 0, 5, 9, 3],\n",
       "       [5, 3, 1, 9, 0, 5, 8, 5, 1, 6, 5, 5, 1, 1, 4, 8],\n",
       "       [2, 5, 7, 1, 3, 7, 9, 9, 6, 3, 5, 9, 9, 3, 8, 7],\n",
       "       [5, 9, 0, 7, 3, 9, 6, 7, 1, 6, 3, 0, 6, 9, 3, 4],\n",
       "       [2, 4, 4, 0, 7, 2, 8, 3, 0, 4, 0, 7, 2, 1, 1, 1],\n",
       "       [8, 7, 5, 7, 8, 6, 8, 8, 1, 5, 7, 3, 1, 7, 7, 3],\n",
       "       [0, 9, 6, 8, 1, 4, 8, 8, 9, 6, 3, 9, 5, 1, 9, 6],\n",
       "       [3, 7, 0, 9, 3, 1, 1, 3, 1, 6, 1, 4, 7, 5, 0, 5],\n",
       "       [4, 1, 2, 3, 4, 2, 0, 1, 7, 2, 3, 5, 7, 9, 2, 7]])"
      ]
     },
     "execution_count": 285,
     "metadata": {},
     "output_type": "execute_result"
    }
   ],
   "source": [
    "exmpl2 = np.array([int(random.random() * 10) for i in range(256)])\n",
    "exmpl2 = exmpl2.reshape(16,16)\n",
    "exmpl2"
   ]
  },
  {
   "cell_type": "markdown",
   "metadata": {},
   "source": [
    "# Коэффициенты левого квадранта"
   ]
  },
  {
   "cell_type": "code",
   "execution_count": 296,
   "metadata": {},
   "outputs": [],
   "source": [
    "X, Y = fried_model_gradient(exmpl2)"
   ]
  },
  {
   "cell_type": "code",
   "execution_count": 303,
   "metadata": {},
   "outputs": [
    {
     "data": {
      "text/plain": [
       "({0: array([[ 1.4375]]), 1: array([[ -8.625,  -2.25 ],\n",
       "         [ 13.   ,   6.75 ]]), 2: array([[ 2.25, -1.75,  0.5 ,  5.25],\n",
       "         [-4.  , -2.75,  0.25,  9.  ],\n",
       "         [ 1.  , -2.25,  4.75,  3.5 ],\n",
       "         [-1.5 ,  1.25,  3.5 , -0.75]]), 3: array([[ 3.5,  1.5, -4.5,  1.5,  4.5,  2.5, -0.5, -1.5],\n",
       "         [-6. ,  2.5,  2.5,  2.5, -1.5, -1.5,  2.5,  4.5],\n",
       "         [ 8.5,  4. , -3. ,  2. ,  4.5,  1. ,  0.5,  3. ],\n",
       "         [ 1.5,  3.5, -0.5, -1. , -1. , -1. ,  5.5, -1.5],\n",
       "         [ 0.5,  1. , -2.5, -2.5, -1. , -2. , -5. , -1.5],\n",
       "         [ 4. ,  1.5,  1.5,  1. ,  1.5, -2. ,  6. ,  2.5],\n",
       "         [ 3. , -1. ,  4.5, -0. , -4.5, -1. ,  1. , -2.5],\n",
       "         [ 2.5,  2. , -1. ,  1.5, -1. , -1.5, -2. , -2. ]])},\n",
       " {0: array([[-9.5625]]), 1: array([[-1.375,  3.5  ],\n",
       "         [-5.   , -1.25 ]]), 2: array([[-1.25, -0.25,  1.5 , -0.25],\n",
       "         [ 4.  , -6.25, -4.75, -2.  ],\n",
       "         [ 4.  , -2.25, -1.75,  0.5 ],\n",
       "         [ 3.5 , -1.25, -1.  ,  0.75]]), 3: array([[ -3.50000000e+00,   5.00000000e-01,   3.50000000e+00,\n",
       "            1.50000000e+00,   5.00000000e-01,   2.50000000e+00,\n",
       "           -6.50000000e+00,   1.50000000e+00],\n",
       "         [ -2.00000000e+00,   4.50000000e+00,  -5.00000000e-01,\n",
       "           -2.50000000e+00,   3.50000000e+00,  -5.00000000e-01,\n",
       "            4.50000000e+00,   2.50000000e+00],\n",
       "         [  5.00000000e-01,   1.00000000e+00,   3.00000000e+00,\n",
       "            1.00000000e+00,  -1.50000000e+00,  -1.00000000e+00,\n",
       "            5.50000000e+00,  -3.00000000e+00],\n",
       "         [ -1.50000000e+00,   2.50000000e+00,   5.50000000e+00,\n",
       "            3.00000000e+00,  -4.00000000e+00,   4.00000000e+00,\n",
       "           -2.50000000e+00,   3.50000000e+00],\n",
       "         [ -5.00000000e-01,  -1.00000000e+00,  -4.50000000e+00,\n",
       "            1.50000000e+00,  -1.00000000e+00,  -2.00000000e+00,\n",
       "            3.00000000e+00,  -1.50000000e+00],\n",
       "         [ -3.00000000e+00,  -1.50000000e+00,  -5.00000000e-01,\n",
       "            2.00000000e+00,  -4.50000000e+00,  -2.00000000e+00,\n",
       "           -1.00000000e+00,  -5.00000000e-01],\n",
       "         [ -4.00000000e+00,  -2.00000000e+00,  -5.00000000e-01,\n",
       "           -0.00000000e+00,  -5.00000000e-01,  -1.00000000e+00,\n",
       "           -1.00000000e+00,   3.50000000e+00],\n",
       "         [ -5.00000000e-01,  -5.00000000e+00,   2.00000000e+00,\n",
       "           -1.50000000e+00,  -4.44089210e-16,  -2.50000000e+00,\n",
       "           -8.88178420e-16,  -5.00000000e+00]])},\n",
       " {0: array([[ 12.6875]]), 1: array([[  3.87500000e+00,   2.75000000e+00],\n",
       "         [  9.75000000e+00,  -1.57009246e-15]]), 2: array([[ -1.75000000e+00,   3.75000000e+00,  -3.00000000e+00,\n",
       "           -7.50000000e-01],\n",
       "         [ -1.00000000e+00,  -1.75000000e+00,  -3.25000000e+00,\n",
       "           -4.50000000e+00],\n",
       "         [  3.14018492e-16,   2.75000000e+00,  -2.25000000e+00,\n",
       "           -1.00000000e+00],\n",
       "         [  2.50000000e+00,  -1.25000000e+00,  -5.50000000e+00,\n",
       "           -6.25000000e+00]])})"
      ]
     },
     "execution_count": 303,
     "metadata": {},
     "output_type": "execute_result"
    }
   ],
   "source": [
    "process_left_quadrant(X, Y, 4)"
   ]
  },
  {
   "cell_type": "code",
   "execution_count": 307,
   "metadata": {},
   "outputs": [
    {
     "data": {
      "text/plain": [
       "(array([[-1.25,  2.  ,  1.  ,  1.  ],\n",
       "        [-5.25, -6.75, -0.25,  2.25],\n",
       "        [-5.5 , -3.75,  1.25, -4.  ],\n",
       "        [-1.25,  1.  , -2.  , -1.25]]),\n",
       " (array([[ -6.75000000e+00,  -8.88178420e-16,   4.00000000e+00,\n",
       "           -1.00000000e+00],\n",
       "         [  3.75000000e+00,  -2.25000000e+00,   2.75000000e+00,\n",
       "            2.25000000e+00],\n",
       "         [  1.00000000e+00,   4.75000000e+00,  -3.25000000e+00,\n",
       "           -1.50000000e+00],\n",
       "         [  6.25000000e+00,   1.50000000e+00,   3.50000000e+00,\n",
       "           -3.25000000e+00]]), array([[ 0.75, -3.  , -2.  , -1.  ],\n",
       "         [ 1.25, -0.75, -0.25,  1.75],\n",
       "         [ 7.  , -2.25, -5.75, -1.  ],\n",
       "         [ 2.75,  1.5 , -6.5 , -1.75]]), array([[  2.25000000e+00,  -4.00000000e+00,   2.00000000e+00,\n",
       "           -1.11022302e-16],\n",
       "         [ -7.50000000e-01,   1.75000000e+00,  -3.25000000e+00,\n",
       "           -3.25000000e+00],\n",
       "         [  2.50000000e+00,   2.50000000e-01,  -2.50000000e-01,\n",
       "            5.00000000e-01],\n",
       "         [  2.25000000e+00,   1.00000000e+00,  -2.00000000e+00,\n",
       "           -3.75000000e+00]])))"
      ]
     },
     "execution_count": 307,
     "metadata": {},
     "output_type": "execute_result"
    }
   ],
   "source": [
    "z = pywt.dwt2(exmpl2,'haar')\n",
    "z = pywt.dwt2(z[1][-1],'haar')\n",
    "# pywt.dwt2(z[0],'haar')\n",
    "#z = pywt.dwt2(z[1][-1],'haar')\n",
    "z"
   ]
  },
  {
   "cell_type": "code",
   "execution_count": null,
   "metadata": {},
   "outputs": [],
   "source": []
  },
  {
   "cell_type": "code",
   "execution_count": 279,
   "metadata": {
    "collapsed": true
   },
   "outputs": [],
   "source": [
    "def up_2(array):\n",
    "    return np.hstack([array[:, None], np.zeros((len(array), 1))]).ravel()"
   ]
  },
  {
   "cell_type": "code",
   "execution_count": null,
   "metadata": {},
   "outputs": [],
   "source": []
  },
  {
   "cell_type": "code",
   "execution_count": 284,
   "metadata": {},
   "outputs": [
    {
     "data": {
      "text/plain": [
       "16.0"
      ]
     },
     "execution_count": 284,
     "metadata": {},
     "output_type": "execute_result"
    }
   ],
   "source": [
    "np.sqrt(256)"
   ]
  },
  {
   "cell_type": "code",
   "execution_count": null,
   "metadata": {
    "collapsed": true
   },
   "outputs": [],
   "source": []
  }
 ],
 "metadata": {
  "kernelspec": {
   "display_name": "Python 3",
   "language": "python",
   "name": "python3"
  },
  "language_info": {
   "codemirror_mode": {
    "name": "ipython",
    "version": 3
   },
   "file_extension": ".py",
   "mimetype": "text/x-python",
   "name": "python",
   "nbconvert_exporter": "python",
   "pygments_lexer": "ipython3",
   "version": "3.6.1"
  }
 },
 "nbformat": 4,
 "nbformat_minor": 2
}
