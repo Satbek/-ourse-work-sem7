{
 "cells": [
  {
   "cell_type": "code",
   "execution_count": 387,
   "metadata": {
    "collapsed": true
   },
   "outputs": [],
   "source": [
    "import numpy as np\n",
    "import pywt\n",
    "from scipy import signal\n",
    "from sklearn.metrics import mean_squared_error"
   ]
  },
  {
   "cell_type": "code",
   "execution_count": 388,
   "metadata": {
    "collapsed": true
   },
   "outputs": [],
   "source": [
    "H_h = np.array([1, -1])/np.sqrt(2)\n",
    "H_l = np.array([1, 1])/np.sqrt(2)"
   ]
  },
  {
   "cell_type": "code",
   "execution_count": 389,
   "metadata": {
    "collapsed": true
   },
   "outputs": [],
   "source": [
    "def down_sample(array ,sample_factor):\n",
    "    array = np.array(array, dtype=float)\n",
    "    array = array[::sample_factor]\n",
    "    if (len(array.shape) == 2):\n",
    "        array = array.transpose()\n",
    "        array = array[::sample_factor]\n",
    "    return array"
   ]
  },
  {
   "cell_type": "code",
   "execution_count": 390,
   "metadata": {
    "collapsed": true
   },
   "outputs": [],
   "source": [
    "from scipy.signal import convolve2d as conv2d\n",
    "def convolve_2d(array_2d, kernel, mode):\n",
    "    res = np.array(array_2d, dtype=float)\n",
    "    kernel = np.array(kernel)\n",
    "    if (mode == 'horizontal'):\n",
    "        res = conv2d(res, kernel[None, :])\n",
    "        res = res[:,len(kernel)-1:]\n",
    "    if (mode == 'vertical'):\n",
    "        res = conv2d(res, kernel[:, None])\n",
    "        res = res[len(kernel)-1:,:]\n",
    "    return res"
   ]
  },
  {
   "cell_type": "code",
   "execution_count": 391,
   "metadata": {
    "collapsed": true
   },
   "outputs": [],
   "source": [
    "def fried_model_gradient(image):\n",
    "    tmp = convolve_2d(image, H_h, mode='horizontal')\n",
    "    X = convolve_2d(tmp, H_l, mode='vertical')\n",
    "    tmp = convolve_2d(image, H_l, mode='horizontal')\n",
    "    Y = convolve_2d(tmp, H_h, mode='vertical')\n",
    "    return X, Y"
   ]
  },
  {
   "cell_type": "code",
   "execution_count": 392,
   "metadata": {},
   "outputs": [
    {
     "data": {
      "text/plain": [
       "array([[0, 4, 3, 5],\n",
       "       [7, 4, 5, 9],\n",
       "       [4, 7, 2, 2],\n",
       "       [8, 2, 1, 7]])"
      ]
     },
     "execution_count": 392,
     "metadata": {},
     "output_type": "execute_result"
    }
   ],
   "source": [
    "import random\n",
    "exmpl = np.array([int(random.random() * 10) for i in range(16)])\n",
    "exmpl = exmpl.reshape(4,4)\n",
    "exmpl"
   ]
  },
  {
   "cell_type": "code",
   "execution_count": 393,
   "metadata": {},
   "outputs": [
    {
     "data": {
      "text/plain": [
       "(array([[  7.5,  11. ],\n",
       "        [ 10.5,   6. ]]), (array([[-3.5, -3. ],\n",
       "         [ 0.5, -2. ]]), array([[-0.5, -3. ],\n",
       "         [ 1.5, -3. ]]), array([[-3.5,  1. ],\n",
       "         [-4.5,  3. ]])))"
      ]
     },
     "execution_count": 393,
     "metadata": {},
     "output_type": "execute_result"
    }
   ],
   "source": [
    "coeffs = pywt.dwt2(exmpl, 'haar')\n",
    "coeffs"
   ]
  },
  {
   "cell_type": "code",
   "execution_count": 394,
   "metadata": {},
   "outputs": [
    {
     "data": {
      "text/plain": [
       "(array([[ 17.5]]), (array([[ 1.]]), array([[ 0.5]]), array([[-4.]])))"
      ]
     },
     "execution_count": 394,
     "metadata": {},
     "output_type": "execute_result"
    }
   ],
   "source": [
    "coeffs2 = pywt.dwt2(coeffs[0], 'haar')\n",
    "coeffs2"
   ]
  },
  {
   "cell_type": "code",
   "execution_count": 395,
   "metadata": {},
   "outputs": [
    {
     "data": {
      "text/plain": [
       "(array([[-2.]]), (array([[-0.5]]), array([[-6.]]), array([[ 1.5]])))"
      ]
     },
     "execution_count": 395,
     "metadata": {},
     "output_type": "execute_result"
    }
   ],
   "source": [
    "coeffs_hh = pywt.dwt2(coeffs[1][-1], 'haar')\n",
    "coeffs_hh"
   ]
  },
  {
   "cell_type": "code",
   "execution_count": 396,
   "metadata": {},
   "outputs": [
    {
     "data": {
      "text/plain": [
       "[array([[ 0.5,  0. ,  3. , -7. ],\n",
       "        [ 0. , -2. ,  2. , -5.5],\n",
       "        [-1.5, -3. ,  3. , -4.5],\n",
       "        [-3. , -0.5,  3. , -3.5]]), array([[ 3.5,  1. ,  3. ,  2. ],\n",
       "        [ 0. ,  0. , -5. , -3.5],\n",
       "        [-0.5, -3. ,  2. ,  2.5],\n",
       "        [-5. , -1.5, -4. , -3.5]])]"
      ]
     },
     "execution_count": 396,
     "metadata": {},
     "output_type": "execute_result"
    }
   ],
   "source": [
    "X, Y = fried_model_gradient(exmpl)\n",
    "[X, Y]"
   ]
  },
  {
   "cell_type": "code",
   "execution_count": 397,
   "metadata": {
    "collapsed": true
   },
   "outputs": [],
   "source": [
    "def process_next_X (prevX):\n",
    "    tmp1 = convolve_2d(prevX, H_l, mode='horizontal')\n",
    "    tmp2 = convolve_2d(tmp1, H_l, mode='horizontal')\n",
    "    return down_sample(np.sqrt(2) * convolve_2d(tmp2, np.array([1,0,1]) / np.sqrt(2), mode='vertical'), 2)"
   ]
  },
  {
   "cell_type": "code",
   "execution_count": 398,
   "metadata": {
    "collapsed": true
   },
   "outputs": [],
   "source": [
    "def process_next_Y (prevY):\n",
    "    tmp1 = convolve_2d(prevY, np.array([1,0,1]) / np.sqrt(2), mode = 'horizontal')\n",
    "    tmp2 = convolve_2d(tmp1, H_l, mode = 'vertical')\n",
    "    return np.sqrt(2) * down_sample(convolve_2d(tmp2, H_l, mode = 'vertical'), 2)"
   ]
  },
  {
   "cell_type": "code",
   "execution_count": 399,
   "metadata": {},
   "outputs": [],
   "source": [
    "def process_next_HH (X):\n",
    "    tmp1 = convolve_2d(X, H_l, mode = 'horizontal')\n",
    "    tmp2 = convolve_2d(tmp1, H_l, mode = 'horizontal')\n",
    "    tmp3 = convolve_2d(tmp2, np.array([1,0,-1]) / np.sqrt(2), mode = 'vertical')\n",
    "    return np.sqrt(2) * down_sample(tmp3, 4)"
   ]
  },
  {
   "cell_type": "code",
   "execution_count": 400,
   "metadata": {
    "collapsed": true
   },
   "outputs": [],
   "source": [
    "def process_left_quadrant (grad_X, grad_Y, M):\n",
    "    X = dict({M : grad_X})\n",
    "    Y = dict({M : grad_Y})\n",
    "    HL = dict({M - 1 : -down_sample(X[M], 2).T})\n",
    "    LH = dict({M - 1 : -down_sample(Y[M], 2).T})\n",
    "    HH = dict()\n",
    "    for k in range(2, M + 1)[::-1]:\n",
    "        X[k - 1] = process_next_X(X[k])\n",
    "        Y[k - 1] = process_next_Y(Y[k])\n",
    "        LH[k - 2] = -down_sample(Y[k - 1], 2).T\n",
    "        HL[k - 2] = -down_sample(X[k - 1], 2).T\n",
    "        HH[k - 2] = process_next_HH(X[k])\n",
    "    return LH, HL, HH"
   ]
  },
  {
   "cell_type": "code",
   "execution_count": 401,
   "metadata": {
    "collapsed": true
   },
   "outputs": [],
   "source": [
    "def process_next_X_right(prevX, k, M):\n",
    "    if (k == M):\n",
    "        tmp1 = convolve_2d(X, np.array([1, 0, 1]) / np.sqrt(2), mode = 'horizontal')\n",
    "        tmp2 = convolve_2d(tmp1, H_h, mode = 'vertical')\n",
    "        tmp3 = convolve_2d(tmp2, H_h, mode = 'vertical')\n",
    "        return np.sqrt(2) * down_sample(tmp3, 2)\n",
    "    else:\n",
    "        tmp1 = convolve_2d(X, np.array([1, 0, 1]) / np.sqrt(2), mode = 'horizontal')\n",
    "        tmp2 = convolve_2d(tmp1, H_l, mode = 'vertical')\n",
    "        tmp3 = convolve_2d(tmp2, H_l, mode = 'vertical')\n",
    "        return np.sqrt(2) * down_sample(tmp3, 2)"
   ]
  },
  {
   "cell_type": "code",
   "execution_count": 402,
   "metadata": {
    "collapsed": true
   },
   "outputs": [],
   "source": [
    "def process_next_Y_right(prevY, k, M):\n",
    "    if (k == M):\n",
    "        tmp1 = convolve_2d(prevY, H_h, mode = 'horizontal')\n",
    "        tmp2 = convolve_2d(tmp1, H_h, mode = 'horizontal')\n",
    "        tmp3 = convolve_2d(tmp2, np.array([1, 0, 1]) / np.sqrt(2), mode = 'vertical')\n",
    "        return np.sqrt(2) * down_sample(tmp3, 2)\n",
    "    else:\n",
    "        tmp1 = convolve_2d(prevY, H_l, mode = 'horizontal')\n",
    "        tmp2 = convolve_2d(tmp1, H_l, mode = 'horizontal')\n",
    "        tmp3 = convolve_2d(tmp2, np.array([1, 0, 1]) / np.sqrt(2), mode = 'vertical')\n",
    "        return np.sqrt(2) * down_sample(tmp3, 2)"
   ]
  },
  {
   "cell_type": "code",
   "execution_count": 403,
   "metadata": {
    "collapsed": true
   },
   "outputs": [],
   "source": [
    "def process_next_HH_right(X, k, M):\n",
    "    if (k == M):\n",
    "        tmp1 = convolve_2d(X, np.array([1, 0, -1]) / np.sqrt(2), mode = 'horizontal')\n",
    "        tmp2 = convolve_2d(tmp1, H_h, mode = 'vertical')\n",
    "        tmp3 = convolve_2d(tmp2, H_h, mode = 'vertical')\n",
    "        return np.sqrt(2) * down_sample(tmp3, 4)\n",
    "    else:\n",
    "        tmp1 = convolve_2d(X, np.array([1, 0, -1]) / np.sqrt(2), mode = 'horizontal')\n",
    "        tmp2 = convolve_2d(tmp1, H_l, mode = 'vertical')\n",
    "        tmp3 = convolve_2d(tmp2, H_l, mode = 'vertical')\n",
    "        return np.sqrt(2) * down_sample(tmp3, 4)"
   ]
  },
  {
   "cell_type": "code",
   "execution_count": 404,
   "metadata": {
    "collapsed": true
   },
   "outputs": [],
   "source": [
    "def process_right_quardrant (grad_X, grad_Y, M):\n",
    "    X = dict({M : grad_X})\n",
    "    Y = dict({M : grad_Y})\n",
    "    HL = dict()\n",
    "    LH = dict()\n",
    "    HH = dict()\n",
    "    for k in range(2, M + 1)[::-1]:\n",
    "        X[k - 1] = process_next_X_right(X[k], k, M)\n",
    "        Y[k - 1] = process_next_Y_right(Y[k], k, M)\n",
    "        LH[k - 2] = -down_sample(X[k - 1], 2)\n",
    "        HL[k - 2] = -down_sample(Y[k - 1], 2)\n",
    "        HH[k - 2] = process_next_HH_right(X[k], k, M)\n",
    "    return LH, HL, HH"
   ]
  },
  {
   "cell_type": "code",
   "execution_count": 405,
   "metadata": {
    "collapsed": true
   },
   "outputs": [],
   "source": [
    "def synthesis(LL, LH, HL, HH, M):\n",
    "    for k in range(M - 1):\n",
    "        LL = pywt.idwt2([LL, (LH[k], HL[k], HH[k])], 'haar')\n",
    "    return LL"
   ]
  },
  {
   "cell_type": "code",
   "execution_count": 406,
   "metadata": {},
   "outputs": [],
   "source": [
    "def get_image_from_gradient(grad_X, grad_Y, mean = 1, ll_right = np.array([[0.]])):\n",
    "    M = int(np.log2(len(grad_X)))\n",
    "    LL_0_left = np.array([[(2 ** M) * mean]])\n",
    "    LH_left, HL_left, HH_left = process_left_quadrant (grad_X, grad_Y, M)\n",
    "    LL = synthesis(LL_0_left, LH_left, HL_left, HH_left, M)\n",
    "    LL_0_right = ll_right\n",
    "    LH_right, HL_right, HH_right = process_right_quardrant(grad_X, grad_Y, M)\n",
    "    HH = synthesis(LL_0_right, LH_right, HL_right, HH_right, M)\n",
    "    HL = down_sample(grad_X, 2)\n",
    "    LH = down_sample(grad_Y, 2)\n",
    "    return pywt.idwt2([LL, (LH, HL, HH)], 'haar')"
   ]
  },
  {
   "cell_type": "code",
   "execution_count": 407,
   "metadata": {},
   "outputs": [
    {
     "data": {
      "text/plain": [
       "array([[ 4.125,  6.875,  5.125,  5.375],\n",
       "       [ 3.875,  0.125,  4.375,  7.125],\n",
       "       [ 6.125,  7.375,  7.125,  0.875],\n",
       "       [ 7.375,  0.125,  1.875,  2.125]])"
      ]
     },
     "execution_count": 407,
     "metadata": {},
     "output_type": "execute_result"
    }
   ],
   "source": [
    "res = get_image_from_gradient(X, Y, np.mean(exmpl), np.array([[-1.5]]))\n",
    "res"
   ]
  },
  {
   "cell_type": "code",
   "execution_count": 408,
   "metadata": {},
   "outputs": [
    {
     "data": {
      "text/plain": [
       "7.453125"
      ]
     },
     "execution_count": 408,
     "metadata": {},
     "output_type": "execute_result"
    }
   ],
   "source": [
    "mean_squared_error(res, exmpl)"
   ]
  },
  {
   "cell_type": "code",
   "execution_count": null,
   "metadata": {
    "collapsed": true
   },
   "outputs": [],
   "source": []
  }
 ],
 "metadata": {
  "kernelspec": {
   "display_name": "Python 3",
   "language": "python",
   "name": "python3"
  },
  "language_info": {
   "codemirror_mode": {
    "name": "ipython",
    "version": 3
   },
   "file_extension": ".py",
   "mimetype": "text/x-python",
   "name": "python",
   "nbconvert_exporter": "python",
   "pygments_lexer": "ipython3",
   "version": "3.6.1"
  }
 },
 "nbformat": 4,
 "nbformat_minor": 2
}
