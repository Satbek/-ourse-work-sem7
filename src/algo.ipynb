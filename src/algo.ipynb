{
 "cells": [
  {
   "cell_type": "code",
   "execution_count": 2,
   "metadata": {
    "collapsed": true
   },
   "outputs": [],
   "source": [
    "import numpy as np\n",
    "from scipy import signal\n",
    "from sklearn.metrics import mean_squared_error"
   ]
  },
  {
   "cell_type": "code",
   "execution_count": 3,
   "metadata": {
    "collapsed": true
   },
   "outputs": [],
   "source": [
    "H_h = np.array([1, -1])/np.sqrt(2)\n",
    "H_l = np.array([1, 1])/np.sqrt(2)"
   ]
  },
  {
   "cell_type": "code",
   "execution_count": 4,
   "metadata": {
    "collapsed": true
   },
   "outputs": [],
   "source": [
    "F_2 = np.arange(1,17, dtype=float)\n",
    "F_2 = F_2.reshape(4,4)"
   ]
  },
  {
   "cell_type": "code",
   "execution_count": 5,
   "metadata": {
    "collapsed": true
   },
   "outputs": [],
   "source": [
    "def down_sample(array ,sample_factor):\n",
    "    array = np.array(array, dtype=float)\n",
    "    array = array[::sample_factor]\n",
    "    if (len(array.shape) == 2):\n",
    "        array = array.transpose()\n",
    "        array = array[::sample_factor]\n",
    "    return array"
   ]
  },
  {
   "cell_type": "code",
   "execution_count": 6,
   "metadata": {
    "collapsed": true
   },
   "outputs": [],
   "source": [
    "from scipy.signal import convolve2d as conv2d\n",
    "def convolve_2d(array_2d, kernel, mode):\n",
    "    res = np.array(array_2d, dtype=float)\n",
    "    kernel = np.array(kernel)\n",
    "    if (mode == 'horizontal'):\n",
    "        res = conv2d(res, kernel[None, :])\n",
    "        res = res[:,len(kernel)-1:]\n",
    "    if (mode == 'vertical'):\n",
    "        res = conv2d(res, kernel[:, None])\n",
    "        res = res[len(kernel)-1:,:]\n",
    "    return res"
   ]
  },
  {
   "cell_type": "code",
   "execution_count": 7,
   "metadata": {
    "collapsed": true
   },
   "outputs": [],
   "source": [
    "def fried_model_gradient(image):\n",
    "    tmp = convolve_2d(image, H_h, mode='horizontal')\n",
    "    X = convolve_2d(tmp, H_l, mode='vertical')\n",
    "    tmp = convolve_2d(image, H_l, mode='horizontal')\n",
    "    Y = convolve_2d(tmp, H_h, mode='vertical')\n",
    "    return X, Y"
   ]
  },
  {
   "cell_type": "markdown",
   "metadata": {},
   "source": [
    "# Простая матрица LL квадрант\n"
   ]
  },
  {
   "cell_type": "code",
   "execution_count": 8,
   "metadata": {},
   "outputs": [
    {
     "data": {
      "text/plain": [
       "array([[ 4.,  4.],\n",
       "       [ 4.,  4.]])"
      ]
     },
     "execution_count": 8,
     "metadata": {},
     "output_type": "execute_result"
    }
   ],
   "source": [
    "X_2, Y_2 = fried_model_gradient(F_2)\n",
    "F_2_hl = down_sample(X_2,2)\n",
    "F_2_lh = down_sample(Y_2,2)\n",
    "F_2_lh"
   ]
  },
  {
   "cell_type": "code",
   "execution_count": 9,
   "metadata": {},
   "outputs": [
    {
     "data": {
      "text/plain": [
       "array([[ 4.]])"
      ]
     },
     "execution_count": 9,
     "metadata": {},
     "output_type": "execute_result"
    }
   ],
   "source": [
    "tmp1 = convolve_2d(X_2, H_l, mode='horizontal')\n",
    "tmp2 = convolve_2d(tmp1, H_l, mode='horizontal')\n",
    "X_1 = down_sample(np.sqrt(2) * convolve_2d(tmp2, np.array([1,0,1])/np.sqrt(2), mode='vertical'), 2)\n",
    "F_0_hl = down_sample(X_1, 2)\n",
    "F_0_hl"
   ]
  },
  {
   "cell_type": "code",
   "execution_count": 10,
   "metadata": {},
   "outputs": [
    {
     "data": {
      "text/plain": [
       "array([[ 16.]])"
      ]
     },
     "execution_count": 10,
     "metadata": {},
     "output_type": "execute_result"
    }
   ],
   "source": [
    "tmp1 = convolve_2d(Y_2, np.array([1,0,1])/np.sqrt(2), mode = 'horizontal')\n",
    "tmp2 = convolve_2d(tmp1, H_l, mode = 'vertical')\n",
    "Y_1 = np.sqrt(2) * down_sample(convolve_2d(tmp2, H_l, mode = 'vertical'), 2)\n",
    "F_0_lh = down_sample(Y_1, 2)\n",
    "F_0_lh"
   ]
  },
  {
   "cell_type": "code",
   "execution_count": 11,
   "metadata": {
    "collapsed": true
   },
   "outputs": [],
   "source": [
    "tmp1 = convolve_2d(Y_2, np.array([1,0,-1])/np.sqrt(2), mode = 'horizontal')\n",
    "tmp2 = convolve_2d(tmp1, H_l, mode = 'vertical')\n",
    "tmp3 = convolve_2d(tmp2, H_l, mode = 'vertical')\n",
    "F_0_hh = np.sqrt(2) * down_sample(tmp3, 4)"
   ]
  },
  {
   "cell_type": "code",
   "execution_count": 12,
   "metadata": {
    "collapsed": true
   },
   "outputs": [],
   "source": [
    "F_0_ll = np.array([[np.mean(F_2)]])\n",
    "F_0_ll = F_0_ll * 4"
   ]
  },
  {
   "cell_type": "code",
   "execution_count": 13,
   "metadata": {
    "collapsed": true
   },
   "outputs": [],
   "source": [
    "tmp1 = convolve_2d(X_2, H_l, mode = 'horizontal')\n",
    "tmp2 = convolve_2d(tmp1, H_l, mode = 'horizontal')\n",
    "tmp3 = convolve_2d(tmp2, np.array([1,0,-1])/np.sqrt(2), mode = 'vertical')\n",
    "F_0_hh = np.sqrt(2) * down_sample(tmp3, 4)"
   ]
  },
  {
   "cell_type": "code",
   "execution_count": 14,
   "metadata": {},
   "outputs": [
    {
     "data": {
      "text/plain": [
       "(array([[-16.]]), array([[-4.]]), array([[ 0.]]))"
      ]
     },
     "execution_count": 14,
     "metadata": {},
     "output_type": "execute_result"
    }
   ],
   "source": [
    "import pywt\n",
    "coeffs = pywt.dwt2(F_2, 'haar')\n",
    "cA, (cH, cV, cD) = coeffs\n",
    "coeffs = pywt.dwt2(cA, 'haar')\n",
    "coeffs\n",
    "coeffs[1]"
   ]
  },
  {
   "cell_type": "code",
   "execution_count": 15,
   "metadata": {},
   "outputs": [
    {
     "data": {
      "text/plain": [
       "array([[  1.,   2.,   3.,   4.],\n",
       "       [  5.,   6.,   7.,   8.],\n",
       "       [  9.,  10.,  11.,  12.],\n",
       "       [ 13.,  14.,  15.,  16.]])"
      ]
     },
     "execution_count": 15,
     "metadata": {},
     "output_type": "execute_result"
    }
   ],
   "source": [
    "my_coefs = np.array([F_0_ll, (-F_0_lh,-F_0_hl, -F_0_hh)])\n",
    "tmp1 = pywt.idwt2(my_coefs,'haar')\n",
    "im = pywt.idwt2([tmp1, (-F_2_lh, -F_2_hl, np.array([[0,0],[0,0]]))], 'haar')\n",
    "im"
   ]
  },
  {
   "cell_type": "markdown",
   "metadata": {},
   "source": [
    "# HH квадрант"
   ]
  },
  {
   "cell_type": "code",
   "execution_count": 16,
   "metadata": {
    "collapsed": true
   },
   "outputs": [],
   "source": [
    "tmp1 = convolve_2d(X_2, np.array([1, 0, 1]) / np.sqrt(2), mode = 'horizontal')\n",
    "tmp2 = convolve_2d(tmp1, H_h, mode = 'vertical')\n",
    "tmp3 = convolve_2d(tmp2, H_h, mode = 'vertical')\n",
    "X_hh_2 = np.sqrt(2) * down_sample(tmp3, 2)"
   ]
  },
  {
   "cell_type": "code",
   "execution_count": 17,
   "metadata": {
    "collapsed": true
   },
   "outputs": [],
   "source": [
    "tmp1 = convolve_2d(X_2, H_h, mode = 'horizontal')\n",
    "tmp2 = convolve_2d(tmp1, H_h, mode = 'horizontal')\n",
    "tmp3 = convolve_2d(tmp2, np.array([1, 0, -1]) / np.sqrt(2), mode = 'vertical')\n",
    "Y_hh_2 = np.sqrt(2) * down_sample(tmp3, 2)"
   ]
  },
  {
   "cell_type": "code",
   "execution_count": 18,
   "metadata": {
    "collapsed": true
   },
   "outputs": [],
   "source": [
    "F_H_lh_0 = down_sample(X_hh_2, 2)"
   ]
  },
  {
   "cell_type": "code",
   "execution_count": 19,
   "metadata": {
    "collapsed": true
   },
   "outputs": [],
   "source": [
    "F_H_hl_0 = down_sample(Y_hh_2, 2)"
   ]
  },
  {
   "cell_type": "code",
   "execution_count": 20,
   "metadata": {
    "collapsed": true
   },
   "outputs": [],
   "source": [
    "tmp1 = convolve_2d(X_2, np.array([1, 0, -1]) / np.sqrt(2), mode = 'horizontal')\n",
    "tmp2 = convolve_2d(tmp1, H_h, mode = 'vertical')\n",
    "tmp3 = convolve_2d(tmp2, H_h, mode = 'vertical')\n",
    "F_H_hh_0 = np.sqrt(2) * down_sample(tmp3, 4)"
   ]
  },
  {
   "cell_type": "code",
   "execution_count": 21,
   "metadata": {},
   "outputs": [
    {
     "data": {
      "text/plain": [
       "array([[  5.36063097e-16,  -9.19738868e-17],\n",
       "       [  1.70478510e-16,  -6.14567720e-16]])"
      ]
     },
     "execution_count": 21,
     "metadata": {},
     "output_type": "execute_result"
    }
   ],
   "source": [
    "im = pywt.idwt2([np.array([[0.]]), (-F_H_lh_0, -F_H_hl_0, -F_H_hh_0)], 'haar')\n",
    "im"
   ]
  },
  {
   "cell_type": "markdown",
   "metadata": {},
   "source": [
    "# Реализация общей функции влоб"
   ]
  },
  {
   "cell_type": "code",
   "execution_count": 22,
   "metadata": {
    "collapsed": true
   },
   "outputs": [],
   "source": [
    "def get_image_from_gradient(grad_X, grad_Y, mean = np.array([[1.]]), ll_right = np.array([[0.]])):\n",
    "    M = int(np.log2(len(grad_X)))\n",
    "    HL_left = dict()\n",
    "    LH_left = dict()\n",
    "    HH_left = dict()\n",
    "    LL_left = np.array([[mean]])\n",
    "    X_left = dict({M : grad_X})\n",
    "    Y_left = dict({M : grad_Y})\n",
    "    HL_left[M - 1] = down_sample(X_left[M], 2)\n",
    "    LH_left[M - 1] = down_sample(Y_left[M], 2)\n",
    "    \n",
    "    X_right = dict({M : grad_X})\n",
    "    Y_right = dict({M : grad_Y})\n",
    "    HL_right = dict()\n",
    "    LH_right = dict()\n",
    "    HH_right = dict()\n",
    "    LL_right = ll_right\n",
    "    \n",
    "    for k in range(2, M + 1)[::-1]:\n",
    "        #Left\n",
    "        #X^k\n",
    "        tmp1 = convolve_2d(X_left[k], H_l, mode='horizontal')\n",
    "        tmp2 = convolve_2d(tmp1, H_l, mode='horizontal')\n",
    "        X_left[k - 1] = down_sample(np.sqrt(2) * convolve_2d(tmp2, np.array([1,0,1]) / np.sqrt(2), mode='vertical'), 2)\n",
    "        #Y^k\n",
    "        tmp1 = convolve_2d(Y_left[k], np.array([1,0,1]) / np.sqrt(2), mode = 'horizontal')\n",
    "        tmp2 = convolve_2d(tmp1, H_l, mode = 'vertical')\n",
    "        Y_left[k - 1] = np.sqrt(2) * down_sample(convolve_2d(tmp2, H_l, mode = 'vertical'), 2)\n",
    "        #LH^k-2, HL^k-2\n",
    "        LH_left[k - 2] = down_sample(Y_left[k - 1], 2)\n",
    "        HL_left[k - 2] = down_sample(X_left[k - 1], 2)\n",
    "        #HH^k-2\n",
    "        tmp1 = convolve_2d(X_left[k], H_l, mode = 'horizontal')\n",
    "        tmp2 = convolve_2d(tmp1, H_l, mode = 'horizontal')\n",
    "        tmp3 = convolve_2d(tmp2, np.array([1,0,-1]) / np.sqrt(2), mode = 'vertical')\n",
    "        HH_left[k - 2] = np.sqrt(2) * down_sample(tmp3, 4)\n",
    "        #Right\n",
    "        #X_right\n",
    "        if (k == M):\n",
    "            tmp1 = convolve_2d(X_right[k], np.array([1, 0, 1]) / np.sqrt(2), mode = 'horizontal')\n",
    "            tmp2 = convolve_2d(tmp1, H_h, mode = 'vertical')\n",
    "            tmp3 = convolve_2d(tmp2, H_h, mode = 'vertical')\n",
    "            X_right[k - 1] = np.sqrt(2) * down_sample(tmp3, 2)\n",
    "        else:\n",
    "            tmp1 = convolve_2d(X_right[k], np.array([1, 0, 1]) / np.sqrt(2), mode = 'horizontal')\n",
    "            tmp2 = convolve_2d(tmp1, H_l, mode = 'vertical')\n",
    "            tmp3 = convolve_2d(tmp2, H_l, mode = 'vertical')\n",
    "            X_right[k - 1] = np.sqrt(2) * down_sample(tmp3, 2)\n",
    "        #Y_right\n",
    "        if (k == M):\n",
    "            tmp1 = convolve_2d(Y_right[k], H_h, mode = 'horizontal')\n",
    "            tmp2 = convolve_2d(tmp1, H_h, mode = 'horizontal')\n",
    "            tmp3 = convolve_2d(tmp2, np.array([1, 0, -1]) / np.sqrt(2), mode = 'vertical')\n",
    "            Y_right[k - 1] = np.sqrt(2) * down_sample(tmp3, 2)\n",
    "        else:\n",
    "            tmp1 = convolve_2d(Y_right[k], H_h, mode = 'horizontal')\n",
    "            tmp2 = convolve_2d(tmp1, H_h, mode = 'horizontal')\n",
    "            tmp3 = convolve_2d(tmp2, np.array([1, 0, 1]) / np.sqrt(2), mode = 'vertical')\n",
    "            Y_right[k - 1] = np.sqrt(2) * down_sample(tmp3, 2)\n",
    "        #LH_right\n",
    "        LH_right[k - 2] = down_sample(X_right[k - 1], 2)\n",
    "        #HL_right\n",
    "        HL_right[k - 2] = down_sample(Y_right[k - 1], 2)\n",
    "        #HH\n",
    "        if (k == M):\n",
    "            tmp1 = convolve_2d(X_right[k], np.array([1, 0, -1]) / np.sqrt(2), mode = 'horizontal')\n",
    "            tmp2 = convolve_2d(tmp1, H_h, mode = 'vertical')\n",
    "            tmp3 = convolve_2d(tmp2, H_h, mode = 'vertical')\n",
    "            HH_right[k - 2] = np.sqrt(2) * down_sample(tmp3, 4)\n",
    "        else:\n",
    "            tmp1 = convolve_2d(X_right[k], np.array([1, 0, -1]) / np.sqrt(2), mode = 'horizontal')\n",
    "            tmp2 = convolve_2d(tmp1, H_l, mode = 'vertical')\n",
    "            tmp3 = convolve_2d(tmp2, H_l, mode = 'vertical')\n",
    "            HH_right[k - 2] = np.sqrt(2) * down_sample(tmp3, 4)\n",
    "    LL_right = ll_right\n",
    "    LL_left = mean\n",
    "    for k in range(M - 1):\n",
    "        LL_right = pywt.idwt2([LL_right, (-LH_right[k].T, -HL_right[k].T, HH_right[k].T)], 'haar')\n",
    "        LL_left = pywt.idwt2([LL_left, (-LH_left[k].T, -HL_left[k].T, HH_left[k].T)], 'haar')\n",
    "    im = pywt.idwt2([LL_left.T, (-LH_left[M - 1].T, -HL_left[M - 1].T, LL_right.T)], 'haar')\n",
    "    return im, {\"LL_left\":LL_left, \"LH_left\":LH_left, \"HL_left\":HL_left, \"HH_left\":HH_left, \"LL_right\":LL_right}"
   ]
  },
  {
   "cell_type": "markdown",
   "metadata": {},
   "source": [
    "# Простая матрица"
   ]
  },
  {
   "cell_type": "code",
   "execution_count": 23,
   "metadata": {},
   "outputs": [
    {
     "data": {
      "text/plain": [
       "(array([[  1.,   2.,   9.,  10.],\n",
       "        [  5.,   6.,  13.,  14.],\n",
       "        [  3.,   4.,  11.,  12.],\n",
       "        [  7.,   8.,  15.,  16.]]),\n",
       " {'HH_left': {0: array([[ 0.]])},\n",
       "  'HL_left': {0: array([[ 4.]]), 1: array([[ 1.,  1.],\n",
       "          [ 1.,  1.]])},\n",
       "  'LH_left': {0: array([[ 16.]]), 1: array([[ 4.,  4.],\n",
       "          [ 4.,  4.]])},\n",
       "  'LL_left': array([[  7.,  11.],\n",
       "         [ 23.,  27.]]),\n",
       "  'LL_right': array([[ -1.62281403e-15,   2.06690324e-15],\n",
       "         [ -2.14540787e-15,   1.70131866e-15]])})"
      ]
     },
     "execution_count": 23,
     "metadata": {},
     "output_type": "execute_result"
    }
   ],
   "source": [
    "get_image_from_gradient(X_2, Y_2, mean=F_0_ll)"
   ]
  },
  {
   "cell_type": "markdown",
   "metadata": {},
   "source": [
    "# Изображение"
   ]
  },
  {
   "cell_type": "code",
   "execution_count": 24,
   "metadata": {},
   "outputs": [
    {
     "name": "stdout",
     "output_type": "stream",
     "text": [
      "[[ 5  5  5 ...,  7  7  7]\n",
      " [ 3  4  4 ...,  7  7  7]\n",
      " [ 3  3  3 ...,  7  7  7]\n",
      " ..., \n",
      " [ 2  2  2 ...,  9  9  9]\n",
      " [ 2  2  2 ..., 10 10 10]\n",
      " [ 2  2  2 ..., 10 10 10]]\n"
     ]
    }
   ],
   "source": [
    "import scipy.misc\n",
    "%matplotlib inline\n",
    "import matplotlib.pyplot as plt\n",
    "image = scipy.misc.imread(\"image.jpg\",mode='L')\n",
    "print(image)"
   ]
  },
  {
   "cell_type": "code",
   "execution_count": 25,
   "metadata": {
    "collapsed": true
   },
   "outputs": [],
   "source": [
    "X, Y = fried_model_gradient(image)"
   ]
  },
  {
   "cell_type": "markdown",
   "metadata": {},
   "source": [
    "# Не работает"
   ]
  },
  {
   "cell_type": "markdown",
   "metadata": {
    "collapsed": true
   },
   "source": [
    "Цернике\n"
   ]
  },
  {
   "cell_type": "code",
   "execution_count": 26,
   "metadata": {},
   "outputs": [
    {
     "data": {
      "text/plain": [
       "array([[5, 8, 5, 1],\n",
       "       [3, 1, 1, 3],\n",
       "       [3, 0, 9, 2],\n",
       "       [2, 2, 6, 4]])"
      ]
     },
     "execution_count": 26,
     "metadata": {},
     "output_type": "execute_result"
    }
   ],
   "source": [
    "import random\n",
    "exmpl = np.array([int(random.random() * 10) for i in range(16)])\n",
    "exmpl = exmpl.reshape(4,4)\n",
    "exmpl"
   ]
  },
  {
   "cell_type": "code",
   "execution_count": 27,
   "metadata": {
    "collapsed": true
   },
   "outputs": [],
   "source": [
    "X, Y = fried_model_gradient(exmpl)"
   ]
  },
  {
   "cell_type": "code",
   "execution_count": 28,
   "metadata": {},
   "outputs": [
    {
     "data": {
      "text/plain": [
       "(array([[  8.5,   5. ],\n",
       "        [  3.5,  10.5]]), (array([[ 4.5,  1. ],\n",
       "         [-0.5,  0.5]]), array([[-0.5,  1. ],\n",
       "         [ 1.5,  4.5]]), array([[-2.5,  3. ],\n",
       "         [ 1.5,  2.5]])))"
      ]
     },
     "execution_count": 28,
     "metadata": {},
     "output_type": "execute_result"
    }
   ],
   "source": [
    "coeffs = pywt.dwt2(exmpl, 'haar')\n",
    "coeffs"
   ]
  },
  {
   "cell_type": "code",
   "execution_count": 29,
   "metadata": {},
   "outputs": [
    {
     "data": {
      "text/plain": [
       "(array([[ 13.75]]), (array([[-0.25]]), array([[-1.75]]), array([[ 5.25]])))"
      ]
     },
     "execution_count": 29,
     "metadata": {},
     "output_type": "execute_result"
    }
   ],
   "source": [
    "coeffs_2 = pywt.dwt2(coeffs[0], 'haar')\n",
    "coeffs_2"
   ]
  },
  {
   "cell_type": "code",
   "execution_count": 30,
   "metadata": {},
   "outputs": [
    {
     "data": {
      "text/plain": [
       "(array([[ 2.25]]), (array([[-1.75]]), array([[-3.25]]), array([[-2.25]])))"
      ]
     },
     "execution_count": 30,
     "metadata": {},
     "output_type": "execute_result"
    }
   ],
   "source": [
    "coeffs_hh = pywt.dwt2(coeffs[1][-1], 'haar')\n",
    "coeffs_hh"
   ]
  },
  {
   "cell_type": "code",
   "execution_count": 31,
   "metadata": {},
   "outputs": [
    {
     "data": {
      "text/plain": [
       "array([[-0.5,  1. ],\n",
       "       [ 1.5,  4.5]])"
      ]
     },
     "execution_count": 31,
     "metadata": {},
     "output_type": "execute_result"
    }
   ],
   "source": [
    "HL_1 = -down_sample(X, 2).T\n",
    "HL_1"
   ]
  },
  {
   "cell_type": "code",
   "execution_count": 32,
   "metadata": {},
   "outputs": [
    {
     "data": {
      "text/plain": [
       "array([[ 4.5,  1. ],\n",
       "       [-0.5,  0.5]])"
      ]
     },
     "execution_count": 32,
     "metadata": {},
     "output_type": "execute_result"
    }
   ],
   "source": [
    "LH_1 = -down_sample(Y, 2).T\n",
    "LH_1"
   ]
  },
  {
   "cell_type": "code",
   "execution_count": 33,
   "metadata": {},
   "outputs": [
    {
     "data": {
      "text/plain": [
       "array([[-0.25]])"
      ]
     },
     "execution_count": 33,
     "metadata": {},
     "output_type": "execute_result"
    }
   ],
   "source": [
    "tmp1 = convolve_2d(Y, np.array([1,0,1]) / np.sqrt(2), mode = 'horizontal')\n",
    "tmp2 = convolve_2d(tmp1, H_l, mode = 'vertical')\n",
    "Y_1 = np.sqrt(2) * down_sample(convolve_2d(tmp2, H_l, mode = 'vertical'), 2)\n",
    "LH_0 = -down_sample(Y_1, 2).T\n",
    "LH_0"
   ]
  },
  {
   "cell_type": "code",
   "execution_count": 34,
   "metadata": {},
   "outputs": [
    {
     "data": {
      "text/plain": [
       "array([[-1.75]])"
      ]
     },
     "execution_count": 34,
     "metadata": {},
     "output_type": "execute_result"
    }
   ],
   "source": [
    "tmp1 = convolve_2d(X, H_l, mode='horizontal')\n",
    "tmp2 = convolve_2d(tmp1, H_l, mode='horizontal')\n",
    "X_1 = np.sqrt(2) * down_sample(convolve_2d(tmp2, np.array([1, 0, 1]) / np.sqrt(2), mode='vertical'), 2)\n",
    "HL_0 = -down_sample(X_1, 2).T\n",
    "HL_0"
   ]
  },
  {
   "cell_type": "code",
   "execution_count": 35,
   "metadata": {},
   "outputs": [
    {
     "data": {
      "text/plain": [
       "array([[ 5.25]])"
      ]
     },
     "execution_count": 35,
     "metadata": {},
     "output_type": "execute_result"
    }
   ],
   "source": [
    "tmp1 = convolve_2d(X, H_l, mode = 'horizontal')\n",
    "tmp2 = convolve_2d(tmp1, H_l, mode = 'horizontal')\n",
    "tmp3 = convolve_2d(tmp2, np.array([1,0,-1]) / np.sqrt(2), mode = 'vertical')\n",
    "HH_0 = np.sqrt(2) * down_sample(tmp3, 4)\n",
    "HH_0"
   ]
  },
  {
   "cell_type": "code",
   "execution_count": 36,
   "metadata": {
    "collapsed": true
   },
   "outputs": [],
   "source": [
    "LL_0 = np.array([[21.25]])"
   ]
  },
  {
   "cell_type": "code",
   "execution_count": 37,
   "metadata": {
    "collapsed": true
   },
   "outputs": [],
   "source": [
    "LL_1 = pywt.idwt2([LL_0, (LH_0, HL_0, HH_0)], 'haar')\n",
    "#HH_1 = np.zeros(4).reshape(2,2)\n",
    "HH_1 = np.array([[-1.5, -6.5],\n",
    "         [ 1. , -2.5]])"
   ]
  },
  {
   "cell_type": "code",
   "execution_count": null,
   "metadata": {
    "collapsed": true
   },
   "outputs": [],
   "source": []
  },
  {
   "cell_type": "code",
   "execution_count": 38,
   "metadata": {},
   "outputs": [
    {
     "data": {
      "text/plain": [
       "array([[  7.375,   9.375,   2.125,   7.625],\n",
       "       [  4.375,   3.375,   7.625,   0.125],\n",
       "       [  4.625,   2.125,   8.375,   6.375],\n",
       "       [  4.125,   3.625,  10.375,   3.375]])"
      ]
     },
     "execution_count": 38,
     "metadata": {},
     "output_type": "execute_result"
    }
   ],
   "source": [
    "res = pywt.idwt2([LL_1, (LH_1, HL_1, HH_1)], 'haar')\n",
    "res"
   ]
  },
  {
   "cell_type": "code",
   "execution_count": 39,
   "metadata": {},
   "outputs": [
    {
     "data": {
      "text/plain": [
       "10.796875000000007"
      ]
     },
     "execution_count": 39,
     "metadata": {},
     "output_type": "execute_result"
    }
   ],
   "source": [
    "mean_squared_error(res, exmpl)"
   ]
  },
  {
   "cell_type": "code",
   "execution_count": null,
   "metadata": {
    "collapsed": true
   },
   "outputs": [],
   "source": []
  },
  {
   "cell_type": "code",
   "execution_count": null,
   "metadata": {
    "collapsed": true
   },
   "outputs": [],
   "source": []
  }
 ],
 "metadata": {
  "kernelspec": {
   "display_name": "Python 3",
   "language": "python",
   "name": "python3"
  },
  "language_info": {
   "codemirror_mode": {
    "name": "ipython",
    "version": 3
   },
   "file_extension": ".py",
   "mimetype": "text/x-python",
   "name": "python",
   "nbconvert_exporter": "python",
   "pygments_lexer": "ipython3",
   "version": "3.6.1"
  }
 },
 "nbformat": 4,
 "nbformat_minor": 2
}
