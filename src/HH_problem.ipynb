{
 "cells": [
  {
   "cell_type": "code",
   "execution_count": 2,
   "metadata": {
    "collapsed": true
   },
   "outputs": [],
   "source": [
    "import lib\n",
    "import numpy as np\n",
    "import pywt\n",
    "H_h = np.array([1, -1])/np.sqrt(2)\n",
    "H_l = np.array([1, 1])/np.sqrt(2)\n",
    "G_l = H_l\n",
    "G_h = -H_h\n"
   ]
  },
  {
   "cell_type": "code",
   "execution_count": 19,
   "metadata": {
    "collapsed": true
   },
   "outputs": [],
   "source": [
    "def GetHHleft(m, X):\n",
    "    coef = np.power(np.sqrt(2), (m - 1))\n",
    "    tmp = X\n",
    "    for i in range (m - 1):\n",
    "        tmp = lib.convolve_2d(tmp, lib.GetH_l(2 ** i), 'horizontal')\n",
    "        tmp = lib.convolve_2d(tmp, lib.GetH_l(2 ** i), 'horizontal')\n",
    "    tmp = lib.convolve_2d(tmp, lib.GetH_h(2 ** m - 1), 'vertical')\n",
    "    for i  in range (1, m - 1):\n",
    "        tmp = lib.convolve_2d(tmp, lib.GetH_l(2 ** i), 'vertical')\n",
    "    #print (tmp)\n",
    "    return coef * lib.down_sample(tmp, 2 ** m)"
   ]
  },
  {
   "cell_type": "code",
   "execution_count": 37,
   "metadata": {},
   "outputs": [],
   "source": [
    "ex = np.random.rand(16 * 16).reshape(16, 16) * 10\n",
    "ex = ex.astype(int)"
   ]
  },
  {
   "cell_type": "code",
   "execution_count": 42,
   "metadata": {},
   "outputs": [],
   "source": [
    "X, Y = lib.fried_model_gradient(ex)"
   ]
  },
  {
   "cell_type": "code",
   "execution_count": 43,
   "metadata": {},
   "outputs": [
    {
     "data": {
      "text/plain": [
       "array([[  2.50000000e-01,  -1.00000000e+00,   6.75000000e+00,\n",
       "         -4.50000000e+00],\n",
       "       [  2.50000000e-01,   2.50000000e+00,  -2.00000000e+00,\n",
       "         -1.00000000e+00],\n",
       "       [  6.75000000e+00,  -2.25000000e+00,  -1.25607397e-15,\n",
       "          5.00000000e-01],\n",
       "       [  6.50000000e+00,   2.50000000e+00,  -5.50000000e+00,\n",
       "          3.50000000e+00]])"
      ]
     },
     "execution_count": 43,
     "metadata": {},
     "output_type": "execute_result"
    }
   ],
   "source": [
    "GetHHleft(2, X)"
   ]
  },
  {
   "cell_type": "code",
   "execution_count": 44,
   "metadata": {},
   "outputs": [
    {
     "data": {
      "text/plain": [
       "array([[ -3.00000000e+00,   4.44089210e-16,  -1.50000000e+00,\n",
       "         -1.00000000e+00,  -4.00000000e+00,   3.00000000e+00,\n",
       "          1.00000000e+00,   3.00000000e+00],\n",
       "       [  2.50000000e+00,  -4.00000000e+00,  -5.00000000e-01,\n",
       "         -4.00000000e+00,   1.00000000e+00,  -3.50000000e+00,\n",
       "         -5.00000000e-01,  -4.50000000e+00],\n",
       "       [  4.50000000e+00,   2.00000000e+00,  -4.00000000e+00,\n",
       "         -2.00000000e+00,   1.50000000e+00,  -2.00000000e+00,\n",
       "         -5.00000000e-01,   4.50000000e+00],\n",
       "       [ -7.00000000e+00,   5.00000000e-01,   2.50000000e+00,\n",
       "          6.00000000e+00,  -2.50000000e+00,   2.00000000e+00,\n",
       "         -2.00000000e+00,   3.00000000e+00],\n",
       "       [  6.00000000e+00,  -1.50000000e+00,  -3.00000000e+00,\n",
       "          1.50000000e+00,   1.00000000e+00,  -2.50000000e+00,\n",
       "         -2.00000000e+00,  -3.50000000e+00],\n",
       "       [ -5.00000000e-01,  -1.50000000e+00,   2.50000000e+00,\n",
       "          1.00000000e+00,   2.00000000e+00,   0.00000000e+00,\n",
       "         -4.00000000e+00,   0.00000000e+00],\n",
       "       [  0.00000000e+00,  -3.50000000e+00,  -1.00000000e+00,\n",
       "          2.50000000e+00,   4.50000000e+00,  -2.00000000e+00,\n",
       "         -7.00000000e+00,   0.00000000e+00],\n",
       "       [ -4.00000000e+00,   2.50000000e+00,  -6.00000000e+00,\n",
       "          5.00000000e-01,  -2.00000000e+00,   3.50000000e+00,\n",
       "         -3.50000000e+00,   2.22044605e-16]])"
      ]
     },
     "execution_count": 44,
     "metadata": {},
     "output_type": "execute_result"
    }
   ],
   "source": [
    "l1 = pywt.dwt2(ex, 'haar')\n",
    "l2 = pywt.dwt2(l1[0], 'haar')\n",
    "l1[1][-1]"
   ]
  },
  {
   "cell_type": "code",
   "execution_count": null,
   "metadata": {},
   "outputs": [],
   "source": []
  },
  {
   "cell_type": "code",
   "execution_count": null,
   "metadata": {
    "collapsed": true
   },
   "outputs": [],
   "source": []
  }
 ],
 "metadata": {
  "kernelspec": {
   "display_name": "Python 3",
   "language": "python",
   "name": "python3"
  },
  "language_info": {
   "codemirror_mode": {
    "name": "ipython",
    "version": 3
   },
   "file_extension": ".py",
   "mimetype": "text/x-python",
   "name": "python",
   "nbconvert_exporter": "python",
   "pygments_lexer": "ipython3",
   "version": "3.6.1"
  }
 },
 "nbformat": 4,
 "nbformat_minor": 2
}
